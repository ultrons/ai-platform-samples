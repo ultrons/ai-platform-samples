{
 "cells": [
  {
   "cell_type": "code",
   "execution_count": null,
   "metadata": {
    "id": "copyright"
   },
   "outputs": [],
   "source": [
    "# Copyright 2021 Google LLC\n",
    "#\n",
    "# Licensed under the Apache License, Version 2.0 (the \"License\");\n",
    "# you may not use this file except in compliance with the License.\n",
    "# You may obtain a copy of the License at\n",
    "#\n",
    "#     https://www.apache.org/licenses/LICENSE-2.0\n",
    "#\n",
    "# Unless required by applicable law or agreed to in writing, software\n",
    "# distributed under the License is distributed on an \"AS IS\" BASIS,\n",
    "# WITHOUT WARRANTIES OR CONDITIONS OF ANY KIND, either express or implied.\n",
    "# See the License for the specific language governing permissions and\n",
    "# limitations under the License.\n"
   ]
  },
  {
   "cell_type": "markdown",
   "metadata": {
    "id": "title:migration,new"
   },
   "source": [
    "# AI Platform SDK: Train and deploy an XGBoost model with pre-built containers (formerly hosted runtimes)\n",
    "\n"
   ]
  },
  {
   "cell_type": "markdown",
   "metadata": {
    "id": "install_aip"
   },
   "source": [
    "## Installation\n",
    "\n"
   ]
  },
  {
   "cell_type": "markdown",
   "metadata": {
    "id": "install_storage"
   },
   "source": [
    "Install the Google *cloud-storage* library as well.\n",
    "\n"
   ]
  },
  {
   "cell_type": "code",
   "execution_count": null,
   "metadata": {
    "id": "KyQ2Ul4WaTRU",
    "outputId": "1f23a96b-baf8-499c-9540-4d77aecaf1d9"
   },
   "outputs": [],
   "source": [
    "! pip3 install google-cloud-storage\n"
   ]
  },
  {
   "cell_type": "markdown",
   "metadata": {
    "id": "restart"
   },
   "source": [
    "### Restart the Kernel\n",
    "\n",
    "Once you've installed the AI Platform SDK and Google *cloud-storage*, you need to restart the notebook kernel so it can find the packages.\n",
    "\n"
   ]
  },
  {
   "cell_type": "code",
   "execution_count": null,
   "metadata": {
    "id": "mkVf4egRaTRW"
   },
   "outputs": [],
   "source": [
    "import os\n",
    "\n",
    "\n",
    "if not os.getenv(\"AUTORUN\"):\n",
    "    # Automatically restart kernel after installs\n",
    "    import IPython\n",
    "    app = IPython.Application.instance()\n",
    "    app.kernel.do_shutdown(True)\n"
   ]
  },
  {
   "cell_type": "markdown",
   "metadata": {
    "id": "before_you_begin"
   },
   "source": [
    "## Before you begin\n",
    "\n",
    "### GPU run-time\n",
    "\n",
    "*Make sure you're running this notebook in a GPU runtime if you have that option. In Colab, select* **Runtime > Change Runtime Type > GPU**\n",
    "\n",
    "### Set up your GCP project\n",
    "\n",
    "**The following steps are required, regardless of your notebook environment.**\n",
    "\n",
    "1. [Select or create a GCP project](https://console.cloud.google.com/cloud-resource-manager). When you first create an account, you get a $300 free credit towards your compute/storage costs.\n",
    "\n",
    "2. [Make sure that billing is enabled for your project.](https://cloud.google.com/billing/docs/how-to/modify-project)\n",
    "\n",
    "3. [Enable the AI Platform APIs and Compute Engine APIs.](https://console.cloud.google.com/flows/enableapi?apiid=ml.googleapis.com,compute_component)\n",
    "\n",
    "4. [Google Cloud SDK](https://cloud.google.com/sdk) is already installed in AI Platform Notebooks.\n",
    "\n",
    "5. Enter your project ID in the cell below. Then run the  cell to make sure the\n",
    "Cloud SDK uses the right project for all the commands in this notebook.\n",
    "\n",
    "**Note**: Jupyter runs lines prefixed with `!` as shell commands, and it interpolates Python variables prefixed with `$` into these commands.\n",
    "\n"
   ]
  },
  {
   "cell_type": "code",
   "execution_count": null,
   "metadata": {
    "id": "set_project_id"
   },
   "outputs": [],
   "source": [
    "PROJECT_ID = \"[your-project-id]\" #@param {type:\"string\"}\n"
   ]
  },
  {
   "cell_type": "code",
   "execution_count": null,
   "metadata": {
    "id": "autoset_project_id",
    "outputId": "a602456e-954a-4af0-f4a5-dfa1f35a908d"
   },
   "outputs": [],
   "source": [
    "if PROJECT_ID == \"\" or PROJECT_ID is None or PROJECT_ID == \"[your-project-id]\":\n",
    "    # Get your GCP project id from gcloud\n",
    "    shell_output = !gcloud config list --format 'value(core.project)' 2>/dev/null\n",
    "    PROJECT_ID = shell_output[0]\n",
    "    print(\"Project ID:\", PROJECT_ID)\n"
   ]
  },
  {
   "cell_type": "code",
   "execution_count": null,
   "metadata": {
    "id": "set_gcloud_project_id",
    "outputId": "6ffc197e-10d2-406d-a59a-185d203e235d"
   },
   "outputs": [],
   "source": [
    "! gcloud config set project $PROJECT_ID\n"
   ]
  },
  {
   "cell_type": "markdown",
   "metadata": {
    "id": "region"
   },
   "source": [
    "#### Region\n",
    "\n",
    "You can also change the `REGION` variable, which is used for operations\n",
    "throughout the rest of this notebook.  Below are regions supported for AI Platform. We recommend when possible, to choose the region closest to you.\n",
    "\n",
    "- Americas: `us-central1`\n",
    "- Europe: `europe-west4`\n",
    "- Asia Pacific: `asia-east1`\n",
    "\n",
    "You cannot use a Multi-Regional Storage bucket for training with AI Platform. Not all regions provide support for all AI Platform services. For the latest support per region, see [Region support for AI Platform services]()\n",
    "\n"
   ]
  },
  {
   "cell_type": "code",
   "execution_count": null,
   "metadata": {
    "id": "ZOKWWPEgaTRZ"
   },
   "outputs": [],
   "source": [
    "REGION = 'us-central1' #@param {type: \"string\"}\n"
   ]
  },
  {
   "cell_type": "markdown",
   "metadata": {
    "id": "timestamp"
   },
   "source": [
    "#### Timestamp\n",
    "\n",
    "If you are in a live tutorial session, you might be using a shared test account or project. To avoid name collisions between users on resources created, you create a timestamp for each instance session, and append onto the name of resources which will be created in this tutorial.\n",
    "\n"
   ]
  },
  {
   "cell_type": "code",
   "execution_count": null,
   "metadata": {
    "id": "s5-9blJNaTRa"
   },
   "outputs": [],
   "source": [
    "from datetime import datetime\n",
    "\n",
    "\n",
    "TIMESTAMP = datetime.now().strftime(\"%Y%m%d%H%M%S\")\n"
   ]
  },
  {
   "cell_type": "markdown",
   "metadata": {
    "id": "gcp_authenticate"
   },
   "source": [
    "### Authenticate your GCP account\n",
    "\n",
    "**If you are using AI Platform Notebooks**, your environment is already\n",
    "authenticated. Skip this step.\n",
    "\n",
    "*Note: If you are on an AI Platform notebook and run the cell, the cell knows to skip executing the authentication steps.*\n",
    "\n"
   ]
  },
  {
   "cell_type": "code",
   "execution_count": null,
   "metadata": {
    "id": "MkU__HblaTRa"
   },
   "outputs": [],
   "source": [
    "import os\n",
    "import sys\n",
    "\n",
    "# If you are running this notebook in Colab, run this cell and follow the\n",
    "# instructions to authenticate your Google Cloud account. This provides access\n",
    "# to your Cloud Storage bucket and lets you submit training jobs and prediction\n",
    "# requests.\n",
    "\n",
    "# If on AI Platform, then don't execute this code\n",
    "if not os.path.exists('/opt/deeplearning/metadata/env_version'):\n",
    "    if 'google.colab' in sys.modules:\n",
    "        from google.colab import auth as google_auth\n",
    "        google_auth.authenticate_user()\n",
    "\n",
    "    # If you are running this tutorial in a notebook locally, replace the string\n",
    "    # below with the path to your service account key and run this cell to\n",
    "    # authenticate your Google Cloud account.\n",
    "    else:\n",
    "        %env GOOGLE_APPLICATION_CREDENTIALS your_path_to_credentials.json\n",
    "\n",
    "    # Log in to your account on Google Cloud\n",
    "    ! gcloud auth login\n"
   ]
  },
  {
   "cell_type": "markdown",
   "metadata": {
    "id": "bucket:batch_prediction"
   },
   "source": [
    "### Create a Cloud Storage bucket\n",
    "\n",
    "**The following steps are required, regardless of your notebook environment.**\n",
    "\n",
    "This tutorial is designed to use training data that is in a public Cloud Storage bucket and a local Cloud Storage bucket for your batch predictions. You may alternatively use your own training data that you have stored in a local Cloud Storage bucket.\n",
    "\n",
    "Set the name of your Cloud Storage bucket below. It must be unique across all Cloud Storage buckets.\n",
    "\n"
   ]
  },
  {
   "cell_type": "code",
   "execution_count": null,
   "metadata": {
    "id": "bucket"
   },
   "outputs": [],
   "source": [
    "BUCKET_NAME = \"[your-bucket-name]\" #@param {type:\"string\"}\n"
   ]
  },
  {
   "cell_type": "code",
   "execution_count": null,
   "metadata": {
    "id": "autoset_bucket"
   },
   "outputs": [],
   "source": [
    "if BUCKET_NAME == \"\" or BUCKET_NAME is None or BUCKET_NAME == \"[your-bucket-name]\":\n",
    "    BUCKET_NAME = PROJECT_ID + \"aip-\" + TIMESTAMP\n"
   ]
  },
  {
   "cell_type": "markdown",
   "metadata": {
    "id": "create_bucket"
   },
   "source": [
    "**Only if your bucket doesn't already exist**: Run the following cell to create your Cloud Storage bucket.\n",
    "\n"
   ]
  },
  {
   "cell_type": "code",
   "execution_count": null,
   "metadata": {
    "id": "zBAe4hnoaTRc",
    "outputId": "97cb68af-7d3b-442f-9c3e-7961c290f6e5"
   },
   "outputs": [],
   "source": [
    "! gsutil mb -l $REGION gs://$BUCKET_NAME\n"
   ]
  },
  {
   "cell_type": "markdown",
   "metadata": {
    "id": "validate_bucket"
   },
   "source": [
    "Finally, validate access to your Cloud Storage bucket by examining its contents:\n",
    "\n"
   ]
  },
  {
   "cell_type": "code",
   "execution_count": null,
   "metadata": {
    "id": "1sFpszMlaTRd"
   },
   "outputs": [],
   "source": [
    "! gsutil ls -al gs://$BUCKET_NAME\n"
   ]
  },
  {
   "cell_type": "markdown",
   "metadata": {
    "id": "setup_vars"
   },
   "source": [
    "### Set up variables\n",
    "\n",
    "Next, set up some variables used throughout the tutorial.\n",
    "### Import libraries and define constants\n",
    "\n"
   ]
  },
  {
   "cell_type": "markdown",
   "metadata": {
    "id": "import_aip"
   },
   "source": [
    "#### Import AI Platform SDK\n",
    "\n",
    "Import the AI Platform SDK into our Python environment.\n",
    "\n"
   ]
  },
  {
   "cell_type": "code",
   "execution_count": null,
   "metadata": {
    "id": "ABxRhG9HaTRe"
   },
   "outputs": [],
   "source": [
    "import json\n",
    "import time\n",
    "\n",
    "\n",
    "from googleapiclient import discovery\n"
   ]
  },
  {
   "cell_type": "markdown",
   "metadata": {
    "id": "aip_constants"
   },
   "source": [
    "#### AI Platform constants\n",
    "\n",
    "Setup up the following constants for AI Platform:\n",
    "\n",
    "- `PARENT`: The AI Platform location root path for dataset, model and endpoint resources.\n",
    "\n"
   ]
  },
  {
   "cell_type": "code",
   "execution_count": null,
   "metadata": {
    "id": "PiqsVnv0aTRe"
   },
   "outputs": [],
   "source": [
    "# AI Platform location root path for your dataset, model and endpoint resources\n",
    "PARENT = \"projects/\" + PROJECT_ID + \"/locations/\" + REGION\n"
   ]
  },
  {
   "cell_type": "markdown",
   "metadata": {
    "id": "clients"
   },
   "source": [
    "## Clients\n",
    "\n",
    "The AI Platform SDK works as a client/server model. On your side (the Python script) you will create a client that sends requests and receives responses from the server (AI Platform).\n",
    "\n",
    "You will use several clients in this tutorial, so set them all up upfront.\n",
    "\n"
   ]
  },
  {
   "cell_type": "code",
   "execution_count": null,
   "metadata": {
    "id": "f35VsXENaTRf"
   },
   "outputs": [],
   "source": [
    "client = discovery.build(\"ml\", \"v1\")\n"
   ]
  },
  {
   "cell_type": "markdown",
   "metadata": {
    "id": "Y94mDnSvaTRf"
   },
   "source": [
    "## Prepare a trainer script"
   ]
  },
  {
   "cell_type": "markdown",
   "metadata": {
    "id": "nC85LEiAaTRf"
   },
   "source": [
    "### Package assembly"
   ]
  },
  {
   "cell_type": "code",
   "execution_count": null,
   "metadata": {
    "id": "jUqjiBWKaTRg"
   },
   "outputs": [],
   "source": [
    "# Make folder for python training script\n",
    "! rm -rf custom\n",
    "! mkdir custom\n",
    "\n",
    "# Add package information\n",
    "! touch custom/README.md\n",
    "\n",
    "setup_cfg = \"[egg_info]\\n\\\n",
    "tag_build =\\n\\\n",
    "tag_date = 0\"\n",
    "! echo \"$setup_cfg\" > custom/setup.cfg\n",
    "\n",
    "setup_py = \"import setuptools\\n\\\n",
    "setuptools.setup(\\n\\\n",
    "    install_requires=[\\n\\\n",
    "    ],\\n\\\n",
    "    packages=setuptools.find_packages())\" \n",
    "! echo \"$setup_py\" > custom/setup.py\n",
    "\n",
    "pkg_info = \"Metadata-Version: 1.0\\n\\\n",
    "Name: Custom XGBoost Iris\\n\\\n",
    "Version: 0.0.0\\n\\\n",
    "Summary: Demonstration training script\\n\\\n",
    "Home-page: www.google.com\\n\\\n",
    "Author: Google\\n\\\n",
    "Author-email: aferlitsch@google.com\\n\\\n",
    "License: Public\\n\\\n",
    "Description: Demo\\n\\\n",
    "Platform: AI Platform (Unified)\"\n",
    "! echo \"$pkg_info\" > custom/PKG-INFO\n",
    "\n",
    "# Make the training subfolder\n",
    "! mkdir custom/trainer\n",
    "! touch custom/trainer/__init__.py\n"
   ]
  },
  {
   "cell_type": "markdown",
   "metadata": {
    "id": "swLUnjkOaTRg"
   },
   "source": [
    "### Task.py contents"
   ]
  },
  {
   "cell_type": "code",
   "execution_count": null,
   "metadata": {
    "id": "49ryRrhuaTRg",
    "outputId": "ef082f58-2678-4969-ba92-e9437007e265"
   },
   "outputs": [],
   "source": [
    "%%writefile custom/trainer/task.py\n",
    "# Single Instance Training for Iris\n",
    "\n",
    "import datetime\n",
    "import os\n",
    "import subprocess\n",
    "import sys\n",
    "import pandas as pd\n",
    "import xgboost as xgb\n",
    "\n",
    "import argparse\n",
    "\n",
    "parser = argparse.ArgumentParser()\n",
    "parser.add_argument('--model-dir', dest='model_dir',\n",
    "                    default=os.getenv('AIP_MODEL_DIR'), type=str, help='Model dir.')\n",
    "args = parser.parse_args()\n",
    "\n",
    "# Download data\n",
    "iris_data_filename = 'iris_data.csv'\n",
    "iris_target_filename = 'iris_target.csv'\n",
    "data_dir = 'gs://cloud-samples-data/ai-platform/iris'\n",
    "\n",
    "# gsutil outputs everything to stderr so we need to divert it to stdout.\n",
    "subprocess.check_call(['gsutil', 'cp', os.path.join(data_dir,\n",
    "                                                    iris_data_filename),\n",
    "                       iris_data_filename], stderr=sys.stdout)\n",
    "subprocess.check_call(['gsutil', 'cp', os.path.join(data_dir,\n",
    "                                                    iris_target_filename),\n",
    "                       iris_target_filename], stderr=sys.stdout)\n",
    "\n",
    "\n",
    "# Load data into pandas, then use `.values` to get NumPy arrays\n",
    "iris_data = pd.read_csv(iris_data_filename).values\n",
    "iris_target = pd.read_csv(iris_target_filename).values\n",
    "\n",
    "# Convert one-column 2D array into 1D array for use with XGBoost\n",
    "iris_target = iris_target.reshape((iris_target.size,))\n",
    "\n",
    "\n",
    "# Load data into DMatrix object\n",
    "dtrain = xgb.DMatrix(iris_data, label=iris_target)\n",
    "\n",
    "# Train XGBoost model\n",
    "bst = xgb.train({}, dtrain, 20)\n",
    "\n",
    "# Export the classifier to a file\n",
    "model_filename = 'model.bst'\n",
    "bst.save_model(model_filename)\n",
    "\n",
    "\n",
    "# Upload the saved model file to Cloud Storage\n",
    "gcs_model_path = os.path.join(args.model_dir, model_filename)\n",
    "subprocess.check_call(['gsutil', 'cp', model_filename, gcs_model_path],\n",
    "    stderr=sys.stdout)\n"
   ]
  },
  {
   "cell_type": "markdown",
   "metadata": {
    "id": "ZK8L6hTNaTRg"
   },
   "source": [
    "### Store training script on your Cloud Storage bucket"
   ]
  },
  {
   "cell_type": "code",
   "execution_count": null,
   "metadata": {
    "id": "I47eBUkzaTRh",
    "outputId": "1d2c867e-ff50-48ab-8f6e-8027a00c9c99"
   },
   "outputs": [],
   "source": [
    "! rm -f custom.tar custom.tar.gz\n",
    "! tar cvf custom.tar custom\n",
    "! gzip custom.tar\n",
    "! gsutil cp custom.tar.gz gs://$BUCKET_NAME/iris.tar.gz\n",
    "    "
   ]
  },
  {
   "cell_type": "markdown",
   "metadata": {
    "id": "text_create_and_deploy_model:migration"
   },
   "source": [
    "## Train a model"
   ]
  },
  {
   "cell_type": "markdown",
   "metadata": {
    "id": "0oqIBOSnJjkW"
   },
   "source": [
    "### [projects.jobs.create](https://cloud.google.com/ai-platform/training/docs/reference/rest/v1/projects.jobs/create)"
   ]
  },
  {
   "cell_type": "markdown",
   "metadata": {
    "id": "v7mIfIzWaTRi"
   },
   "source": [
    "#### Request"
   ]
  },
  {
   "cell_type": "code",
   "execution_count": null,
   "metadata": {
    "id": "8_84f21UaTRi",
    "outputId": "e4830569-4574-4afd-d2dc-f70a73a65679"
   },
   "outputs": [],
   "source": [
    "JOB_NAME = \"custom_job_XGB\" + TIMESTAMP\n",
    "\n",
    "training_input = {\n",
    "    \"scaleTier\": \"BASIC\",\n",
    "    \"packageUris\": [\"gs://\" + BUCKET_NAME + \"/iris.tar.gz\"],\n",
    "    \"pythonModule\": \"trainer.task\",\n",
    "    \"args\": [\n",
    "        \"--model-dir=\" + 'gs://{}/{}'.format(BUCKET_NAME, JOB_NAME)\n",
    "    ],\n",
    "    \"region\": REGION,\n",
    "    \"runtimeVersion\": \"2.4\",\n",
    "    \"pythonVersion\": \"3.7\"\n",
    "}\n",
    "\n",
    "body = {\"jobId\": JOB_NAME, \"trainingInput\": training_input}\n",
    "\n",
    "request = client.projects().jobs().create(\n",
    "    parent=\"projects/\" + PROJECT_ID\n",
    ")\n",
    "request.body = body\n",
    "\n",
    "print(json.dumps(json.loads(request.to_json()), indent=2))\n",
    "\n",
    "request = client.projects().jobs().create(\n",
    "    parent=\"projects/\" + PROJECT_ID,\n",
    "    body=body\n",
    ")\n"
   ]
  },
  {
   "cell_type": "markdown",
   "metadata": {
    "id": "datasets_import:migration,new,request"
   },
   "source": [
    "*Example output*:\n",
    "```\n",
    "{\n",
    "  \"uri\": \"https://ml.googleapis.com/v1/projects/f33-ucaip-training/jobs?alt=json\",\n",
    "  \"method\": \"POST\",\n",
    "  \"body\": {\n",
    "    \"jobId\": \"custom_job_XGB20210302154841\",\n",
    "    \"trainingInput\": {\n",
    "      \"scaleTier\": \"BASIC\",\n",
    "      \"packageUris\": [\n",
    "        \"gs://f33-ucaip-trainingaip-20210302154841/iris.tar.gz\"\n",
    "      ],\n",
    "      \"pythonModule\": \"trainer.task\",\n",
    "      \"args\": [\n",
    "        \"--model-dir=gs://f33-ucaip-trainingaip-20210302154841/custom_job_XGB20210302154841\"\n",
    "      ],\n",
    "      \"region\": \"us-central1\",\n",
    "      \"runtimeVersion\": \"2.4\",\n",
    "      \"pythonVersion\": \"3.7\"\n",
    "    }\n",
    "  },\n",
    "  \"headers\": {\n",
    "    \"accept\": \"application/json\",\n",
    "    \"accept-encoding\": \"gzip, deflate\",\n",
    "    \"user-agent\": \"(gzip)\",\n",
    "    \"x-goog-api-client\": \"gdcl/1.12.8 gl-python/3.7.8\"\n",
    "  },\n",
    "  \"methodId\": \"ml.projects.jobs.create\",\n",
    "  \"resumable\": null,\n",
    "  \"response_callbacks\": [],\n",
    "  \"_in_error_state\": false,\n",
    "  \"body_size\": 0,\n",
    "  \"resumable_uri\": null,\n",
    "  \"resumable_progress\": 0\n",
    "}\n",
    "```\n",
    "\n"
   ]
  },
  {
   "cell_type": "markdown",
   "metadata": {
    "id": "tZySnxxuaTRi"
   },
   "source": [
    "#### Call"
   ]
  },
  {
   "cell_type": "code",
   "execution_count": null,
   "metadata": {
    "id": "_H3xV191aTRj"
   },
   "outputs": [],
   "source": [
    "result = request.execute()\n"
   ]
  },
  {
   "cell_type": "markdown",
   "metadata": {
    "id": "vbwW_N-eaTRj"
   },
   "source": [
    "#### Response"
   ]
  },
  {
   "cell_type": "code",
   "execution_count": null,
   "metadata": {
    "id": "Z6D71QmqaTRj",
    "outputId": "cba76ecc-ec2d-4644-a8f7-b93300722e08"
   },
   "outputs": [],
   "source": [
    "print(json.dumps(result, indent=2))\n"
   ]
  },
  {
   "cell_type": "markdown",
   "metadata": {
    "id": "5xOLmTpKaTRj"
   },
   "source": [
    "*Example output*:\n",
    "```\n",
    "{\n",
    "  \"jobId\": \"custom_job_XGB20210302154841\",\n",
    "  \"trainingInput\": {\n",
    "    \"packageUris\": [\n",
    "      \"gs://f33-ucaip-trainingaip-20210302154841/iris.tar.gz\"\n",
    "    ],\n",
    "    \"pythonModule\": \"trainer.task\",\n",
    "    \"args\": [\n",
    "      \"--model-dir=gs://f33-ucaip-trainingaip-20210302154841/custom_job_XGB20210302154841\"\n",
    "    ],\n",
    "    \"region\": \"us-central1\",\n",
    "    \"runtimeVersion\": \"2.4\",\n",
    "    \"pythonVersion\": \"3.7\"\n",
    "  },\n",
    "  \"createTime\": \"2021-03-02T15:50:12Z\",\n",
    "  \"state\": \"QUEUED\",\n",
    "  \"trainingOutput\": {},\n",
    "  \"etag\": \"PmcK2JEDnJM=\"\n",
    "}\n",
    "```\n",
    "\n"
   ]
  },
  {
   "cell_type": "code",
   "execution_count": null,
   "metadata": {
    "id": "training_pipeline_id:migration,new,response",
    "outputId": "323e9330-9e8d-47d7-dd96-dd5a35ac1494"
   },
   "outputs": [],
   "source": [
    "# The short numeric ID for the custom training job\n",
    "custom_training_short_id = result[\"jobId\"]\n",
    "# The full unique ID for the custom training job\n",
    "custom_training_id = \"projects/\" + PROJECT_ID + \"/jobs/\" + result[\"jobId\"]\n",
    "\n",
    "print(custom_training_id)\n"
   ]
  },
  {
   "cell_type": "markdown",
   "metadata": {
    "id": "EXSBAbs_aTRk"
   },
   "source": [
    "### [projects.jobs.get](https://cloud.google.com/ai-platform/training/docs/reference/rest/v1/projects.jobs/get)"
   ]
  },
  {
   "cell_type": "markdown",
   "metadata": {
    "id": "qQawJaAEaTRk"
   },
   "source": [
    "#### Call"
   ]
  },
  {
   "cell_type": "code",
   "execution_count": null,
   "metadata": {
    "id": "a_9aXJKHaTRk"
   },
   "outputs": [],
   "source": [
    "request = client.projects().jobs().get(\n",
    "    name=custom_training_id\n",
    ")\n",
    "\n",
    "result = request.execute()\n"
   ]
  },
  {
   "cell_type": "markdown",
   "metadata": {
    "id": "bCd7K6WjaTRk"
   },
   "source": [
    "#### Response"
   ]
  },
  {
   "cell_type": "code",
   "execution_count": null,
   "metadata": {
    "id": "xI_osgwsaTRl",
    "outputId": "2d89c9e7-059e-4598-a3c9-d1f583338215"
   },
   "outputs": [],
   "source": [
    "print(json.dumps(result, indent=2))\n"
   ]
  },
  {
   "cell_type": "markdown",
   "metadata": {
    "id": "EkwQk94iaTRl"
   },
   "source": [
    "*Example output*:\n",
    "```\n",
    "{\n",
    "  \"jobId\": \"custom_job_XGB20210302154841\",\n",
    "  \"trainingInput\": {\n",
    "    \"packageUris\": [\n",
    "      \"gs://f33-ucaip-trainingaip-20210302154841/iris.tar.gz\"\n",
    "    ],\n",
    "    \"pythonModule\": \"trainer.task\",\n",
    "    \"args\": [\n",
    "      \"--model-dir=gs://f33-ucaip-trainingaip-20210302154841/custom_job_XGB20210302154841\"\n",
    "    ],\n",
    "    \"region\": \"us-central1\",\n",
    "    \"runtimeVersion\": \"2.4\",\n",
    "    \"pythonVersion\": \"3.7\"\n",
    "  },\n",
    "  \"createTime\": \"2021-03-02T15:50:12Z\",\n",
    "  \"state\": \"PREPARING\",\n",
    "  \"trainingOutput\": {},\n",
    "  \"etag\": \"L+085Kgm1Wo=\"\n",
    "}\n",
    "```\n",
    "\n"
   ]
  },
  {
   "cell_type": "code",
   "execution_count": null,
   "metadata": {
    "id": "trainingpipelines_get:migration,new,wait",
    "outputId": "c39afa7f-3d6e-4240-9860-445a394a1570"
   },
   "outputs": [],
   "source": [
    "while True:\n",
    "    response = client.projects().jobs().get(name=custom_training_id).execute()\n",
    "\n",
    "    if response[\"state\"] != \"SUCCEEDED\":\n",
    "        print(\"Training job has not completed:\", response[\"state\"])\n",
    "        if response[\"state\"] == \"FAILED\":\n",
    "            break\n",
    "    else:\n",
    "        break\n",
    "    time.sleep(60)\n",
    "\n",
    "# model artifact output directory on Google Cloud Storage  \n",
    "model_artifact_dir = response[\"trainingInput\"][\"args\"][0].split(\"=\")[-1]\n",
    "print(\"artifact location  \" + model_artifact_dir)\n"
   ]
  },
  {
   "cell_type": "markdown",
   "metadata": {
    "id": "_2zUfQ3HaTRl"
   },
   "source": [
    "## Deploy the model"
   ]
  },
  {
   "cell_type": "markdown",
   "metadata": {
    "id": "uuMhstTYaTRl"
   },
   "source": [
    "### [projects.models.create](https://cloud.google.com/ai-platform/prediction/docs/reference/rest/v1/projects.models/create)"
   ]
  },
  {
   "cell_type": "markdown",
   "metadata": {
    "id": "UGvtc-O6aTRm"
   },
   "source": [
    "#### Request"
   ]
  },
  {
   "cell_type": "code",
   "execution_count": null,
   "metadata": {
    "id": "pWfw2rPGaTRm",
    "outputId": "eb23c95c-5cc4-4483-9959-20e6d79893ff"
   },
   "outputs": [],
   "source": [
    "body = {\n",
    "    \"name\": \"custom_job_XGB\" + TIMESTAMP\n",
    "}\n",
    "\n",
    "request = client.projects().models().create(\n",
    "    parent=\"projects/\" + PROJECT_ID\n",
    ")\n",
    "request.body = json.loads(json.dumps(body, indent=2))\n",
    "\n",
    "print(json.dumps(json.loads(request.to_json()), indent=2))\n",
    "\n",
    "request = client.projects().models().create(\n",
    "    parent=\"projects/\" + PROJECT_ID,\n",
    "    body=body\n",
    ")\n"
   ]
  },
  {
   "cell_type": "markdown",
   "metadata": {
    "id": "zGiLpVSKaTRm"
   },
   "source": [
    "*Example output*:\n",
    "```\n",
    "{\n",
    "  \"uri\": \"https://ml.googleapis.com/v1/projects/f33-ucaip-training/models?alt=json\",\n",
    "  \"method\": \"POST\",\n",
    "  \"body\": {\n",
    "    \"name\": \"custom_job_XGB20210302154841\"\n",
    "  },\n",
    "  \"headers\": {\n",
    "    \"accept\": \"application/json\",\n",
    "    \"accept-encoding\": \"gzip, deflate\",\n",
    "    \"user-agent\": \"(gzip)\",\n",
    "    \"x-goog-api-client\": \"gdcl/1.12.8 gl-python/3.7.8\"\n",
    "  },\n",
    "  \"methodId\": \"ml.projects.models.create\",\n",
    "  \"resumable\": null,\n",
    "  \"response_callbacks\": [],\n",
    "  \"_in_error_state\": false,\n",
    "  \"body_size\": 0,\n",
    "  \"resumable_uri\": null,\n",
    "  \"resumable_progress\": 0\n",
    "}\n",
    "```\n",
    "\n"
   ]
  },
  {
   "cell_type": "markdown",
   "metadata": {
    "id": "VDkiEXHsaTRm"
   },
   "source": [
    "#### Call"
   ]
  },
  {
   "cell_type": "code",
   "execution_count": null,
   "metadata": {
    "id": "dQhpRTy6aTRm"
   },
   "outputs": [],
   "source": [
    "result = request.execute()\n"
   ]
  },
  {
   "cell_type": "markdown",
   "metadata": {
    "id": "L6l6Li59aTRn"
   },
   "source": [
    "#### Response"
   ]
  },
  {
   "cell_type": "code",
   "execution_count": null,
   "metadata": {
    "id": "NcOYGasraTRn",
    "outputId": "3cc3a623-e17d-4713-dcc8-f5398430c8a0"
   },
   "outputs": [],
   "source": [
    "print(json.dumps(result, indent=2))\n"
   ]
  },
  {
   "cell_type": "markdown",
   "metadata": {
    "id": "8Au9SgRdaTRn"
   },
   "source": [
    "*Example output*:\n",
    "```\n",
    "{\n",
    "  \"name\": \"projects/f33-ucaip-training/models/custom_job_XGB20210302154841\",\n",
    "  \"regions\": [\n",
    "    \"us-central1\"\n",
    "  ],\n",
    "  \"etag\": \"4gQZjQgH2sc=\"\n",
    "}\n",
    "```\n",
    "\n"
   ]
  },
  {
   "cell_type": "code",
   "execution_count": null,
   "metadata": {
    "id": "30f7R83UaTRn"
   },
   "outputs": [],
   "source": [
    "model_id = result[\"name\"]\n"
   ]
  },
  {
   "cell_type": "markdown",
   "metadata": {
    "id": "tXR5mKGfaTRo"
   },
   "source": [
    "### [projects.models.versions.create](https://cloud.google.com/ai-platform/prediction/docs/reference/rest/v1/projects.models.versions/create)"
   ]
  },
  {
   "cell_type": "markdown",
   "metadata": {
    "id": "ZJhWlWJ0aTRo"
   },
   "source": [
    "#### Request"
   ]
  },
  {
   "cell_type": "code",
   "execution_count": null,
   "metadata": {
    "id": "973d-m48aTRo",
    "outputId": "cd012bde-fe8a-4d9d-90ac-18e3c9af186b"
   },
   "outputs": [],
   "source": [
    "version = {\n",
    "    \"name\":\"custom_job_XGB\" + TIMESTAMP,\n",
    "    \"deploymentUri\": model_artifact_dir,\n",
    "    \"runtimeVersion\": \"2.1\",\n",
    "    \"framework\": \"XGBOOST\",\n",
    "    \"pythonVersion\": \"3.7\",\n",
    "    \"machineType\": \"mls1-c1-m2\"\n",
    "}\n",
    "\n",
    "request = client.projects().models().versions().create(\n",
    "    parent=model_id,\n",
    ")\n",
    "request.body = version\n",
    "\n",
    "print(json.dumps(json.loads(request.to_json()), indent=2))\n",
    "\n",
    "request = client.projects().models().versions().create(\n",
    "    parent=model_id,\n",
    "    body=version\n",
    ")\n"
   ]
  },
  {
   "cell_type": "markdown",
   "metadata": {
    "id": "1-M1ydRDaTRo"
   },
   "source": [
    "*Example output*:\n",
    "```\n",
    "{\n",
    "  \"uri\": \"https://ml.googleapis.com/v1/projects/f33-ucaip-training/models/custom_job_XGB20210302154841/versions?alt=json\",\n",
    "  \"method\": \"POST\",\n",
    "  \"body\": {\n",
    "    \"name\": \"custom_job_XGB20210302154841\",\n",
    "    \"deploymentUri\": \"gs://f33-ucaip-trainingaip-20210302154841/custom_job_XGB20210302154841\",\n",
    "    \"runtimeVersion\": \"2.1\",\n",
    "    \"framework\": \"XGBOOST\",\n",
    "    \"pythonVersion\": \"3.7\",\n",
    "    \"machineType\": \"mls1-c1-m2\"\n",
    "  },\n",
    "  \"headers\": {\n",
    "    \"accept\": \"application/json\",\n",
    "    \"accept-encoding\": \"gzip, deflate\",\n",
    "    \"user-agent\": \"(gzip)\",\n",
    "    \"x-goog-api-client\": \"gdcl/1.12.8 gl-python/3.7.8\"\n",
    "  },\n",
    "  \"methodId\": \"ml.projects.models.versions.create\",\n",
    "  \"resumable\": null,\n",
    "  \"response_callbacks\": [],\n",
    "  \"_in_error_state\": false,\n",
    "  \"body_size\": 0,\n",
    "  \"resumable_uri\": null,\n",
    "  \"resumable_progress\": 0\n",
    "}\n",
    "```\n",
    "\n"
   ]
  },
  {
   "cell_type": "markdown",
   "metadata": {
    "id": "9hljh6e1aTRo"
   },
   "source": [
    "#### Call"
   ]
  },
  {
   "cell_type": "code",
   "execution_count": null,
   "metadata": {
    "id": "OLHF4f11aTRo"
   },
   "outputs": [],
   "source": [
    "result = request.execute()\n"
   ]
  },
  {
   "cell_type": "markdown",
   "metadata": {
    "id": "8H1G9OfKaTRp"
   },
   "source": [
    "#### Response"
   ]
  },
  {
   "cell_type": "code",
   "execution_count": null,
   "metadata": {
    "id": "9hAOwaLIaTRp",
    "outputId": "e16cb890-f109-4ab9-9489-f4f0613fc368"
   },
   "outputs": [],
   "source": [
    "print(json.dumps(result, indent=2))\n"
   ]
  },
  {
   "cell_type": "markdown",
   "metadata": {
    "id": "NM0ypd6JaTRp"
   },
   "source": [
    "*Example output*:\n",
    "```\n",
    "{\n",
    "  \"name\": \"projects/f33-ucaip-training/operations/create_custom_job_XGB20210302154841_custom_job_XGB20210302154841-1614701495149\",\n",
    "  \"metadata\": {\n",
    "    \"@type\": \"type.googleapis.com/google.cloud.ml.v1.OperationMetadata\",\n",
    "    \"createTime\": \"2021-03-02T16:11:35Z\",\n",
    "    \"operationType\": \"CREATE_VERSION\",\n",
    "    \"modelName\": \"projects/f33-ucaip-training/models/custom_job_XGB20210302154841\",\n",
    "    \"version\": {\n",
    "      \"name\": \"projects/f33-ucaip-training/models/custom_job_XGB20210302154841/versions/custom_job_XGB20210302154841\",\n",
    "      \"deploymentUri\": \"gs://f33-ucaip-trainingaip-20210302154841/custom_job_XGB20210302154841\",\n",
    "      \"createTime\": \"2021-03-02T16:11:35Z\",\n",
    "      \"runtimeVersion\": \"2.1\",\n",
    "      \"etag\": \"t71tF0fa60o=\",\n",
    "      \"framework\": \"XGBOOST\",\n",
    "      \"machineType\": \"mls1-c1-m2\",\n",
    "      \"pythonVersion\": \"3.7\"\n",
    "    }\n",
    "  }\n",
    "}\n",
    "```\n",
    "\n"
   ]
  },
  {
   "cell_type": "code",
   "execution_count": null,
   "metadata": {
    "id": "et42NCWeaTRp",
    "outputId": "89bd791e-51cf-4551-9c93-746613bf480b"
   },
   "outputs": [],
   "source": [
    "# The full unique ID for the model version\n",
    "model_version_name = result[\"metadata\"][\"version\"][\"name\"]\n",
    "\n",
    "print(model_version_name)\n"
   ]
  },
  {
   "cell_type": "code",
   "execution_count": null,
   "metadata": {
    "id": "oW51fpAuaTRq",
    "outputId": "05c274d1-428a-4fd8-a53a-faed2ff9e09c"
   },
   "outputs": [],
   "source": [
    "while True:\n",
    "    response = client.projects().models().versions().get(\n",
    "        name=model_version_name\n",
    "    ).execute()\n",
    "    if response[\"state\"] == \"READY\":\n",
    "        print(\"Model version created.\")\n",
    "        break\n",
    "    time.sleep(60)\n"
   ]
  },
  {
   "cell_type": "markdown",
   "metadata": {
    "id": "make_batch_predictions:migration"
   },
   "source": [
    "## Make batch predictions\n",
    "\n"
   ]
  },
  {
   "cell_type": "markdown",
   "metadata": {
    "id": "sIZwfjB0aTRq"
   },
   "source": [
    "Batch prediction only supports Tensorflow. FRAMEWORK_SCIKIT_LEARN is not currently available."
   ]
  },
  {
   "cell_type": "markdown",
   "metadata": {
    "id": "8GHHce4oaTRq"
   },
   "source": [
    "## Make online predictions"
   ]
  },
  {
   "cell_type": "code",
   "execution_count": null,
   "metadata": {
    "id": "get_test_items:automl,icn,csv"
   },
   "outputs": [],
   "source": [
    "INSTANCES = [\n",
    "    [1.4, 1.3, 5.1, 2.8],\n",
    "    [1.5, 1.2, 4.7, 2.4]\n",
    "]\n",
    "    "
   ]
  },
  {
   "cell_type": "markdown",
   "metadata": {
    "id": "o3nuEi6aaTRr"
   },
   "source": [
    "### Prepare file for online prediction"
   ]
  },
  {
   "cell_type": "markdown",
   "metadata": {
    "id": "anWJoMHbaTRr"
   },
   "source": [
    "### [projects.predict](https://cloud.google.com/ai-platform/prediction/docs/reference/rest/v1/projects/predict)"
   ]
  },
  {
   "cell_type": "markdown",
   "metadata": {
    "id": "MsCrcvGxaTRr"
   },
   "source": [
    "#### Request"
   ]
  },
  {
   "cell_type": "code",
   "execution_count": null,
   "metadata": {
    "id": "fJbAj2AOaTRr",
    "outputId": "d7dae0bc-2da5-4258-e1b1-dabb2c73e046"
   },
   "outputs": [],
   "source": [
    "request = client.projects().predict(\n",
    "        name=model_version_name,\n",
    ")\n",
    "request.body = json.loads(json.dumps({'instances': INSTANCES}, indent=2))\n",
    "\n",
    "print(json.dumps(json.loads(request.to_json()), indent=2))\n",
    "\n",
    "request = client.projects().predict(\n",
    "    name=model_version_name,\n",
    "    body={'instances': INSTANCES}\n",
    ")\n"
   ]
  },
  {
   "cell_type": "markdown",
   "metadata": {
    "id": "KbyjXjwaaTRr"
   },
   "source": [
    "*Example output*:\n",
    "```\n",
    "{\n",
    "  \"uri\": \"https://ml.googleapis.com/v1/projects/f33-ucaip-training/models/custom_job_XGB20210302154841/versions/custom_job_XGB20210302154841:predict?alt=json\",\n",
    "  \"method\": \"POST\",\n",
    "  \"body\": {\n",
    "    \"instances\": [\n",
    "      [\n",
    "        1.4,\n",
    "        1.3,\n",
    "        5.1,\n",
    "        2.8\n",
    "      ],\n",
    "      [\n",
    "        1.5,\n",
    "        1.2,\n",
    "        4.7,\n",
    "        2.4\n",
    "      ]\n",
    "    ]\n",
    "  },\n",
    "  \"headers\": {\n",
    "    \"accept\": \"application/json\",\n",
    "    \"accept-encoding\": \"gzip, deflate\",\n",
    "    \"user-agent\": \"(gzip)\",\n",
    "    \"x-goog-api-client\": \"gdcl/1.12.8 gl-python/3.7.8\"\n",
    "  },\n",
    "  \"methodId\": \"ml.projects.predict\",\n",
    "  \"resumable\": null,\n",
    "  \"response_callbacks\": [],\n",
    "  \"_in_error_state\": false,\n",
    "  \"body_size\": 0,\n",
    "  \"resumable_uri\": null,\n",
    "  \"resumable_progress\": 0\n",
    "}\n",
    "```\n",
    "\n"
   ]
  },
  {
   "cell_type": "markdown",
   "metadata": {
    "id": "CnrfMAOHaTRs"
   },
   "source": [
    "#### Call"
   ]
  },
  {
   "cell_type": "code",
   "execution_count": null,
   "metadata": {
    "id": "Pok1QLZfaTRs"
   },
   "outputs": [],
   "source": [
    "result = request.execute()\n"
   ]
  },
  {
   "cell_type": "markdown",
   "metadata": {
    "id": "s9VyPDINaTRs"
   },
   "source": [
    "#### Response"
   ]
  },
  {
   "cell_type": "code",
   "execution_count": null,
   "metadata": {
    "id": "5KxN4GC1aTRs",
    "outputId": "47df6640-31a5-4a33-a822-80eefaccfd74"
   },
   "outputs": [],
   "source": [
    "print(json.dumps(result, indent=2))\n"
   ]
  },
  {
   "cell_type": "markdown",
   "metadata": {
    "id": "iJFHIcmzaTRs"
   },
   "source": [
    "*Example output*:\n",
    "```\n",
    "{\n",
    "  \"predictions\": [\n",
    "    [],\n",
    "    []\n",
    "  ]\n",
    "}\n",
    "```\n",
    "\n"
   ]
  },
  {
   "cell_type": "markdown",
   "metadata": {
    "id": "wnJ8nQVZaTRs"
   },
   "source": [
    "### [projects.models.versions.delete](https://cloud.google.com/ai-platform/prediction/docs/reference/rest/v1/projects.models.versions/delete)"
   ]
  },
  {
   "cell_type": "markdown",
   "metadata": {
    "id": "Kf1HH1GMaTRt"
   },
   "source": [
    "#### Request"
   ]
  },
  {
   "cell_type": "code",
   "execution_count": null,
   "metadata": {
    "id": "alPNxY6NaTRt"
   },
   "outputs": [],
   "source": [
    "request = client.projects().models().versions().delete(\n",
    "    name=model_version_name\n",
    ")\n"
   ]
  },
  {
   "cell_type": "markdown",
   "metadata": {
    "id": "cYpvzoEoaTRt"
   },
   "source": [
    "#### Call"
   ]
  },
  {
   "cell_type": "code",
   "execution_count": null,
   "metadata": {
    "id": "ueUWt7BOaTRt"
   },
   "outputs": [],
   "source": [
    "response = request.execute()\n"
   ]
  },
  {
   "cell_type": "markdown",
   "metadata": {
    "id": "response:migration"
   },
   "source": [
    "#### Response\n",
    "\n"
   ]
  },
  {
   "cell_type": "code",
   "execution_count": null,
   "metadata": {
    "id": "print:migration,new,request",
    "outputId": "a17500f6-6fc8-44a0-f3ab-377939da5dcc"
   },
   "outputs": [],
   "source": [
    "print(json.dumps(response, indent=2))\n"
   ]
  },
  {
   "cell_type": "markdown",
   "metadata": {
    "id": "endpoints_undeploymodel:migration,new,response"
   },
   "source": [
    "*Example output*:\n",
    "```\n",
    "{\n",
    "  \"name\": \"projects/f33-ucaip-training/operations/delete_custom_job_XGB20210302154841_custom_job_XGB20210302154841-1614709380234\",\n",
    "  \"metadata\": {\n",
    "    \"@type\": \"type.googleapis.com/google.cloud.ml.v1.OperationMetadata\",\n",
    "    \"createTime\": \"2021-03-02T18:23:00Z\",\n",
    "    \"operationType\": \"DELETE_VERSION\",\n",
    "    \"modelName\": \"projects/f33-ucaip-training/models/custom_job_XGB20210302154841\",\n",
    "    \"version\": {\n",
    "      \"name\": \"projects/f33-ucaip-training/models/custom_job_XGB20210302154841/versions/custom_job_XGB20210302154841\",\n",
    "      \"deploymentUri\": \"gs://f33-ucaip-trainingaip-20210302154841/custom_job_XGB20210302154841\",\n",
    "      \"createTime\": \"2021-03-02T16:11:35Z\",\n",
    "      \"runtimeVersion\": \"2.1\",\n",
    "      \"state\": \"READY\",\n",
    "      \"etag\": \"sBx1RZUe3HQ=\",\n",
    "      \"framework\": \"XGBOOST\",\n",
    "      \"machineType\": \"mls1-c1-m2\",\n",
    "      \"pythonVersion\": \"3.7\"\n",
    "    }\n",
    "  }\n",
    "}\n",
    "```\n",
    "\n"
   ]
  },
  {
   "cell_type": "markdown",
   "metadata": {
    "id": "cleanup:migration,new"
   },
   "source": [
    "# Cleaning up\n",
    "\n",
    "To clean up all GCP resources used in this project, you can [delete the GCP\n",
    "project](https://cloud.google.com/resource-manager/docs/creating-managing-projects#shutting_down_projects) you used for the tutorial.\n",
    "\n",
    "Otherwise, you can delete the individual resources you created in this tutorial.\n",
    "\n"
   ]
  },
  {
   "cell_type": "code",
   "execution_count": null,
   "metadata": {
    "id": "cfdA_HqraTRu",
    "outputId": "bc0115c6-de20-4fd0-950b-60db089ab29d"
   },
   "outputs": [],
   "source": [
    "delete_model = True\n",
    "delete_bucket = True\n",
    "\n",
    "# Delete the model using the AI Platform fully qualified identifier for the model\n",
    "try:\n",
    "    if delete_model:\n",
    "        client.projects().models().delete(name=model_id)\n",
    "except Exception as e:\n",
    "    print(e)\n",
    "\n",
    "if delete_bucket and 'BUCKET_NAME' in globals():\n",
    "    ! gsutil rm -r gs://$BUCKET_NAME\n"
   ]
  }
 ],
 "metadata": {
  "colab": {
   "name": "[UJ.9 OLD] Custom Training Prebuilt Container XGBoost.ipynb",
   "provenance": []
  },
  "environment": {
   "name": "tf2-2-3-gpu.2-3.m55",
   "type": "gcloud",
   "uri": "gcr.io/deeplearning-platform-release/tf2-2-3-gpu.2-3:m55"
  },
  "kernelspec": {
   "display_name": "Python 3",
   "language": "python",
   "name": "python3"
  },
  "language_info": {
   "codemirror_mode": {
    "name": "ipython",
    "version": 3
   },
   "file_extension": ".py",
   "mimetype": "text/x-python",
   "name": "python",
   "nbconvert_exporter": "python",
   "pygments_lexer": "ipython3",
   "version": "3.7.8"
  }
 },
 "nbformat": 4,
 "nbformat_minor": 4
}
