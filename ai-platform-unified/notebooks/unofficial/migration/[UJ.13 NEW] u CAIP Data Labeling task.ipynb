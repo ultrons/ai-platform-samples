{
 "cells": [
  {
   "cell_type": "code",
   "execution_count": null,
   "metadata": {
    "id": "copyright"
   },
   "outputs": [],
   "source": [
    "# Copyright 2021 Google LLC\n",
    "#\n",
    "# Licensed under the Apache License, Version 2.0 (the \"License\");\n",
    "# you may not use this file except in compliance with the License.\n",
    "# You may obtain a copy of the License at\n",
    "#\n",
    "#     https://www.apache.org/licenses/LICENSE-2.0\n",
    "#\n",
    "# Unless required by applicable law or agreed to in writing, software\n",
    "# distributed under the License is distributed on an \"AS IS\" BASIS,\n",
    "# WITHOUT WARRANTIES OR CONDITIONS OF ANY KIND, either express or implied.\n",
    "# See the License for the specific language governing permissions and\n",
    "# limitations under the License.\n"
   ]
  },
  {
   "cell_type": "markdown",
   "metadata": {
    "id": "title:migration,new"
   },
   "source": [
    "# AI Platform (Unified) SDK: Data Labeling\n",
    "\n"
   ]
  },
  {
   "cell_type": "markdown",
   "metadata": {
    "id": "install_aip"
   },
   "source": [
    "## Installation\n",
    "\n",
    "Install the latest (preview) version of AI Platform (Unified) SDK.\n",
    "\n"
   ]
  },
  {
   "cell_type": "code",
   "execution_count": null,
   "metadata": {
    "id": "A_QVTkXr_i_r",
    "outputId": "efb550c4-9247-47b2-b466-88dc388e99e1"
   },
   "outputs": [],
   "source": [
    "! pip3 install -U google-cloud-aiplatform --user\n"
   ]
  },
  {
   "cell_type": "markdown",
   "metadata": {
    "id": "install_storage"
   },
   "source": [
    "Install the Google *cloud-storage* library as well.\n",
    "\n"
   ]
  },
  {
   "cell_type": "code",
   "execution_count": null,
   "metadata": {
    "id": "65SBis8d_i_s",
    "outputId": "e4af4c00-8b0c-4da6-9abf-9a4f5cce0945"
   },
   "outputs": [],
   "source": [
    "! pip3 install google-cloud-storage\n"
   ]
  },
  {
   "cell_type": "markdown",
   "metadata": {
    "id": "restart"
   },
   "source": [
    "### Restart the Kernel\n",
    "\n",
    "Once you've installed the AI Platform (Unified) SDK and Google *cloud-storage*, you need to restart the notebook kernel so it can find the packages.\n",
    "\n"
   ]
  },
  {
   "cell_type": "code",
   "execution_count": null,
   "metadata": {
    "id": "GIwKc4pk_i_t"
   },
   "outputs": [],
   "source": [
    "import os\n",
    "\n",
    "\n",
    "if not os.getenv(\"AUTORUN\"):\n",
    "    # Automatically restart kernel after installs\n",
    "    import IPython\n",
    "    app = IPython.Application.instance()\n",
    "    app.kernel.do_shutdown(True)\n"
   ]
  },
  {
   "cell_type": "markdown",
   "metadata": {
    "id": "before_you_begin"
   },
   "source": [
    "## Before you begin\n",
    "\n",
    "### GPU run-time\n",
    "\n",
    "*Make sure you're running this notebook in a GPU runtime if you have that option. In Colab, select* **Runtime > Change Runtime Type > GPU**\n",
    "\n",
    "### Set up your GCP project\n",
    "\n",
    "**The following steps are required, regardless of your notebook environment.**\n",
    "\n",
    "1. [Select or create a GCP project](https://console.cloud.google.com/cloud-resource-manager). When you first create an account, you get a $300 free credit towards your compute/storage costs.\n",
    "\n",
    "2. [Make sure that billing is enabled for your project.](https://cloud.google.com/billing/docs/how-to/modify-project)\n",
    "\n",
    "3. [Enable the AI Platform APIs and Compute Engine APIs.](https://console.cloud.google.com/flows/enableapi?apiid=ml.googleapis.com,compute_component)\n",
    "\n",
    "4. [Google Cloud SDK](https://cloud.google.com/sdk) is already installed in AI Platform Notebooks.\n",
    "\n",
    "5. Enter your project ID in the cell below. Then run the  cell to make sure the\n",
    "Cloud SDK uses the right project for all the commands in this notebook.\n",
    "\n",
    "**Note**: Jupyter runs lines prefixed with `!` as shell commands, and it interpolates Python variables prefixed with `$` into these commands.\n",
    "\n"
   ]
  },
  {
   "cell_type": "code",
   "execution_count": null,
   "metadata": {
    "id": "set_project_id"
   },
   "outputs": [],
   "source": [
    "PROJECT_ID = \"[your-project-id]\" #@param {type:\"string\"}\n"
   ]
  },
  {
   "cell_type": "code",
   "execution_count": null,
   "metadata": {
    "id": "autoset_project_id",
    "outputId": "c05c4bbe-e82f-4783-8bd6-e7a15de9c90b"
   },
   "outputs": [],
   "source": [
    "if PROJECT_ID == \"\" or PROJECT_ID is None or PROJECT_ID == \"[your-project-id]\":\n",
    "    # Get your GCP project id from gcloud\n",
    "    shell_output = !gcloud config list --format 'value(core.project)' 2>/dev/null\n",
    "    PROJECT_ID = shell_output[0]\n",
    "    print(\"Project ID:\", PROJECT_ID)\n"
   ]
  },
  {
   "cell_type": "code",
   "execution_count": null,
   "metadata": {
    "id": "set_gcloud_project_id",
    "outputId": "e28a3db0-8cbf-42c0-c792-262332beb29f"
   },
   "outputs": [],
   "source": [
    "! gcloud config set project $PROJECT_ID\n"
   ]
  },
  {
   "cell_type": "markdown",
   "metadata": {
    "id": "region"
   },
   "source": [
    "#### Region\n",
    "\n",
    "You can also change the `REGION` variable, which is used for operations\n",
    "throughout the rest of this notebook.  Below are regions supported for AI Platform (Unified). We recommend when possible, to choose the region closest to you.\n",
    "\n",
    "- Americas: `us-central1`\n",
    "- Europe: `europe-west4`\n",
    "- Asia Pacific: `asia-east1`\n",
    "\n",
    "You cannot use a Multi-Regional Storage bucket for training with AI Platform. Not all regions provide support for all AI Platform services. For the latest support per region, see [Region support for AI Platform (Unified) services](https://cloud.google.com/ai-platform-unified/docs/general/locations)\n",
    "\n"
   ]
  },
  {
   "cell_type": "code",
   "execution_count": null,
   "metadata": {
    "id": "6Xtp5tvK_i_y"
   },
   "outputs": [],
   "source": [
    "REGION = 'us-central1' #@param {type: \"string\"}\n"
   ]
  },
  {
   "cell_type": "markdown",
   "metadata": {
    "id": "timestamp"
   },
   "source": [
    "#### Timestamp\n",
    "\n",
    "If you are in a live tutorial session, you might be using a shared test account or project. To avoid name collisions between users on resources created, you create a timestamp for each instance session, and append onto the name of resources which will be created in this tutorial.\n",
    "\n"
   ]
  },
  {
   "cell_type": "code",
   "execution_count": null,
   "metadata": {
    "id": "d70An-Mg_i_2"
   },
   "outputs": [],
   "source": [
    "from datetime import datetime\n",
    "\n",
    "\n",
    "TIMESTAMP = datetime.now().strftime(\"%Y%m%d%H%M%S\")\n"
   ]
  },
  {
   "cell_type": "markdown",
   "metadata": {
    "id": "gcp_authenticate"
   },
   "source": [
    "### Authenticate your GCP account\n",
    "\n",
    "**If you are using AI Platform Notebooks**, your environment is already\n",
    "authenticated. Skip this step.\n",
    "\n",
    "*Note: If you are on an AI Platform notebook and run the cell, the cell knows to skip executing the authentication steps.*\n",
    "\n"
   ]
  },
  {
   "cell_type": "code",
   "execution_count": null,
   "metadata": {
    "id": "chybg3Ap_i_2"
   },
   "outputs": [],
   "source": [
    "import os\n",
    "import sys\n",
    "\n",
    "# If you are running this notebook in Colab, run this cell and follow the\n",
    "# instructions to authenticate your Google Cloud account. This provides access\n",
    "# to your Cloud Storage bucket and lets you submit training jobs and prediction\n",
    "# requests.\n",
    "\n",
    "# If on AI Platform, then don't execute this code\n",
    "if not os.path.exists('/opt/deeplearning/metadata/env_version'):\n",
    "    if 'google.colab' in sys.modules:\n",
    "        from google.colab import auth as google_auth\n",
    "        google_auth.authenticate_user()\n",
    "\n",
    "    # If you are running this tutorial in a notebook locally, replace the string\n",
    "    # below with the path to your service account key and run this cell to\n",
    "    # authenticate your Google Cloud account.\n",
    "    else:\n",
    "        %env GOOGLE_APPLICATION_CREDENTIALS your_path_to_credentials.json\n",
    "\n",
    "    # Log in to your account on Google Cloud\n",
    "    ! gcloud auth login\n"
   ]
  },
  {
   "cell_type": "markdown",
   "metadata": {
    "id": "bucket:batch_prediction"
   },
   "source": [
    "### Create a Cloud Storage bucket\n",
    "\n",
    "**The following steps are required, regardless of your notebook environment.**\n",
    "\n",
    "This tutorial is designed to use training data that is in a public Cloud Storage bucket and a local Cloud Storage bucket for your batch predictions. You may alternatively use your own training data that you have stored in a local Cloud Storage bucket.\n",
    "\n",
    "Set the name of your Cloud Storage bucket below. It must be unique across all Cloud Storage buckets.\n",
    "\n"
   ]
  },
  {
   "cell_type": "code",
   "execution_count": null,
   "metadata": {
    "id": "bucket"
   },
   "outputs": [],
   "source": [
    "BUCKET_NAME = \"[your-bucket-name]\" #@param {type:\"string\"}\n"
   ]
  },
  {
   "cell_type": "code",
   "execution_count": null,
   "metadata": {
    "id": "autoset_bucket"
   },
   "outputs": [],
   "source": [
    "if BUCKET_NAME == \"\" or BUCKET_NAME is None or BUCKET_NAME == \"[your-bucket-name]\":\n",
    "    BUCKET_NAME = PROJECT_ID + \"aip-\" + TIMESTAMP\n"
   ]
  },
  {
   "cell_type": "markdown",
   "metadata": {
    "id": "create_bucket"
   },
   "source": [
    "**Only if your bucket doesn't already exist**: Run the following cell to create your Cloud Storage bucket.\n",
    "\n"
   ]
  },
  {
   "cell_type": "code",
   "execution_count": null,
   "metadata": {
    "id": "qPPrwWpO_i_6",
    "outputId": "38080f56-3491-410d-f55d-e6da438266df"
   },
   "outputs": [],
   "source": [
    "! gsutil mb -l $REGION gs://$BUCKET_NAME\n"
   ]
  },
  {
   "cell_type": "markdown",
   "metadata": {
    "id": "validate_bucket"
   },
   "source": [
    "Finally, validate access to your Cloud Storage bucket by examining its contents:\n",
    "\n"
   ]
  },
  {
   "cell_type": "code",
   "execution_count": null,
   "metadata": {
    "id": "fn744B7x_i_7"
   },
   "outputs": [],
   "source": [
    "! gsutil ls -al gs://$BUCKET_NAME\n"
   ]
  },
  {
   "cell_type": "markdown",
   "metadata": {
    "id": "setup_vars"
   },
   "source": [
    "### Set up variables\n",
    "\n",
    "Next, set up some variables used throughout the tutorial.\n",
    "### Import libraries and define constants\n",
    "\n"
   ]
  },
  {
   "cell_type": "markdown",
   "metadata": {
    "id": "import_aip"
   },
   "source": [
    "#### Import AI Platform (Unified) SDK\n",
    "\n",
    "Import the AI Platform (Unified) SDK into our Python environment.\n",
    "\n"
   ]
  },
  {
   "cell_type": "code",
   "execution_count": null,
   "metadata": {
    "id": "97-XQPkv_i_7"
   },
   "outputs": [],
   "source": [
    "import os\n",
    "import sys\n",
    "import time\n",
    "\n",
    "\n",
    "from google.cloud.aiplatform import gapic as aip\n",
    "\n",
    "\n",
    "from google.protobuf import json_format\n",
    "from google.protobuf.struct_pb2 import Value\n",
    "from google.protobuf.struct_pb2 import Struct\n",
    "from google.protobuf.json_format import MessageToJson\n",
    "from google.protobuf.json_format import ParseDict\n"
   ]
  },
  {
   "cell_type": "markdown",
   "metadata": {
    "id": "aip_constants"
   },
   "source": [
    "#### AI Platform (Unified) constants\n",
    "\n",
    "Setup up the following constants for AI Platform (Unified):\n",
    "\n",
    "- `API_ENDPOINT`: The AI Platform (Unified) API service endpoint for dataset, model, job, pipeline and endpoint services.\n",
    "- `API_PREDICT_ENDPOINT`: The AI Platform (Unified) API service endpoint for prediction.\n",
    "- `PARENT`: The AI Platform (Unified) location root path for dataset, model and endpoint resources.\n",
    "\n"
   ]
  },
  {
   "cell_type": "code",
   "execution_count": null,
   "metadata": {
    "id": "kBBYqHEd_i_8"
   },
   "outputs": [],
   "source": [
    "# API Endpoint\n",
    "API_ENDPOINT = \"{0}-aiplatform.googleapis.com\".format(REGION)\n",
    "\n",
    "# AI Platform (Unified) location root path for your dataset, model and endpoint resources\n",
    "PARENT = \"projects/\" + PROJECT_ID + \"/locations/\" + REGION\n"
   ]
  },
  {
   "cell_type": "markdown",
   "metadata": {
    "id": "automl_constants:automl"
   },
   "source": [
    "#### AutoML constants\n",
    "\n",
    "Next, setup constants unique to AutoML image classification datasets and training:\n",
    "\n",
    "- Dataset Schemas: Tells the managed dataset service which type of dataset it is.\n",
    "- Data Labeling (Annotations) Schemas: Tells the managed dataset service how the data is labeled (annotated).\n",
    "- Dataset Training Schemas: Tells the managed pipelines service the task (e.g., classification) to train the model for.\n",
    "\n"
   ]
  },
  {
   "cell_type": "code",
   "execution_count": null,
   "metadata": {
    "id": "automl_constants:automl,icn"
   },
   "outputs": [],
   "source": [
    "# Image Dataset type\n",
    "IMAGE_SCHEMA = \"google-cloud-aiplatform/schema/dataset/metadata/image_1.0.0.yaml\"\n",
    "# Image Labeling type\n",
    "IMPORT_SCHEMA_IMAGE_CLASSIFICATION = \"gs://google-cloud-aiplatform/schema/dataset/ioformat/image_classification_single_label_io_format_1.0.0.yaml\"\n",
    "# Image labeling task\n",
    "LABELING_SCHEMA_IMAGE = \"gs://google-cloud-aiplatform/schema/datalabelingjob/inputs/image_classification_1.0.0.yaml\"\n"
   ]
  },
  {
   "cell_type": "markdown",
   "metadata": {
    "id": "clients"
   },
   "source": [
    "## Clients\n",
    "\n",
    "The AI Platform (Unified) SDK works as a client/server model. On your side (the Python script) you will create a client that sends requests and receives responses from the server (AI Platform).\n",
    "\n",
    "You will use several clients in this tutorial, so set them all up upfront.\n",
    "\n",
    "- Dataset Service for managed datasets.\n",
    "- Job Service for batch jobs and custom training.\n",
    "\n"
   ]
  },
  {
   "cell_type": "code",
   "execution_count": null,
   "metadata": {
    "id": "i2p2VYUz_i_-",
    "outputId": "7400f0f9-19c6-45a9-819e-601a491ebe2b"
   },
   "outputs": [],
   "source": [
    "# client options same for all services\n",
    "client_options = {\"api_endpoint\": API_ENDPOINT}\n",
    "\n",
    "\n",
    "def create_dataset_client():\n",
    "    client = aip.DatasetServiceClient(\n",
    "        client_options=client_options\n",
    "    )\n",
    "    return client\n",
    "\n",
    "def create_job_client():\n",
    "    client = aip.JobServiceClient(\n",
    "        client_options=client_options\n",
    "    )\n",
    "    return client\n",
    "\n",
    "\n",
    "clients = {}\n",
    "clients[\"dataset\"] = create_dataset_client()\n",
    "clients[\"job\"] = create_job_client()\n",
    "\n",
    "for client in clients.items():\n",
    "    print(client)\n"
   ]
  },
  {
   "cell_type": "code",
   "execution_count": null,
   "metadata": {
    "id": "import_file:flowers,csv,icn",
    "outputId": "d300505a-2523-4d5a-b91a-54e327569f92"
   },
   "outputs": [],
   "source": [
    "import tensorflow as tf\n",
    "\n",
    "\n",
    "LABELING_FILES = [\n",
    "    \"https://raw.githubusercontent.com/googleapis/python-aiplatform/master/samples/snippets/resources/daisy.jpg\"\n",
    "]\n",
    "\n",
    "IMPORT_FILE = \"gs://\" + BUCKET_NAME + '/labeling.csv'\n",
    "with tf.io.gfile.GFile(IMPORT_FILE, 'w') as f:\n",
    "    for lf in LABELING_FILES:\n",
    "        ! wget {lf} | gsutil cp {lf.split(\"/\")[-1]} gs://{BUCKET_NAME}\n",
    "        f.write(\"gs://\" + BUCKET_NAME + \"/\" + lf.split(\"/\")[-1] + \"\\n\")\n"
   ]
  },
  {
   "cell_type": "code",
   "execution_count": null,
   "metadata": {
    "id": "cBgFrDD1_i__",
    "outputId": "73392b9a-b0b3-4713-f768-c1e0ae4c48fb"
   },
   "outputs": [],
   "source": [
    "! gsutil cat $IMPORT_FILE\n"
   ]
  },
  {
   "cell_type": "markdown",
   "metadata": {
    "id": "datasets_create:migration,new,request"
   },
   "source": [
    "*Example output*:\n",
    "```\n",
    "gs://f33-ucaip-trainingaip-20210303215432/daisy.jpg\n",
    "```\n",
    "\n"
   ]
  },
  {
   "cell_type": "markdown",
   "metadata": {
    "id": "create_a_dataset:migration"
   },
   "source": [
    "## Create a dataset\n",
    "\n"
   ]
  },
  {
   "cell_type": "markdown",
   "metadata": {
    "id": "datasets_create:migration,new"
   },
   "source": [
    "### [projects.locations.datasets.create](https://cloud.google.com/ai-platform-unified/docs/reference/rest/v1beta1/projects.locations.datasets/create)\n",
    "\n"
   ]
  },
  {
   "cell_type": "markdown",
   "metadata": {
    "id": "request:migration"
   },
   "source": [
    "#### Request\n",
    "\n"
   ]
  },
  {
   "cell_type": "code",
   "execution_count": null,
   "metadata": {
    "id": "RsM4amS9_jAB",
    "outputId": "df1b1520-1a79-4f04-fec1-07c52656c983"
   },
   "outputs": [],
   "source": [
    "DATA_SCHEMA = IMAGE_SCHEMA\n",
    "\n",
    "dataset = {\n",
    "    \"display_name\": \"labeling_\" + TIMESTAMP,\n",
    "    \"metadata_schema_uri\": \"gs://\" + DATA_SCHEMA\n",
    "}\n",
    "\n",
    "print(MessageToJson(\n",
    "    aip.CreateDatasetRequest(\n",
    "        parent=PARENT,\n",
    "        dataset=dataset\n",
    "    ).__dict__[\"_pb\"])\n",
    ")\n"
   ]
  },
  {
   "cell_type": "markdown",
   "metadata": {
    "id": "sPupiwqN_jAB"
   },
   "source": [
    "*Example output*:\n",
    "```\n",
    "{\n",
    "  \"parent\": \"projects/f33-ucaip-training/locations/us-central1\",\n",
    "  \"dataset\": {\n",
    "    \"displayName\": \"labeling_20210303215432\",\n",
    "    \"metadataSchemaUri\": \"gs://google-cloud-aiplatform/schema/dataset/metadata/image_1.0.0.yaml\"\n",
    "  }\n",
    "}\n",
    "```\n",
    "\n"
   ]
  },
  {
   "cell_type": "markdown",
   "metadata": {
    "id": "call:migration"
   },
   "source": [
    "#### Call\n",
    "\n"
   ]
  },
  {
   "cell_type": "code",
   "execution_count": null,
   "metadata": {
    "id": "datasets_create:migration,new,call"
   },
   "outputs": [],
   "source": [
    "request = clients[\"dataset\"].create_dataset(\n",
    "    parent=PARENT,\n",
    "    dataset=dataset\n",
    ")\n"
   ]
  },
  {
   "cell_type": "markdown",
   "metadata": {
    "id": "response:migration"
   },
   "source": [
    "#### Response\n",
    "\n"
   ]
  },
  {
   "cell_type": "code",
   "execution_count": null,
   "metadata": {
    "id": "print:migration,new,response",
    "outputId": "85663ed4-cb8b-4a37-8c79-06ccb7c3081d"
   },
   "outputs": [],
   "source": [
    "result = request.result()\n",
    "\n",
    "print(MessageToJson(result.__dict__[\"_pb\"]))\n"
   ]
  },
  {
   "cell_type": "markdown",
   "metadata": {
    "id": "datasets_create:migration,new,response"
   },
   "source": [
    "*Example output*:\n",
    "```\n",
    "{\n",
    "  \"name\": \"projects/116273516712/locations/us-central1/datasets/1165112889535627264\",\n",
    "  \"displayName\": \"labeling_20210303215432\",\n",
    "  \"metadataSchemaUri\": \"gs://google-cloud-aiplatform/schema/dataset/metadata/image_1.0.0.yaml\",\n",
    "  \"labels\": {\n",
    "    \"aiplatform.googleapis.com/dataset_metadata_schema\": \"IMAGE\"\n",
    "  },\n",
    "  \"metadata\": {\n",
    "    \"dataItemSchemaUri\": \"gs://google-cloud-aiplatform/schema/dataset/dataitem/image_1.0.0.yaml\"\n",
    "  }\n",
    "}\n",
    "```\n",
    "\n"
   ]
  },
  {
   "cell_type": "code",
   "execution_count": null,
   "metadata": {
    "id": "dataset_id:migration,new,response",
    "outputId": "5e864049-f913-464e-b2d3-c51943ab9671"
   },
   "outputs": [],
   "source": [
    "# The full unique ID for the dataset\n",
    "dataset_id = result.name\n",
    "# The short numeric ID for the dataset\n",
    "dataset_short_id = dataset_id.split('/')[-1]\n",
    "\n",
    "print(dataset_id)\n"
   ]
  },
  {
   "cell_type": "markdown",
   "metadata": {
    "id": "datasets_import:migration,new"
   },
   "source": [
    "### [projects.locations.datasets.import](https://cloud.google.com/ai-platform-unified/docs/reference/rest/v1beta1/projects.locations.datasets/import)\n",
    "\n"
   ]
  },
  {
   "cell_type": "markdown",
   "metadata": {
    "id": "oJtL08_Q_jAF"
   },
   "source": [
    "#### Request\n",
    "\n"
   ]
  },
  {
   "cell_type": "code",
   "execution_count": null,
   "metadata": {
    "id": "datasets_import:migration,new,request",
    "outputId": "9d456ca9-be8e-4e83-80f5-e0a059b4fe6e"
   },
   "outputs": [],
   "source": [
    "LABEL_SCHEMA = IMPORT_SCHEMA_IMAGE_CLASSIFICATION\n",
    "\n",
    "import_config = {\n",
    "    \"gcs_source\": {\n",
    "        \"uris\": [IMPORT_FILE]\n",
    "    },\n",
    "    \"import_schema_uri\": LABEL_SCHEMA\n",
    "}\n",
    "\n",
    "print(MessageToJson(\n",
    "    aip.ImportDataRequest(\n",
    "        name=dataset_short_id,\n",
    "        import_configs=[import_config]\n",
    "    ).__dict__[\"_pb\"])\n",
    ")\n"
   ]
  },
  {
   "cell_type": "markdown",
   "metadata": {
    "id": "gC5MZDJc_jAG"
   },
   "source": [
    "*Example output*:\n",
    "```\n",
    "{\n",
    "  \"name\": \"1165112889535627264\",\n",
    "  \"importConfigs\": [\n",
    "    {\n",
    "      \"gcsSource\": {\n",
    "        \"uris\": [\n",
    "          \"gs://f33-ucaip-trainingaip-20210303215432/labeling.csv\"\n",
    "        ]\n",
    "      },\n",
    "      \"importSchemaUri\": \"gs://google-cloud-aiplatform/schema/dataset/ioformat/image_classification_single_label_io_format_1.0.0.yaml\"\n",
    "    }\n",
    "  ]\n",
    "}\n",
    "```\n",
    "\n"
   ]
  },
  {
   "cell_type": "markdown",
   "metadata": {
    "id": "rnhDF5vW_jAG"
   },
   "source": [
    "#### Call\n",
    "\n"
   ]
  },
  {
   "cell_type": "code",
   "execution_count": null,
   "metadata": {
    "id": "datasets_import:migration,new,call"
   },
   "outputs": [],
   "source": [
    "request = clients[\"dataset\"].import_data(\n",
    "    name=dataset_id,\n",
    "    import_configs=[import_config]\n",
    ")\n"
   ]
  },
  {
   "cell_type": "markdown",
   "metadata": {
    "id": "zQoFJ2K0_jAH"
   },
   "source": [
    "#### Response\n",
    "\n"
   ]
  },
  {
   "cell_type": "code",
   "execution_count": null,
   "metadata": {
    "id": "K7BjtQ3e_jAH",
    "outputId": "fea91daa-5c82-4fd8-edfa-051e9f6767be"
   },
   "outputs": [],
   "source": [
    "result = request.result()\n",
    "\n",
    "print(MessageToJson(result.__dict__[\"_pb\"]))\n"
   ]
  },
  {
   "cell_type": "markdown",
   "metadata": {
    "id": "datasets_import:migration,new,response"
   },
   "source": [
    "*Example output*:\n",
    "```\n",
    "{}\n",
    "```\n",
    "\n"
   ]
  },
  {
   "cell_type": "markdown",
   "metadata": {
    "id": "nkkcsM2Pq3jN"
   },
   "source": [
    "### Create datalabeling specialist pool\n",
    "\n"
   ]
  },
  {
   "cell_type": "markdown",
   "metadata": {
    "id": "wlZhYc8iq3jN"
   },
   "source": [
    "In case you do not have access to labeling services execute this section."
   ]
  },
  {
   "cell_type": "code",
   "execution_count": null,
   "metadata": {
    "id": "ySEK40sHq3jN"
   },
   "outputs": [],
   "source": [
    "# add client for specialist pool\n",
    "clients[\"specialist_pool\"] = aip.SpecialistPoolServiceClient(\n",
    "    client_options=client_options\n",
    ")\n"
   ]
  },
  {
   "cell_type": "markdown",
   "metadata": {
    "id": "trainingpipelines_create:migration,new"
   },
   "source": [
    "### [projects.locations.dataLabelingJob.create](https://cloud.google.com/ai-platform-unified/docs/reference/rest/v1beta1/projects.locations.dataLabelingJobs/create)\n",
    "\n"
   ]
  },
  {
   "cell_type": "markdown",
   "metadata": {
    "id": "cs4roPCHq3jO"
   },
   "source": [
    "#### Request\n",
    "\n",
    "In this part, you will replace [your-email-address] with your email address. This makes you the specialist and recipient of the labeling request."
   ]
  },
  {
   "cell_type": "code",
   "execution_count": null,
   "metadata": {
    "id": "wsXOMVOMq3jO",
    "outputId": "b2999ee9-e8dd-4667-a9ba-76608db89c3e"
   },
   "outputs": [],
   "source": [
    "EMAIL = \"[your-email-address]\"\n",
    "\n",
    "specialist_pool = {\n",
    "    \"name\": \"labeling_\" + TIMESTAMP, #he resource name of the SpecialistPool.\n",
    "    \"display_name\": \"labeling_\" + TIMESTAMP, # user-defined name of the SpecialistPool\n",
    "    \"specialist_manager_emails\": [EMAIL]\n",
    "}\n",
    "\n",
    "print(MessageToJson(\n",
    "    aip.CreateSpecialistPoolRequest(\n",
    "        parent=PARENT,\n",
    "        specialist_pool=specialist_pool\n",
    "    ).__dict__[\"_pb\"])\n",
    ")\n"
   ]
  },
  {
   "cell_type": "markdown",
   "metadata": {
    "id": "bPT3DQwsq3jO"
   },
   "source": [
    "*Example output*:\n",
    "```\n",
    "{\n",
    "  \"parent\": \"projects/f33-ucaip-training/locations/us-central1\",\n",
    "  \"specialistPool\": {\n",
    "    \"name\": \"labeling_20210303215432\",\n",
    "    \"displayName\": \"labeling_20210303215432\",\n",
    "    \"specialistManagerEmails\": [\n",
    "      \"dev@fourteen33.com\"\n",
    "    ]\n",
    "  }\n",
    "}\n",
    "```\n",
    "\n"
   ]
  },
  {
   "cell_type": "markdown",
   "metadata": {
    "id": "ZGfGuq4gq3jO"
   },
   "source": [
    "#### Call\n",
    "\n"
   ]
  },
  {
   "cell_type": "code",
   "execution_count": null,
   "metadata": {
    "id": "LiuOtTM4q3jO"
   },
   "outputs": [],
   "source": [
    "request = clients[\"specialist_pool\"].create_specialist_pool(\n",
    "    parent=PARENT,\n",
    "    specialist_pool=specialist_pool\n",
    ")\n"
   ]
  },
  {
   "cell_type": "markdown",
   "metadata": {
    "id": "Ls4r2QDhq3jO"
   },
   "source": [
    "#### Response\n",
    "\n"
   ]
  },
  {
   "cell_type": "code",
   "execution_count": null,
   "metadata": {
    "id": "imFEkmH2q3jP",
    "outputId": "f5e73e2a-fe29-4a5e-92fd-f1a29f171eb1"
   },
   "outputs": [],
   "source": [
    "result = request.result()\n",
    "\n",
    "print(MessageToJson(result.__dict__[\"_pb\"]))\n"
   ]
  },
  {
   "cell_type": "markdown",
   "metadata": {
    "id": "i1rCrqH2q3jP"
   },
   "source": [
    "*Example output*:\n",
    "```\n",
    "{\n",
    "  \"name\": \"projects/116273516712/locations/us-central1/specialistPools/1167839678372511744\"\n",
    "}\n",
    "```\n",
    "\n"
   ]
  },
  {
   "cell_type": "code",
   "execution_count": null,
   "metadata": {
    "id": "lqPnPCUjq3jP",
    "outputId": "69a9e4e4-5032-4752-b6c3-972bd4ae4621"
   },
   "outputs": [],
   "source": [
    "specialist_name = result.name\n",
    "\n",
    "specialist_id = specialist_name.split(\"/\")[-1]\n",
    "\n",
    "print(specialist_name)\n"
   ]
  },
  {
   "cell_type": "markdown",
   "metadata": {
    "id": "train_a_model:migration"
   },
   "source": [
    "## Create data labeling job\n",
    "\n"
   ]
  },
  {
   "cell_type": "markdown",
   "metadata": {
    "id": "nsuFamYYq3jQ"
   },
   "source": [
    "### [projects.locations.dataLabelingJob.create](https://cloud.google.com/ai-platform-unified/docs/reference/rest/v1beta1/projects.locations.dataLabelingJobs/create)\n",
    "\n"
   ]
  },
  {
   "cell_type": "code",
   "execution_count": null,
   "metadata": {
    "id": "5AY3SJjQq3jQ"
   },
   "outputs": [],
   "source": [
    "# create placeholder file for valid PDF file with instruction for data labeling\n",
    "! echo \"this is instruction\" >> instruction.txt | gsutil cp instruction.txt gs://$BUCKET_NAME    \n"
   ]
  },
  {
   "cell_type": "markdown",
   "metadata": {
    "id": "m5igPySU_jAJ"
   },
   "source": [
    "#### Request\n",
    "\n"
   ]
  },
  {
   "cell_type": "code",
   "execution_count": null,
   "metadata": {
    "id": "trainingpipelines_create:migration,new,request,icn",
    "outputId": "237aafc6-0efd-40b5-9b0b-0ce1d3df1668"
   },
   "outputs": [],
   "source": [
    "LABLEING_SCHEMA = LABELING_SCHEMA_IMAGE\n",
    "INSTRUCTION_FILE = \"gs://\" + BUCKET_NAME + \"/instruction.txt\" \n",
    "\n",
    "inputs = json_format.ParseDict({\"annotation_specs\": [\"rose\"]}, Value())\n",
    "\n",
    "data_labeling_job = {\n",
    "    \"display_name\": \"labeling_\" + TIMESTAMP,\n",
    "    \"datasets\": [dataset_id],\n",
    "    \"labeler_count\": 1,\n",
    "    \"instruction_uri\": INSTRUCTION_FILE,\n",
    "    \"inputs_schema_uri\": LABLEING_SCHEMA,\n",
    "    \"inputs\": inputs,\n",
    "    \"annotation_labels\": {\n",
    "        \"aiplatform.googleapis.com/annotation_set_name\": \"data_labeling_job_specialist_pool\"\n",
    "    },\n",
    "    \"specialist_pools\": [specialist_name]\n",
    "}\n",
    "\n",
    "print(MessageToJson(\n",
    "    aip.CreateDataLabelingJobRequest(\n",
    "        parent=PARENT, \n",
    "        data_labeling_job=data_labeling_job\n",
    "    ).__dict__[\"_pb\"])\n",
    ")\n"
   ]
  },
  {
   "cell_type": "markdown",
   "metadata": {
    "id": "7IQ6Jp8E_jAJ"
   },
   "source": [
    "*Example output*:\n",
    "```\n",
    "{\n",
    "  \"parent\": \"projects/f33-ucaip-training/locations/us-central1\",\n",
    "  \"dataLabelingJob\": {\n",
    "    \"displayName\": \"labeling_20210303215432\",\n",
    "    \"datasets\": [\n",
    "      \"projects/116273516712/locations/us-central1/datasets/1165112889535627264\"\n",
    "    ],\n",
    "    \"labelerCount\": 1,\n",
    "    \"instructionUri\": \"gs://f33-ucaip-trainingaip-20210303215432/instruction.txt\",\n",
    "    \"inputsSchemaUri\": \"gs://google-cloud-aiplatform/schema/datalabelingjob/inputs/image_classification_1.0.0.yaml\",\n",
    "    \"inputs\": {\n",
    "      \"annotation_specs\": [\n",
    "        \"rose\"\n",
    "      ]\n",
    "    },\n",
    "    \"annotationLabels\": {\n",
    "      \"aiplatform.googleapis.com/annotation_set_name\": \"data_labeling_job_specialist_pool\"\n",
    "    },\n",
    "    \"specialistPools\": [\n",
    "      \"projects/116273516712/locations/us-central1/specialistPools/1167839678372511744\"\n",
    "    ]\n",
    "  }\n",
    "\n",
    "```\n",
    "\n"
   ]
  },
  {
   "cell_type": "markdown",
   "metadata": {
    "id": "xhuR86RL_jAK"
   },
   "source": [
    "#### Call\n",
    "\n"
   ]
  },
  {
   "cell_type": "code",
   "execution_count": null,
   "metadata": {
    "id": "trainingpipelines_create:migration,new,call"
   },
   "outputs": [],
   "source": [
    "request = clients[\"job\"].create_data_labeling_job(\n",
    "    parent=PARENT, \n",
    "    data_labeling_job=data_labeling_job\n",
    ")\n"
   ]
  },
  {
   "cell_type": "markdown",
   "metadata": {
    "id": "S8zP7wju_jAL"
   },
   "source": [
    "#### Response\n",
    "\n"
   ]
  },
  {
   "cell_type": "code",
   "execution_count": null,
   "metadata": {
    "id": "print:migration,new,request",
    "outputId": "1cb0a259-a44d-4474-c3f3-baef81a5aff3"
   },
   "outputs": [],
   "source": [
    "print(MessageToJson(request.__dict__[\"_pb\"]))\n"
   ]
  },
  {
   "cell_type": "markdown",
   "metadata": {
    "id": "trainingpipelines_create:migration,new,response,icn"
   },
   "source": [
    "*Example output*:\n",
    "```\n",
    "{\n",
    "  \"name\": \"projects/116273516712/locations/us-central1/dataLabelingJobs/3830883229125050368\",\n",
    "  \"displayName\": \"labeling_20210303215432\",\n",
    "  \"datasets\": [\n",
    "    \"projects/116273516712/locations/us-central1/datasets/1165112889535627264\"\n",
    "  ],\n",
    "  \"labelerCount\": 1,\n",
    "  \"instructionUri\": \"gs://f33-ucaip-trainingaip-20210303215432/instruction.txt\",\n",
    "  \"inputsSchemaUri\": \"gs://google-cloud-aiplatform/schema/datalabelingjob/inputs/image_classification_1.0.0.yaml\",\n",
    "  \"inputs\": {\n",
    "    \"annotationSpecs\": [\n",
    "      \"rose\"\n",
    "    ]\n",
    "  },\n",
    "  \"state\": \"JOB_STATE_PENDING\",\n",
    "  \"createTime\": \"2021-03-03T21:55:31.239049Z\",\n",
    "  \"updateTime\": \"2021-03-03T21:55:31.239049Z\"\n",
    "}\n",
    "```\n",
    "\n"
   ]
  },
  {
   "cell_type": "code",
   "execution_count": null,
   "metadata": {
    "id": "training_pipeline_id:migration,new,response",
    "outputId": "27ff61b1-5a53-4a87-d6f5-44126f37bca9"
   },
   "outputs": [],
   "source": [
    "labeling_task_name = request.name\n",
    "\n",
    "print(labeling_task_name)\n"
   ]
  },
  {
   "cell_type": "markdown",
   "metadata": {
    "id": "trainingpipelines_get:migration,new"
   },
   "source": [
    "### [projects.locations.dataLabelingJob.get](https://cloud.google.com/ai-platform-unified/docs/reference/rest/v1beta1/projects.locations.dataLabelingJobs/get)\n",
    "\n"
   ]
  },
  {
   "cell_type": "markdown",
   "metadata": {
    "id": "A3jRv70o_jAN"
   },
   "source": [
    "#### Call\n",
    "\n"
   ]
  },
  {
   "cell_type": "code",
   "execution_count": null,
   "metadata": {
    "id": "rPnMOftyq3jS"
   },
   "outputs": [],
   "source": [
    "request = clients[\"job\"].get_data_labeling_job(\n",
    "    name=labeling_task_name\n",
    ")\n"
   ]
  },
  {
   "cell_type": "markdown",
   "metadata": {
    "id": "XC5I2xxt_jAN"
   },
   "source": [
    "#### Response\n",
    "\n"
   ]
  },
  {
   "cell_type": "code",
   "execution_count": null,
   "metadata": {
    "id": "yXZnQR1t_jAO",
    "outputId": "177139a8-df16-428a-a0c2-4f1dfd3acf75"
   },
   "outputs": [],
   "source": [
    "print(MessageToJson(request.__dict__[\"_pb\"]))\n"
   ]
  },
  {
   "cell_type": "markdown",
   "metadata": {
    "id": "Df0XR2uMq3jS"
   },
   "source": [
    "*Example output*:\n",
    "```\n",
    "{\n",
    "  \"name\": \"projects/116273516712/locations/us-central1/dataLabelingJobs/3830883229125050368\",\n",
    "  \"displayName\": \"labeling_20210303215432\",\n",
    "  \"datasets\": [\n",
    "    \"projects/116273516712/locations/us-central1/datasets/1165112889535627264\"\n",
    "  ],\n",
    "  \"labelerCount\": 1,\n",
    "  \"instructionUri\": \"gs://f33-ucaip-trainingaip-20210303215432/instruction.txt\",\n",
    "  \"inputsSchemaUri\": \"gs://google-cloud-aiplatform/schema/datalabelingjob/inputs/image_classification_1.0.0.yaml\",\n",
    "  \"inputs\": {\n",
    "    \"annotationSpecs\": [\n",
    "      \"rose\"\n",
    "    ]\n",
    "  },\n",
    "  \"state\": \"JOB_STATE_PENDING\",\n",
    "  \"createTime\": \"2021-03-03T21:55:31.239049Z\",\n",
    "  \"updateTime\": \"2021-03-03T21:55:31.239049Z\",\n",
    "  \"specialistPools\": [\n",
    "    \"projects/116273516712/locations/us-central1/specialistPools/1167839678372511744\"\n",
    "  ]\n",
    "}\n",
    "```\n",
    "\n"
   ]
  },
  {
   "cell_type": "markdown",
   "metadata": {
    "id": "fQ0TVlokq3jS"
   },
   "source": [
    "### [projects.locations.dataLabelingJob.cancel](https://cloud.google.com/ai-platform-unified/docs/reference/rest/v1beta1/projects.locations.dataLabelingJobs/cancel)\n",
    "\n"
   ]
  },
  {
   "cell_type": "markdown",
   "metadata": {
    "id": "Mhfy-xKIq3jS"
   },
   "source": [
    "#### Call\n",
    "\n"
   ]
  },
  {
   "cell_type": "code",
   "execution_count": null,
   "metadata": {
    "id": "FZ3dlKJjq3jT"
   },
   "outputs": [],
   "source": [
    "request = clients[\"job\"].cancel_data_labeling_job(\n",
    "    name=labeling_task_name\n",
    ")\n"
   ]
  },
  {
   "cell_type": "markdown",
   "metadata": {
    "id": "ES_05aHoq3jT"
   },
   "source": [
    "#### Response\n",
    "\n"
   ]
  },
  {
   "cell_type": "code",
   "execution_count": null,
   "metadata": {
    "id": "jsIfaQ3Aq3jT",
    "outputId": "cca0154c-c2f2-4950-a122-0b7928707c26"
   },
   "outputs": [],
   "source": [
    "print(request)\n"
   ]
  },
  {
   "cell_type": "markdown",
   "metadata": {
    "id": "LHnXRXrKq3jT"
   },
   "source": [
    "*Example output*:\n",
    "```\n",
    "None\n",
    "```\n",
    "\n"
   ]
  },
  {
   "cell_type": "code",
   "execution_count": null,
   "metadata": {
    "id": "trainingpipelines_get:migration,new,wait",
    "outputId": "93d48941-179d-4a5d-8f4d-c8a01ba5a07c",
    "scrolled": true
   },
   "outputs": [],
   "source": [
    "while True:\n",
    "    response = clients[\"job\"].get_data_labeling_job(name=labeling_task_name)\n",
    "    if response.state == aip.JobState.JOB_STATE_CANCELLED:\n",
    "        print(\"Labeling job CANCELED\")\n",
    "        break\n",
    "    else:\n",
    "        print(\"Canceling labeling job:\", response.state)\n",
    "        time.sleep(60)\n"
   ]
  },
  {
   "cell_type": "markdown",
   "metadata": {
    "id": "cleanup:migration,new"
   },
   "source": [
    "# Cleaning up\n",
    "\n",
    "To clean up all GCP resources used in this project, you can [delete the GCP\n",
    "project](https://cloud.google.com/resource-manager/docs/creating-managing-projects#shutting_down_projects) you used for the tutorial.\n",
    "\n",
    "Otherwise, you can delete the individual resources you created in this tutorial.\n",
    "\n"
   ]
  },
  {
   "cell_type": "code",
   "execution_count": null,
   "metadata": {
    "id": "aoJ18d8Y_jAy",
    "outputId": "932f9c7e-b9e6-495d-95fd-3796bc61cdb1"
   },
   "outputs": [],
   "source": [
    "delete_dataset = True\n",
    "delete_job = True\n",
    "delete_specialist_pool = True\n",
    "delete_bucket = True\n",
    "\n",
    "# Delete the dataset using the AI Platform (Unified) fully qualified identifier for the dataset\n",
    "try:\n",
    "    if delete_dataset:\n",
    "        clients['dataset'].delete_dataset(name=dataset_id)\n",
    "except Exception as e:\n",
    "    print(e)\n",
    "\n",
    "# Delete the labeling job using the AI Platform (Unified) fully qualified identifier for the dataset\n",
    "try:\n",
    "    if delete_job:\n",
    "        request = clients[\"job\"].delete_data_labeling_job(name=labeling_task_name)\n",
    "except Exception as e:\n",
    "    print(e)\n",
    "    \n",
    "# Delete the specialist pool using the AI Platform (Unified) fully qualified identifier for the dataset\n",
    "try:\n",
    "    if delete_specialist_pool:\n",
    "        clients[\"specialist_pool\"].delete_specialist_pool(name=specialist_name)\n",
    "except Exception as e:\n",
    "    print(e)    \n",
    "\n",
    "\n",
    "if delete_bucket and 'BUCKET_NAME' in globals():\n",
    "    ! gsutil rm -r gs://$BUCKET_NAME\n"
   ]
  },
  {
   "cell_type": "code",
   "execution_count": null,
   "metadata": {
    "id": "zzWQ0zwhq3jU"
   },
   "outputs": [],
   "source": []
  }
 ],
 "metadata": {
  "colab": {
   "collapsed_sections": [
    "timestamp",
    "gcp_authenticate",
    "bucket:batch_prediction",
    "setup_vars",
    "import_aip",
    "aip_constants",
    "automl_constants:automl",
    "datasets_create:migration,new",
    "request:migration",
    "call:migration",
    "response:migration",
    "datasets_import:migration,new",
    "oJtL08_Q_jAF",
    "rnhDF5vW_jAG",
    "zQoFJ2K0_jAH",
    "trainingpipelines_create:migration,new",
    "m5igPySU_jAJ",
    "xhuR86RL_jAK",
    "S8zP7wju_jAL",
    "trainingpipelines_get:migration,new",
    "A3jRv70o_jAN",
    "XC5I2xxt_jAN",
    "models_evaluations_list:migration,new",
    "Ngn6qqVy_jAQ",
    "F0ryqI3F_jAQ",
    "models_evaluations_get:migration,new",
    "_NXujm2U_jAR",
    "0RLTdCfj_jAS",
    "make_batch_prediction_file:migration,new",
    "make_batch_file:automl,image",
    "batchpredictionjobs_create:migration,new",
    "htIpycBi_jAX",
    "8QO3y-36_jAY",
    "DmClxRYK_jAY",
    "batchpredictionjobs_get:migration,new",
    "aSE_wqES_jAa",
    "LUy0NIF__jAa",
    "endpoints_create:migration,new",
    "Ph5S0j4v_jAc",
    "yjsSo1cM_jAd",
    "ijvF_HGd_jAe",
    "endpoints_deploymodel:migration,new",
    "NFIRI0XT_jAf",
    "c3_4BVyW_jAh",
    "7NmySa8R_jAh",
    "endpoints_predict:migration,new",
    "6fb84nKh_jAk",
    "h6IskqWe_jAo",
    "KHf2BSMR_jAo",
    "endpoints_undeploymodel:migration,new",
    "KrVZz6Uw_jAp",
    "wvFK-kir_jAq",
    "5bwEQMKT_jAr",
    "LOsxiKj4_jAs",
    "PWMEUCbF_jAt",
    "OalQ6m9P_jAu",
    "models_export:migration,new",
    "lqJoqYMI_jAv",
    "v6isqzPQ_jAw",
    "ZCyd1qAb_jAx"
   ],
   "name": "[UJ.13 NEW] u CAIP Data Labeling task.ipynb",
   "provenance": [],
   "toc_visible": true
  },
  "environment": {
   "name": "tf2-2-3-gpu.2-3.m55",
   "type": "gcloud",
   "uri": "gcr.io/deeplearning-platform-release/tf2-2-3-gpu.2-3:m55"
  },
  "kernelspec": {
   "display_name": "Python 3",
   "language": "python",
   "name": "python3"
  },
  "language_info": {
   "codemirror_mode": {
    "name": "ipython",
    "version": 3
   },
   "file_extension": ".py",
   "mimetype": "text/x-python",
   "name": "python",
   "nbconvert_exporter": "python",
   "pygments_lexer": "ipython3",
   "version": "3.7.8"
  }
 },
 "nbformat": 4,
 "nbformat_minor": 4
}
