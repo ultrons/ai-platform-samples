{
 "cells": [
  {
   "cell_type": "code",
   "execution_count": null,
   "metadata": {
    "id": "Hha2I6DQmDyW"
   },
   "outputs": [],
   "source": [
    "# Copyright 2021 Google LLC\n",
    "#\n",
    "# Licensed under the Apache License, Version 2.0 (the \"License\");\n",
    "# you may not use this file except in compliance with the License.\n",
    "# You may obtain a copy of the License at\n",
    "#\n",
    "#     https://www.apache.org/licenses/LICENSE-2.0\n",
    "#\n",
    "# Unless required by applicable law or agreed to in writing, software\n",
    "# distributed under the License is distributed on an \"AS IS\" BASIS,\n",
    "# WITHOUT WARRANTIES OR CONDITIONS OF ANY KIND, either express or implied.\n",
    "# See the License for the specific language governing permissions and\n",
    "# limitations under the License.\n"
   ]
  },
  {
   "cell_type": "markdown",
   "metadata": {
    "id": "text_title:migration,automl,icn"
   },
   "source": [
    "# AI Platform (Unified) AutoML text entity extractionn model"
   ]
  },
  {
   "cell_type": "markdown",
   "metadata": {
    "id": "JE-aKjayJjkF"
   },
   "source": [
    "## Installation\n",
    "\n",
    "Install the latest (preview) version of AI Platform (Unified) SDK."
   ]
  },
  {
   "cell_type": "code",
   "execution_count": null,
   "metadata": {
    "id": "7dxB6-B0JjkG"
   },
   "outputs": [],
   "source": [
    "! pip3 install -U google-cloud-aiplatform --user\n"
   ]
  },
  {
   "cell_type": "markdown",
   "metadata": {
    "id": "Iddo-8HmJjkH"
   },
   "source": [
    "Install the Google *cloud-storage* library as well."
   ]
  },
  {
   "cell_type": "code",
   "execution_count": null,
   "metadata": {
    "id": "xHvi6EFSJjkH"
   },
   "outputs": [],
   "source": [
    "! pip3 install google-cloud-storage\n"
   ]
  },
  {
   "cell_type": "markdown",
   "metadata": {
    "id": "ktRTgB8DJjkI"
   },
   "source": [
    "### Restart the Kernel\n",
    "\n",
    "Once you've installed the AI Platform (Unified) SDK and Google *cloud-storage*, you need to restart the notebook kernel so it can find the packages."
   ]
  },
  {
   "cell_type": "code",
   "execution_count": null,
   "metadata": {
    "id": "x1g4mBdlJjkI"
   },
   "outputs": [],
   "source": [
    "import os\n",
    "\n",
    "\n",
    "if not os.getenv(\"AUTORUN\"):\n",
    "    # Automatically restart kernel after installs\n",
    "    import IPython\n",
    "    app = IPython.Application.instance()\n",
    "    app.kernel.do_shutdown(True)\n",
    "    "
   ]
  },
  {
   "cell_type": "markdown",
   "metadata": {
    "id": "3Sq3sGfdt89E"
   },
   "source": [
    "## Before you begin\r\n",
    "\r\n",
    "### GPU run-time\r\n",
    "\r\n",
    "*Make sure you're running this notebook in a GPU runtime if you have that option. In Colab, select* **Runtime > Change Runtime Type > GPU**\r\n",
    "\r\n",
    "### Set up your GCP project\r\n",
    "\r\n",
    "**The following steps are required, regardless of your notebook environment.**\r\n",
    "\r\n",
    "1. [Select or create a GCP project](https://console.cloud.google.com/cloud-resource-manager). When you first create an account, you get a $300 free credit towards your compute/storage costs.\r\n",
    "\r\n",
    "2. [Make sure that billing is enabled for your project.](https://cloud.google.com/billing/docs/how-to/modify-project)\r\n",
    "\r\n",
    "3. [Enable the AI Platform APIs and Compute Engine APIs.](https://console.cloud.google.com/flows/enableapi?apiid=ml.googleapis.com,compute_component)\r\n",
    "\r\n",
    "4. [Google Cloud SDK](https://cloud.google.com/sdk) is already installed in AI Platform Notebooks.\r\n",
    "\r\n",
    "5. Enter your project ID in the cell below. Then run the  cell to make sure the\r\n",
    "Cloud SDK uses the right project for all the commands in this notebook.\r\n",
    "\r\n",
    "**Note**: Jupyter runs lines prefixed with `!` as shell commands, and it interpolates Python variables prefixed with `$` into these commands."
   ]
  },
  {
   "cell_type": "markdown",
   "metadata": {
    "id": "hceMthWGJjkI"
   },
   "source": [
    "#### Project ID\n",
    "\n",
    "**If you don't know your project ID**, try to get your project ID using `gcloud` command by executing the second cell below."
   ]
  },
  {
   "cell_type": "code",
   "execution_count": null,
   "metadata": {
    "id": "eidueLnCJjkJ"
   },
   "outputs": [],
   "source": [
    "PROJECT_ID = \"[your-project-id]\" #@param {type:\"string\"}\n"
   ]
  },
  {
   "cell_type": "code",
   "execution_count": null,
   "metadata": {
    "id": "NJ9v1pdtmDyr"
   },
   "outputs": [],
   "source": [
    "if PROJECT_ID == \"\" or PROJECT_ID is None or PROJECT_ID == \"[your-project-id]\":\n",
    "    # Get your GCP project id from gcloud\n",
    "    shell_output = !gcloud config list --format 'value(core.project)' 2>/dev/null\n",
    "    PROJECT_ID = shell_output[0]\n",
    "    print(\"Project ID:\", PROJECT_ID)\n",
    "    "
   ]
  },
  {
   "cell_type": "code",
   "execution_count": null,
   "metadata": {
    "id": "0UfsdLCEJjkJ"
   },
   "outputs": [],
   "source": [
    "! gcloud config set project $PROJECT_ID\n"
   ]
  },
  {
   "cell_type": "markdown",
   "metadata": {
    "id": "jT0fijejJjkK"
   },
   "source": [
    "#### Region\n",
    "\n",
    "You can also change the `REGION` variable, which is used for operations\n",
    "throughout the rest of this notebook.  Below are regions supported for AI Platform (Unified). We recommend when possible, to choose the region closest to you.\n",
    "\n",
    "- Americas: `us-central1`\n",
    "- Europe: `europe-west4`\n",
    "- Asia Pacific: `asia-east1`\n",
    "\n",
    "You cannot use a Multi-Regional Storage bucket for training with AI Platform. Not all regions provide support for all AI Platform services. For the latest support per region, see [Region support for AI Platform (Unified) services](https://cloud.google.com/ai-platform-unified/docs/general/locations)"
   ]
  },
  {
   "cell_type": "code",
   "execution_count": null,
   "metadata": {
    "id": "CTBlncfrJjkK"
   },
   "outputs": [],
   "source": [
    "REGION = 'us-central1' #@param {type: \"string\"}\n"
   ]
  },
  {
   "cell_type": "markdown",
   "metadata": {
    "id": "J_croPBoJjkK"
   },
   "source": [
    "#### Timestamp\n",
    "\n",
    "If you are in a live tutorial session, you might be using a shared test account or project. To avoid name collisions between users on resources created, you create a timestamp for each instance session, and append onto the name of resources which will be created in this tutorial."
   ]
  },
  {
   "cell_type": "code",
   "execution_count": null,
   "metadata": {
    "id": "KKxStk5bJjkL"
   },
   "outputs": [],
   "source": [
    "from datetime import datetime\n",
    "\n",
    "\n",
    "TIMESTAMP = datetime.now().strftime(\"%Y%m%d%H%M%S\")\n"
   ]
  },
  {
   "cell_type": "markdown",
   "metadata": {
    "id": "9zpjPUOhvRQz"
   },
   "source": [
    "### Authenticate your GCP account\r\n",
    "\r\n",
    "**If you are using AI Platform Notebooks**, your environment is already\r\n",
    "authenticated. Skip this step.\r\n",
    "\r\n",
    "*Note: If you are on an AI Platform notebook and run the cell, the cell knows to skip executing the authentication steps.*"
   ]
  },
  {
   "cell_type": "code",
   "execution_count": null,
   "metadata": {
    "id": "chybg3Ap_i_2"
   },
   "outputs": [],
   "source": [
    "import os\n",
    "import sys\n",
    "\n",
    "# If you are running this notebook in Colab, run this cell and follow the\n",
    "# instructions to authenticate your Google Cloud account. This provides access\n",
    "# to your Cloud Storage bucket and lets you submit training jobs and prediction\n",
    "# requests.\n",
    "\n",
    "# If on AI Platform, then don't execute this code\n",
    "if not os.path.exists('/opt/deeplearning/metadata/env_version'):\n",
    "    if 'google.colab' in sys.modules:\n",
    "        from google.colab import auth as google_auth\n",
    "        google_auth.authenticate_user()\n",
    "\n",
    "    # If you are running this tutorial in a notebook locally, replace the string\n",
    "    # below with the path to your service account key and run this cell to\n",
    "    # authenticate your Google Cloud account.\n",
    "    else:\n",
    "        %env GOOGLE_APPLICATION_CREDENTIALS your_path_to_credentials.json\n",
    "\n",
    "    # Log in to your account on Google Cloud\n",
    "    ! gcloud auth login\n"
   ]
  },
  {
   "cell_type": "markdown",
   "metadata": {
    "id": "MDUAZaN3JjkL"
   },
   "source": [
    "### Create a Cloud Storage bucket\n",
    "\n",
    "**The following steps are required, regardless of your notebook environment.**\n",
    "\n",
    "This tutorial is designed to use training data that is in a public Cloud Storage bucket and a local Cloud Storage bucket for your batch predictions. You may alternatively use your own training data that you have stored in a local Cloud Storage bucket.\n",
    "\n",
    "Set the name of your Cloud Storage bucket below. It must be unique across all Cloud Storage buckets. "
   ]
  },
  {
   "cell_type": "code",
   "execution_count": null,
   "metadata": {
    "id": "bucket"
   },
   "outputs": [],
   "source": [
    "BUCKET_NAME = \"[your-bucket-name]\" #@param {type:\"string\"}\n"
   ]
  },
  {
   "cell_type": "code",
   "execution_count": null,
   "metadata": {
    "id": "autoset_bucket"
   },
   "outputs": [],
   "source": [
    "if BUCKET_NAME == \"\" or BUCKET_NAME is None or BUCKET_NAME == \"[your-bucket-name]\":\n",
    "    BUCKET_NAME = PROJECT_ID + \"aip-\" + TIMESTAMP\n"
   ]
  },
  {
   "cell_type": "markdown",
   "metadata": {
    "id": "yU6VuylGJjkM"
   },
   "source": [
    "**Only if your bucket doesn't already exist**: Run the following cell to create your Cloud Storage bucket."
   ]
  },
  {
   "cell_type": "code",
   "execution_count": null,
   "metadata": {
    "id": "QVRixM4oJjkM"
   },
   "outputs": [],
   "source": [
    "! gsutil mb -l $REGION gs://$BUCKET_NAME\n",
    "    "
   ]
  },
  {
   "cell_type": "markdown",
   "metadata": {
    "id": "Mi-Pdh6QJjkN"
   },
   "source": [
    "Finally, validate access to your Cloud Storage bucket by examining its contents:"
   ]
  },
  {
   "cell_type": "code",
   "execution_count": null,
   "metadata": {
    "id": "aqDptKpYJjkN"
   },
   "outputs": [],
   "source": [
    "! gsutil ls -al gs://$BUCKET_NAME\n",
    "    "
   ]
  },
  {
   "cell_type": "markdown",
   "metadata": {
    "id": "fR9geV9pJjkO"
   },
   "source": [
    "### Set up variables\n",
    "\n",
    "Next, set up some variables used throughout the tutorial.\n",
    "### Import libraries and define constants"
   ]
  },
  {
   "cell_type": "markdown",
   "metadata": {
    "id": "hIHTX-pkJjkO"
   },
   "source": [
    "#### Import AI Platform (Unified) SDK\n",
    "\n",
    "Import the AI Platform (Unified) SDK into our Python environment."
   ]
  },
  {
   "cell_type": "code",
   "execution_count": null,
   "metadata": {
    "id": "qrSkIKVgJjkO"
   },
   "outputs": [],
   "source": [
    "import json\n",
    "import os\n",
    "import sys\n",
    "import time\n",
    "\n",
    "\n",
    "from google.cloud.aiplatform import gapic as aip\n",
    "\n",
    "\n",
    "from google.protobuf import json_format\n",
    "from google.protobuf.json_format import MessageToJson\n",
    "from google.protobuf.struct_pb2 import Value\n",
    "from google.protobuf.struct_pb2 import Struct\n"
   ]
  },
  {
   "cell_type": "markdown",
   "metadata": {
    "id": "lbv411XjJjkP"
   },
   "source": [
    "#### AI Platform (Unified) constants\n",
    "\n",
    "Setup up the following constants for AI Platform (Unified):\n",
    "\n",
    "- `API_ENDPOINT`: The AI Platform (Unified) API service endpoint for dataset, model, job, pipeline and endpoint services.\n",
    "- `PARENT`: The AI Platform (Unified) location root path for dataset, model and endpoint resources."
   ]
  },
  {
   "cell_type": "code",
   "execution_count": null,
   "metadata": {
    "id": "Gx8Eos8PJjkP"
   },
   "outputs": [],
   "source": [
    "# API Endpoint\n",
    "API_ENDPOINT = \"us-central1-aiplatform.googleapis.com\"\n",
    "\n",
    "# AI Platform (Unified) location root path for your dataset, model and endpoint resources\n",
    "PARENT = \"projects/\" + PROJECT_ID + \"/locations/\" + REGION\n"
   ]
  },
  {
   "cell_type": "markdown",
   "metadata": {
    "id": "4x_t-MWnJjkQ"
   },
   "source": [
    "#### AutoML constants\n",
    "\n",
    "Next, setup constants unique to AutoML Text Entity Extraction datasets and training:\n",
    "\n",
    "- Dataset Schemas: Tells the managed dataset service which type of dataset it is.\n",
    "- Data Labeling (Annotations) Schemas: Tells the managed dataset service how the data is labeled (annotated).\n",
    "- Dataset Training Schemas: Tells the managed pipelines service the task (e.g., classification) to train the model for."
   ]
  },
  {
   "cell_type": "code",
   "execution_count": null,
   "metadata": {
    "id": "nmzhH42tJjkQ"
   },
   "outputs": [],
   "source": [
    "# Text Dataset type\n",
    "TEXT_SCHEMA = 'google-cloud-aiplatform/schema/dataset/metadata/text_1.0.0.yaml'\n",
    "# Text Labeling type\n",
    "IMPORT_SCHEMA_TEXT_EXTRACTION = \"gs://google-cloud-aiplatform/schema/dataset/ioformat/text_extraction_io_format_1.0.0.yaml\"\n",
    "# Text Training task\n",
    "TRAINING_TEXT_EXTRACTION_SCHEMA = \"gs://google-cloud-aiplatform/schema/trainingjob/definition/automl_text_extraction_1.0.0.yaml\"\n"
   ]
  },
  {
   "cell_type": "markdown",
   "metadata": {
    "id": "R7P3MRNgJjkQ"
   },
   "source": [
    "## Clients\n",
    "\n",
    "The AI Platform (Unified) SDK works as a client/server model. On your side (the Python script) you will create a client that sends requests and receives responses from the server (AI Platform).\n",
    "\n",
    "You will use several clients in this tutorial, so set them all up upfront.\n",
    "\n",
    "- Dataset Service for managed datasets.\n",
    "- Model Service for managed models.\n",
    "- Pipeline Service for training.\n",
    "- Endpoint Service for deployment.\n",
    "- Job Service for batch jobs and custom training.\n",
    "- Prediction Service for serving. *Note*: Prediction has a different service endpoint."
   ]
  },
  {
   "cell_type": "code",
   "execution_count": null,
   "metadata": {
    "id": "kt8j_ey4JjkR",
    "outputId": "33ad601d-857d-4cfd-be8e-76fbb6aed179"
   },
   "outputs": [],
   "source": [
    "# client options same for all services\n",
    "client_options = {\"api_endpoint\": API_ENDPOINT}\n",
    "\n",
    "\n",
    "def create_dataset_client():\n",
    "    client = aip.DatasetServiceClient(\n",
    "        client_options=client_options\n",
    "    )\n",
    "    return client\n",
    "\n",
    "\n",
    "def create_model_client():\n",
    "    client = aip.ModelServiceClient(\n",
    "        client_options=client_options\n",
    "    )\n",
    "    return client\n",
    "\n",
    "\n",
    "def create_pipeline_client():\n",
    "    client = aip.PipelineServiceClient(\n",
    "        client_options=client_options\n",
    "    )\n",
    "    return client\n",
    "\n",
    "\n",
    "def create_endpoint_client():\n",
    "    client = aip.EndpointServiceClient(\n",
    "        client_options=client_options\n",
    "    )\n",
    "    return client\n",
    "\n",
    "\n",
    "def create_prediction_client():\n",
    "    client = aip.PredictionServiceClient(\n",
    "        client_options=client_options\n",
    "    )\n",
    "    return client\n",
    "\n",
    "\n",
    "def create_job_client():\n",
    "    client = aip.JobServiceClient(\n",
    "        client_options=client_options\n",
    "    )\n",
    "    return client\n",
    "\n",
    "\n",
    "clients = {}\n",
    "clients['dataset'] = create_dataset_client()\n",
    "clients['model'] = create_model_client()\n",
    "clients['pipeline'] = create_pipeline_client()\n",
    "clients['endpoint'] = create_endpoint_client()\n",
    "clients['prediction'] = create_prediction_client()\n",
    "clients['job'] = create_job_client()\n",
    "\n",
    "for client in clients.items():\n",
    "    print(client)\n",
    "    "
   ]
  },
  {
   "cell_type": "code",
   "execution_count": null,
   "metadata": {
    "id": "import_file:flowers,csv,icn"
   },
   "outputs": [],
   "source": [
    "IMPORT_FILE = 'gs://cloud-samples-data/language/ucaip_ten_dataset.jsonl'\n"
   ]
  },
  {
   "cell_type": "code",
   "execution_count": null,
   "metadata": {
    "id": "cBgFrDD1_i__",
    "outputId": "73392b9a-b0b3-4713-f768-c1e0ae4c48fb"
   },
   "outputs": [],
   "source": [
    "! gsutil cat $IMPORT_FILE | head -n 1 \n"
   ]
  },
  {
   "cell_type": "markdown",
   "metadata": {
    "id": "datasets_create:migration,new,request"
   },
   "source": [
    "*Example output*:\n",
    "```\n",
    "{'text_segment_annotations': [{'endOffset': 54, 'startOffset': 27, 'displayName': 'SpecificDisease'}, {'endOffset': 173, 'startOffset': 156, 'displayName': 'SpecificDisease'}, {'endOffset': 179, 'startOffset': 176, 'displayName': 'SpecificDisease'}, {'endOffset': 246, 'startOffset': 243, 'displayName': 'Modifier'}, {'endOffset': 340, 'startOffset': 337, 'displayName': 'Modifier'}, {'endOffset': 698, 'startOffset': 695, 'displayName': 'Modifier'}], 'textContent': '1301937\\tMolecular basis of hexosaminidase A deficiency and pseudodeficiency in the Berks County Pennsylvania Dutch.\\tFollowing the birth of two infants with Tay-Sachs disease ( TSD ) , a non-Jewish , Pennsylvania Dutch kindred was screened for TSD carriers using the biochemical assay . A high frequency of individuals who appeared to be TSD heterozygotes was detected ( Kelly et al . , 1975 ) . Clinical and biochemical evidence suggested that the increased carrier frequency was due to at least two altered alleles for the hexosaminidase A alpha-subunit . We now report two mutant alleles in this Pennsylvania Dutch kindred , and one polymorphism . One allele , reported originally in a French TSD patient ( Akli et al . , 1991 ) , is a GT-- > AT transition at the donor splice-site of intron 9 . The second , a C-- > T transition at nucleotide 739 ( Arg247Trp ) , has been shown by Triggs-Raine et al . ( 1992 ) to be a clinically benign \" pseudodeficient \" allele associated with reduced enzyme activity against artificial substrate . Finally , a polymorphism [ G-- > A ( 759 ) ] , which leaves valine at codon 253 unchanged , is described  .\\n '}\n",
    "```\n",
    "\n"
   ]
  },
  {
   "cell_type": "markdown",
   "metadata": {
    "id": "text_create_dataset:migration"
   },
   "source": [
    "## Create a dataset"
   ]
  },
  {
   "cell_type": "markdown",
   "metadata": {
    "id": "text_datasets_create:migration,new"
   },
   "source": [
    "### [projects.locations.datasets.create](https://cloud.google.com/ai-platform-unified/docs/reference/rest/v1beta1/projects.locations.datasets/create)"
   ]
  },
  {
   "cell_type": "markdown",
   "metadata": {
    "id": "trXpXKsKmDy2"
   },
   "source": [
    "#### Request"
   ]
  },
  {
   "cell_type": "code",
   "execution_count": null,
   "metadata": {
    "id": "LieciZovmDy2",
    "outputId": "2b7b10c1-c712-4ee4-adf2-53a46f369146"
   },
   "outputs": [],
   "source": [
    "DATA_SCHEMA = TEXT_SCHEMA\n",
    "\n",
    "dataset = {\n",
    "    \"display_name\": \"ten_\" + TIMESTAMP,\n",
    "    \"metadata_schema_uri\": \"gs://\" + DATA_SCHEMA\n",
    "}\n",
    "\n",
    "print(MessageToJson(\n",
    "    aip.CreateDatasetRequest(\n",
    "        parent=PARENT,\n",
    "        dataset=dataset\n",
    "    ).__dict__[\"_pb\"])\n",
    ")\n"
   ]
  },
  {
   "cell_type": "markdown",
   "metadata": {
    "id": "sPupiwqN_jAB"
   },
   "source": [
    "*Example output*:\n",
    "```\n",
    "{\n",
    "  \"parent\": \"projects/f33-ucaip-training/locations/us-central1\",\n",
    "  \"dataset\": {\n",
    "    \"displayName\": \"ten_20210301154552\",\n",
    "    \"metadataSchemaUri\": \"gs://google-cloud-aiplatform/schema/dataset/metadata/text_1.0.0.yaml\"\n",
    "  }\n",
    "}\n",
    "```\n",
    "\n"
   ]
  },
  {
   "cell_type": "markdown",
   "metadata": {
    "id": "-CD22Lm9mDy2"
   },
   "source": [
    "#### Call"
   ]
  },
  {
   "cell_type": "code",
   "execution_count": null,
   "metadata": {
    "id": "ptyxODU2mDy3"
   },
   "outputs": [],
   "source": [
    "request = clients['dataset'].create_dataset(\n",
    "    parent=PARENT, \n",
    "    dataset=dataset\n",
    ")\n"
   ]
  },
  {
   "cell_type": "markdown",
   "metadata": {
    "id": "vpUO9HBimDy3"
   },
   "source": [
    "#### Response"
   ]
  },
  {
   "cell_type": "code",
   "execution_count": null,
   "metadata": {
    "id": "jvKS4F-QmDy3",
    "outputId": "514ee897-bc46-43f5-993f-d6756e3275b5"
   },
   "outputs": [],
   "source": [
    "result = request.result()\n",
    "\n",
    "print(MessageToJson(result.__dict__[\"_pb\"]))\n"
   ]
  },
  {
   "cell_type": "markdown",
   "metadata": {
    "id": "sPupiwqN_jAB"
   },
   "source": [
    "*Example output*:\n",
    "```\n",
    "{\n",
    "  \"name\": \"projects/116273516712/locations/us-central1/datasets/1309228077611483136\",\n",
    "  \"displayName\": \"ten_20210301154552\",\n",
    "  \"metadataSchemaUri\": \"gs://google-cloud-aiplatform/schema/dataset/metadata/text_1.0.0.yaml\",\n",
    "  \"labels\": {\n",
    "    \"aiplatform.googleapis.com/dataset_metadata_schema\": \"TEXT\"\n",
    "  },\n",
    "  \"metadata\": {\n",
    "    \"dataItemSchemaUri\": \"gs://google-cloud-aiplatform/schema/dataset/dataitem/text_1.0.0.yaml\"\n",
    "  }\n",
    "}\n",
    "```\n",
    "\n"
   ]
  },
  {
   "cell_type": "code",
   "execution_count": null,
   "metadata": {
    "id": "dataset_id:migration,new,response",
    "outputId": "5e864049-f913-464e-b2d3-c51943ab9671"
   },
   "outputs": [],
   "source": [
    "# The full unique ID for the dataset\n",
    "dataset_id = result.name\n",
    "# The short numeric ID for the dataset\n",
    "dataset_short_id = dataset_id.split('/')[-1]\n",
    "\n",
    "print(dataset_id)\n"
   ]
  },
  {
   "cell_type": "markdown",
   "metadata": {
    "id": "text_datasets_import:migration,new"
   },
   "source": [
    "### [projects.locations.datasets.import](https://cloud.google.com/ai-platform-unified/docs/reference/rest/v1beta1/projects.locations.datasets/import)"
   ]
  },
  {
   "cell_type": "markdown",
   "metadata": {
    "id": "amH_XuOjmDy4"
   },
   "source": [
    "#### Request"
   ]
  },
  {
   "cell_type": "code",
   "execution_count": null,
   "metadata": {
    "id": "5_5_ZY-pmDy4",
    "outputId": "d94bd893-73b2-4f32-b9f4-e88265919760"
   },
   "outputs": [],
   "source": [
    "LABEL_SCHEMA = IMPORT_SCHEMA_TEXT_EXTRACTION\n",
    "\n",
    "import_config = {\n",
    "    \"gcs_source\": {\n",
    "        \"uris\": [IMPORT_FILE]\n",
    "    },\n",
    "    \"import_schema_uri\": LABEL_SCHEMA\n",
    "}\n",
    "\n",
    "print(MessageToJson(\n",
    "    aip.ImportDataRequest(\n",
    "        name=dataset_id,\n",
    "        import_configs=[import_config]\n",
    "    ).__dict__[\"_pb\"])\n",
    ")\n",
    "                        "
   ]
  },
  {
   "cell_type": "markdown",
   "metadata": {
    "id": "sPupiwqN_jAB"
   },
   "source": [
    "*Example output*:\n",
    "```\n",
    "{\n",
    "  \"name\": \"projects/116273516712/locations/us-central1/datasets/1309228077611483136\",\n",
    "  \"importConfigs\": [\n",
    "    {\n",
    "      \"gcsSource\": {\n",
    "        \"uris\": [\n",
    "          \"gs://cloud-samples-data/language/ucaip_ten_dataset.jsonl\"\n",
    "        ]\n",
    "      },\n",
    "      \"importSchemaUri\": \"gs://google-cloud-aiplatform/schema/dataset/ioformat/text_extraction_io_format_1.0.0.yaml\"\n",
    "    }\n",
    "  ]\n",
    "}\n",
    "```\n",
    "\n"
   ]
  },
  {
   "cell_type": "markdown",
   "metadata": {
    "id": "w52itF0ymDy4"
   },
   "source": [
    "#### Call"
   ]
  },
  {
   "cell_type": "code",
   "execution_count": null,
   "metadata": {
    "id": "4hxz5c70mDy4"
   },
   "outputs": [],
   "source": [
    "request = clients['dataset'].import_data(\n",
    "    name=dataset_id, \n",
    "    import_configs=[import_config]\n",
    ")\n"
   ]
  },
  {
   "cell_type": "markdown",
   "metadata": {
    "id": "oSDxPS2TmDy4"
   },
   "source": [
    "#### Response"
   ]
  },
  {
   "cell_type": "code",
   "execution_count": null,
   "metadata": {
    "id": "jCW-M3tgmDy5",
    "outputId": "1c94c789-3eae-4fe3-c843-dd153a901456"
   },
   "outputs": [],
   "source": [
    "result = request.result()\n",
    "\n",
    "print(MessageToJson(result.__dict__[\"_pb\"]))\n"
   ]
  },
  {
   "cell_type": "markdown",
   "metadata": {
    "id": "sPupiwqN_jAB"
   },
   "source": [
    "*Example output*:\n",
    "```\n",
    "{}\n",
    "```\n",
    "\n"
   ]
  },
  {
   "cell_type": "markdown",
   "metadata": {
    "id": "text_create_and_deploy_model:migration"
   },
   "source": [
    "## Train a model"
   ]
  },
  {
   "cell_type": "markdown",
   "metadata": {
    "id": "0oqIBOSnJjkW"
   },
   "source": [
    "### [projects.locations.trainingPipelines.create](https://cloud.google.com/ai-platform-unified/docs/reference/rest/v1beta1/projects.locations.trainingPipelines/create)"
   ]
  },
  {
   "cell_type": "markdown",
   "metadata": {
    "id": "t9wJ2d03mDy5"
   },
   "source": [
    "#### Request"
   ]
  },
  {
   "cell_type": "code",
   "execution_count": null,
   "metadata": {
    "id": "tJf08imCmDy5",
    "outputId": "3d6f8421-03a3-4f1c-bf50-77793b309e63"
   },
   "outputs": [],
   "source": [
    "TRAINING_SCHEMA = TRAINING_TEXT_EXTRACTION_SCHEMA\n",
    "\n",
    "task = Value(struct_value=Struct(\n",
    "    fields={\n",
    "        'multi_label': Value(bool_value=False),\n",
    "        'budget_milli_node_hours': Value(number_value=1000),\n",
    "        'model_type': Value(string_value=\"CLOUD\"),\n",
    "        'disable_early_stopping': Value(bool_value=False)\n",
    "    }\n",
    "))\n",
    "\n",
    "training_pipeline = {\n",
    "    \"display_name\": \"ten_\" + TIMESTAMP,\n",
    "    \"input_data_config\": {\n",
    "        \"dataset_id\": dataset_short_id\n",
    "    },\n",
    "    \"model_to_upload\": {\n",
    "        \"display_name\": \"ten_\" + TIMESTAMP\n",
    "    },\n",
    "    \"training_task_definition\": TRAINING_SCHEMA,\n",
    "    \"training_task_inputs\": task \n",
    "}\n",
    "\n",
    "print(MessageToJson(\n",
    "    aip.CreateTrainingPipelineRequest(\n",
    "        parent=PARENT,\n",
    "        training_pipeline=training_pipeline,\n",
    "    ).__dict__[\"_pb\"])\n",
    ")\n"
   ]
  },
  {
   "cell_type": "markdown",
   "metadata": {
    "id": "sPupiwqN_jAB"
   },
   "source": [
    "*Example output*:\n",
    "```\n",
    "{\n",
    "  \"parent\": \"projects/f33-ucaip-training/locations/us-central1\",\n",
    "  \"trainingPipeline\": {\n",
    "    \"displayName\": \"ten_20210301154552\",\n",
    "    \"inputDataConfig\": {\n",
    "      \"datasetId\": \"1309228077611483136\"\n",
    "    },\n",
    "    \"trainingTaskDefinition\": \"gs://google-cloud-aiplatform/schema/trainingjob/definition/automl_text_extraction_1.0.0.yaml\",\n",
    "    \"trainingTaskInputs\": {\n",
    "      \"budget_milli_node_hours\": 1000.0,\n",
    "      \"multi_label\": false,\n",
    "      \"model_type\": \"CLOUD\",\n",
    "      \"disable_early_stopping\": false\n",
    "    },\n",
    "    \"modelToUpload\": {\n",
    "      \"displayName\": \"ten_20210301154552\"\n",
    "    }\n",
    "  }\n",
    "}\n",
    "```\n",
    "\n"
   ]
  },
  {
   "cell_type": "markdown",
   "metadata": {
    "id": "yk19A8OKmDy6"
   },
   "source": [
    "#### Call"
   ]
  },
  {
   "cell_type": "code",
   "execution_count": null,
   "metadata": {
    "id": "OOyUwmq_mDy6"
   },
   "outputs": [],
   "source": [
    "request = clients['pipeline'].create_training_pipeline(\n",
    "    parent=PARENT, \n",
    "    training_pipeline=training_pipeline\n",
    ")\n"
   ]
  },
  {
   "cell_type": "markdown",
   "metadata": {
    "id": "_W-OpMk7mDy6"
   },
   "source": [
    "#### Response"
   ]
  },
  {
   "cell_type": "code",
   "execution_count": null,
   "metadata": {
    "id": "5z4U8eJSmDy6",
    "outputId": "da5020b1-225c-4187-a933-a0f008fa96ca"
   },
   "outputs": [],
   "source": [
    "print(MessageToJson(request.__dict__[\"_pb\"]))\n"
   ]
  },
  {
   "cell_type": "markdown",
   "metadata": {
    "id": "sPupiwqN_jAB"
   },
   "source": [
    "*Example output*:\n",
    "```\n",
    "{\n",
    "  \"name\": \"projects/116273516712/locations/us-central1/trainingPipelines/4643220011912003584\",\n",
    "  \"displayName\": \"ten_20210301154552\",\n",
    "  \"inputDataConfig\": {\n",
    "    \"datasetId\": \"1309228077611483136\"\n",
    "  },\n",
    "  \"trainingTaskDefinition\": \"gs://google-cloud-aiplatform/schema/trainingjob/definition/automl_text_extraction_1.0.0.yaml\",\n",
    "  \"trainingTaskInputs\": {},\n",
    "  \"modelToUpload\": {\n",
    "    \"displayName\": \"ten_20210301154552\"\n",
    "  },\n",
    "  \"state\": \"PIPELINE_STATE_PENDING\",\n",
    "  \"createTime\": \"2021-03-01T15:55:29.352065Z\",\n",
    "  \"updateTime\": \"2021-03-01T15:55:29.352065Z\"\n",
    "}\n",
    "```\n",
    "\n"
   ]
  },
  {
   "cell_type": "code",
   "execution_count": null,
   "metadata": {
    "id": "u8sLc67Pf7L9"
   },
   "outputs": [],
   "source": [
    "# The full unique ID for the training pipeline\r\n",
    "training_pipeline_id = request.name\r\n",
    "# The short numeric ID for the training pipeline\r\n",
    "training_pipeline_short_id = training_pipeline_id.split('/')[-1]\r\n",
    "\r\n",
    "print(training_pipeline_id)\r\n"
   ]
  },
  {
   "cell_type": "markdown",
   "metadata": {
    "id": "QJsV1xoSJjkW"
   },
   "source": [
    "### [projects.locations.trainingPipelines.get](https://cloud.google.com/ai-platform-unified/docs/reference/rest/v1beta1/projects.locations.trainingPipelines/get)"
   ]
  },
  {
   "cell_type": "markdown",
   "metadata": {
    "id": "m40wuXKgmDy6"
   },
   "source": [
    "#### Call"
   ]
  },
  {
   "cell_type": "code",
   "execution_count": null,
   "metadata": {
    "id": "yp_mYeyrmDy7"
   },
   "outputs": [],
   "source": [
    "request = clients['pipeline'].get_training_pipeline(\n",
    "    name=training_pipeline_id\n",
    ")\n"
   ]
  },
  {
   "cell_type": "markdown",
   "metadata": {
    "id": "j_-_Ue1WmDy7"
   },
   "source": [
    "#### Response"
   ]
  },
  {
   "cell_type": "code",
   "execution_count": null,
   "metadata": {
    "id": "2xbLIG-8mDy7",
    "outputId": "5e02868d-8617-4617-cb3a-8a165481a471"
   },
   "outputs": [],
   "source": [
    "print(MessageToJson(request.__dict__[\"_pb\"]))\n"
   ]
  },
  {
   "cell_type": "markdown",
   "metadata": {
    "id": "sPupiwqN_jAB"
   },
   "source": [
    "*Example output*:\n",
    "```\n",
    "{\n",
    "  \"name\": \"projects/116273516712/locations/us-central1/trainingPipelines/4643220011912003584\",\n",
    "  \"displayName\": \"ten_20210301154552\",\n",
    "  \"inputDataConfig\": {\n",
    "    \"datasetId\": \"1309228077611483136\"\n",
    "  },\n",
    "  \"trainingTaskDefinition\": \"gs://google-cloud-aiplatform/schema/trainingjob/definition/automl_text_extraction_1.0.0.yaml\",\n",
    "  \"trainingTaskInputs\": {},\n",
    "  \"modelToUpload\": {\n",
    "    \"displayName\": \"ten_20210301154552\"\n",
    "  },\n",
    "  \"state\": \"PIPELINE_STATE_PENDING\",\n",
    "  \"createTime\": \"2021-03-01T15:55:29.352065Z\",\n",
    "  \"updateTime\": \"2021-03-01T15:55:29.352065Z\"\n",
    "}\n",
    "```\n",
    "\n"
   ]
  },
  {
   "cell_type": "code",
   "execution_count": null,
   "metadata": {
    "id": "trainingpipelines_get:migration,new,wait",
    "outputId": "543d6353-1168-4e93-f8bc-b75217cdb459",
    "scrolled": true
   },
   "outputs": [],
   "source": [
    "while True:\n",
    "    response = clients[\"pipeline\"].get_training_pipeline(name=training_pipeline_id)\n",
    "    if response.state != aip.PipelineState.PIPELINE_STATE_SUCCEEDED:\n",
    "        print(\"Training job has not completed:\", response.state)\n",
    "        if response.state == aip.PipelineState.PIPELINE_STATE_FAILED:\n",
    "            break\n",
    "    else:\n",
    "        model_id = response.model_to_upload.name\n",
    "        print(\"Training Time:\", response.end_time - response.start_time)\n",
    "        break\n",
    "    time.sleep(60)\n",
    "\n",
    "print(model_id)\n"
   ]
  },
  {
   "cell_type": "markdown",
   "metadata": {
    "id": "text_evaluate_the_model:migration"
   },
   "source": [
    "## Evaluate the model"
   ]
  },
  {
   "cell_type": "markdown",
   "metadata": {
    "id": "BJNzhELXJjkY"
   },
   "source": [
    "### [projects.locations.models.evaluations.list](https://cloud.google.com/ai-platform-unified/docs/reference/rest/v1beta1/projects.locations.models.evaluations/list)"
   ]
  },
  {
   "cell_type": "markdown",
   "metadata": {
    "id": "c9k8GnUemDy7"
   },
   "source": [
    "#### Call"
   ]
  },
  {
   "cell_type": "code",
   "execution_count": null,
   "metadata": {
    "id": "cESW6zutmDy8"
   },
   "outputs": [],
   "source": [
    "request = clients[\"model\"].list_model_evaluations(\n",
    "    parent=model_id\n",
    ")\n"
   ]
  },
  {
   "cell_type": "markdown",
   "metadata": {
    "id": "bGFL_p9SmDy8"
   },
   "source": [
    "#### Response"
   ]
  },
  {
   "cell_type": "code",
   "execution_count": null,
   "metadata": {
    "id": "prEvwExMmDy8",
    "outputId": "6410842d-dcf2-4a9a-c473-5a9b8ed554e6",
    "scrolled": true
   },
   "outputs": [],
   "source": [
    "model_evaluations = [\n",
    "    json.loads(MessageToJson(mel.__dict__[\"_pb\"])) for mel in request \n",
    "]\n",
    "\n",
    "# The evaluation slice\n",
    "evaluation_slice = request.model_evaluations[0].name\n",
    "\n",
    "print(json.dumps(model_evaluations, indent=2))\n"
   ]
  },
  {
   "cell_type": "markdown",
   "metadata": {
    "id": "sPupiwqN_jAB"
   },
   "source": [
    "*Example output*:\n",
    "```\n",
    "[\n",
    "  {\n",
    "    \"name\": \"projects/116273516712/locations/us-central1/models/4400738115568795648/evaluations/7959028222912364544\",\n",
    "    \"metricsSchemaUri\": \"gs://google-cloud-aiplatform/schema/modelevaluation/text_extraction_metrics_1.0.0.yaml\",\n",
    "    \"metrics\": {\n",
    "      \"confusionMatrix\": {\n",
    "        \"rows\": [\n",
    "          [\n",
    "            0.0,\n",
    "            24.0,\n",
    "            23.0,\n",
    "            1.0,\n",
    "            27.0\n",
    "          ],\n",
    "          [\n",
    "            9.0,\n",
    "            40.0,\n",
    "            0.0,\n",
    "            0.0,\n",
    "            10.0\n",
    "          ],\n",
    "          [\n",
    "            11.0,\n",
    "            0.0,\n",
    "            87.0,\n",
    "            0.0,\n",
    "            2.0\n",
    "          ],\n",
    "          [\n",
    "            3.0,\n",
    "            0.0,\n",
    "            0.0,\n",
    "            5.0,\n",
    "            0.0\n",
    "          ],\n",
    "          [\n",
    "            32.0,\n",
    "            16.0,\n",
    "            7.0,\n",
    "            1.0,\n",
    "            186.0\n",
    "          ]\n",
    "        ],\n",
    "        \"annotationSpecs\": [\n",
    "          {\n",
    "            \"displayName\": \"NULL\"\n",
    "          },\n",
    "          {\n",
    "            \"id\": \"2041829376663748608\",\n",
    "            \"displayName\": \"DiseaseClass\"\n",
    "          },\n",
    "          {\n",
    "            \"displayName\": \"Modifier\",\n",
    "            \"id\": \"4347672385877442560\"\n",
    "          },\n",
    "          {\n",
    "            \"displayName\": \"CompositeMention\",\n",
    "            \"id\": \"6653515395091136512\"\n",
    "          },\n",
    "          {\n",
    "            \"id\": \"7806436899697983488\",\n",
    "            \"displayName\": \"SpecificDisease\"\n",
    "          }\n",
    "        ]\n",
    "      },\n",
    "      \"confidenceMetrics\": [\n",
    "        {\n",
    "          \"precision\": 0.74125874,\n",
    "          \"f1Score\": 0.7589499,\n",
    "          \"recall\": 0.7775061,\n",
    "          \"confidenceThreshold\": 0.04\n",
    "        },\n",
    "        {\n",
    "          \"recall\": 0.7457213,\n",
    "          \"confidenceThreshold\": 0.96,\n",
    "          \"precision\": 0.8333333,\n",
    "          \"f1Score\": 0.7870968\n",
    "        },\n",
    "        \n",
    "        # REMOVED FOR BREVITY\n",
    "        \n",
    "        {\n",
    "          \"f1Score\": 0.7596154,\n",
    "          \"recall\": 0.77261615,\n",
    "          \"confidenceThreshold\": 0.44,\n",
    "          \"precision\": 0.7470449\n",
    "        }\n",
    "      ]\n",
    "    },\n",
    "    \"createTime\": \"2021-03-01T17:59:23.638307Z\",\n",
    "    \"sliceDimensions\": [\n",
    "      \"annotationSpec\"\n",
    "    ]\n",
    "  }\n",
    "]\n",
    "```\n",
    "\n"
   ]
  },
  {
   "cell_type": "markdown",
   "metadata": {
    "id": "wr2JuU5nJjka"
   },
   "source": [
    "### [projects.locations.models.evaluations.get](https://cloud.google.com/ai-platform-unified/docs/reference/rest/v1beta1/projects.locations.models.evaluations/get)"
   ]
  },
  {
   "cell_type": "markdown",
   "metadata": {
    "id": "7DKMBMcEmDy8"
   },
   "source": [
    "#### Call"
   ]
  },
  {
   "cell_type": "code",
   "execution_count": null,
   "metadata": {
    "id": "CXakTdZ7mDy8"
   },
   "outputs": [],
   "source": [
    "request = clients[\"model\"].get_model_evaluation(\n",
    "    name=evaluation_slice\n",
    ")\n"
   ]
  },
  {
   "cell_type": "markdown",
   "metadata": {
    "id": "_Ch_w1a9mDy9"
   },
   "source": [
    "#### Response"
   ]
  },
  {
   "cell_type": "code",
   "execution_count": null,
   "metadata": {
    "id": "LKXnVatsmDy9",
    "outputId": "7789314d-6a12-42df-a0e8-a252eef4595d",
    "scrolled": true
   },
   "outputs": [],
   "source": [
    "print(MessageToJson(request.__dict__[\"_pb\"]))\n"
   ]
  },
  {
   "cell_type": "markdown",
   "metadata": {
    "id": "sPupiwqN_jAB"
   },
   "source": [
    "*Example output*:\n",
    "```\n",
    "{\n",
    "  \"name\": \"projects/116273516712/locations/us-central1/models/4400738115568795648/evaluations/7959028222912364544\",\n",
    "  \"metricsSchemaUri\": \"gs://google-cloud-aiplatform/schema/modelevaluation/text_extraction_metrics_1.0.0.yaml\",\n",
    "  \"metrics\": {\n",
    "    \"confusionMatrix\": {\n",
    "      \"rows\": [\n",
    "        [\n",
    "          0.0,\n",
    "          24.0,\n",
    "          23.0,\n",
    "          1.0,\n",
    "          27.0\n",
    "        ],\n",
    "        [\n",
    "          9.0,\n",
    "          40.0,\n",
    "          0.0,\n",
    "          0.0,\n",
    "          10.0\n",
    "        ],\n",
    "        [\n",
    "          11.0,\n",
    "          0.0,\n",
    "          87.0,\n",
    "          0.0,\n",
    "          2.0\n",
    "        ],\n",
    "        [\n",
    "          3.0,\n",
    "          0.0,\n",
    "          0.0,\n",
    "          5.0,\n",
    "          0.0\n",
    "        ],\n",
    "        [\n",
    "          32.0,\n",
    "          16.0,\n",
    "          7.0,\n",
    "          1.0,\n",
    "          186.0\n",
    "        ]\n",
    "      ],\n",
    "      \"annotationSpecs\": [\n",
    "        {\n",
    "          \"displayName\": \"NULL\"\n",
    "        },\n",
    "        {\n",
    "          \"id\": \"2041829376663748608\",\n",
    "          \"displayName\": \"DiseaseClass\"\n",
    "        },\n",
    "        {\n",
    "          \"displayName\": \"Modifier\",\n",
    "          \"id\": \"4347672385877442560\"\n",
    "        },\n",
    "        {\n",
    "          \"id\": \"6653515395091136512\",\n",
    "          \"displayName\": \"CompositeMention\"\n",
    "        },\n",
    "        {\n",
    "          \"displayName\": \"SpecificDisease\",\n",
    "          \"id\": \"7806436899697983488\"\n",
    "        }\n",
    "      ]\n",
    "    },\n",
    "    \"confidenceMetrics\": [\n",
    "      {\n",
    "        \"precision\": 0.74125874,\n",
    "        \"recall\": 0.7775061,\n",
    "        \"confidenceThreshold\": 0.04,\n",
    "        \"f1Score\": 0.7589499\n",
    "      },\n",
    "      {\n",
    "        \"f1Score\": 0.7870968,\n",
    "        \"recall\": 0.7457213,\n",
    "        \"confidenceThreshold\": 0.96,\n",
    "        \"precision\": 0.8333333\n",
    "      },\n",
    "      \n",
    "      # REMOVED FOR BREVITY\n",
    "      \n",
    "      {\n",
    "        \"precision\": 0.745283,\n",
    "        \"f1Score\": 0.7587035,\n",
    "        \"recall\": 0.77261615,\n",
    "        \"confidenceThreshold\": 0.43\n",
    "      },\n",
    "      {\n",
    "        \"precision\": 0.7470449,\n",
    "        \"recall\": 0.77261615,\n",
    "        \"confidenceThreshold\": 0.44,\n",
    "        \"f1Score\": 0.7596154\n",
    "      }\n",
    "    ]\n",
    "  },\n",
    "  \"createTime\": \"2021-03-01T17:59:23.638307Z\",\n",
    "  \"sliceDimensions\": [\n",
    "    \"annotationSpec\"\n",
    "  ]\n",
    "}\n",
    "```\n",
    "\n"
   ]
  },
  {
   "cell_type": "markdown",
   "metadata": {
    "id": "OnCI5OoPmDy9"
   },
   "source": [
    "## Make batch predictions"
   ]
  },
  {
   "cell_type": "markdown",
   "metadata": {
    "id": "gM-YixlLmDy9"
   },
   "source": [
    "### Make a batch prediction file\r\n",
    "\r\n"
   ]
  },
  {
   "cell_type": "code",
   "execution_count": null,
   "metadata": {
    "id": "V6caf56xmDy9"
   },
   "outputs": [],
   "source": [
    "import tensorflow as tf\n",
    "import json\n",
    "\n",
    "\n",
    "test_item = 'Molecular basis of hexosaminidase A deficiency and pseudodeficiency in the Berks County Pennsylvania Dutch.\\\\tFollowing the birth of two infants with Tay-Sachs disease ( TSD ) , a non-Jewish , Pennsylvania Dutch kindred was screened for TSD carriers using the biochemical assay . A high frequency of individuals who appeared to be TSD heterozygotes was detected ( Kelly et al . , 1975 ) . Clinical and biochemical evidence suggested that the increased carrier frequency was due to at least two altered alleles for the hexosaminidase A alpha-subunit . We now report two mutant alleles in this Pennsylvania Dutch kindred , and one polymorphism . One allele , reported originally in a French TSD patient ( Akli et al . , 1991 ) , is a GT-- > AT transition at the donor splice-site of intron 9 . The second , a C-- > T transition at nucleotide 739 ( Arg247Trp ) , has been shown by Triggs-Raine et al . ( 1992 ) to be a clinically benign \" pseudodeficient \" allele associated with reduced enzyme activity against artificial substrate . Finally , a polymorphism [ G-- > A ( 759 ) ] , which leaves valine at codon 253 unchanged , is described'\n",
    "\n",
    "gcs_test_item = \"gs://\" + BUCKET_NAME + \"/test.txt\"\n",
    "with tf.io.gfile.GFile(gcs_test_item, 'w') as f:\n",
    "    f.write(test_item + '\\n')\n",
    "\n",
    "gcs_input_uri = \"gs://\" + BUCKET_NAME + \"/test.jsonl\"\n",
    "with tf.io.gfile.GFile(gcs_input_uri, 'w') as f:\n",
    "    f.write(json.dumps({\"content\": gcs_test_item, \"mime_type\": \"text/plain\"}) + '\\n')\n",
    "\n",
    "! gsutil cat $gcs_input_uri\n",
    "! gsutil cat $gcs_test_item\n"
   ]
  },
  {
   "cell_type": "markdown",
   "metadata": {
    "id": "sPupiwqN_jAB"
   },
   "source": [
    "*Example output*:\n",
    "```\n",
    "{\"content\": \"gs://f33-ucaip-trainingaip-20210301154552/test.txt\", \"mime_type\": \"text/plain\"}\n",
    "Molecular basis of hexosaminidase A deficiency and pseudodeficiency in the Berks County Pennsylvania Dutch.\\tFollowing the birth of two infants with Tay-Sachs disease ( TSD ) , a non-Jewish , Pennsylvania Dutch kindred was screened for TSD carriers using the biochemical assay . A high frequency of individuals who appeared to be TSD heterozygotes was detected ( Kelly et al . , 1975 ) . Clinical and biochemical evidence suggested that the increased carrier frequency was due to at least two altered alleles for the hexosaminidase A alpha-subunit . We now report two mutant alleles in this Pennsylvania Dutch kindred , and one polymorphism . One allele , reported originally in a French TSD patient ( Akli et al . , 1991 ) , is a GT-- > AT transition at the donor splice-site of intron 9 . The second , a C-- > T transition at nucleotide 739 ( Arg247Trp ) , has been shown by Triggs-Raine et al . ( 1992 ) to be a clinically benign \" pseudodeficient \" allele associated with reduced enzyme activity against artificial substrate . Finally , a polymorphism [ G-- > A ( 759 ) ] , which leaves valine at codon 253 unchanged , is described\n",
    "```\n",
    "\n"
   ]
  },
  {
   "cell_type": "markdown",
   "metadata": {
    "id": "5YZGIxwFmDy9"
   },
   "source": [
    "### [projects.locations.batchPredictionJobs.create](https://cloud.google.com/ai-platform-unified/docs/reference/rest/v1beta1/projects.locations.batchPredictionJobs/create)"
   ]
  },
  {
   "cell_type": "markdown",
   "metadata": {
    "id": "ozaMOwdNJjkT"
   },
   "source": [
    "#### Request"
   ]
  },
  {
   "cell_type": "code",
   "execution_count": null,
   "metadata": {
    "id": "RXRw6E0XmDy-",
    "outputId": "dc19d09f-d3f4-444a-f2b5-5fa9212ce160"
   },
   "outputs": [],
   "source": [
    "batch_prediction_job = {\n",
    "    \"display_name\": \"ten_\" + TIMESTAMP,\n",
    "    \"model\": model_id,\n",
    "    \"input_config\": {\n",
    "        \"instances_format\": \"jsonl\",\n",
    "        \"gcs_source\": {\n",
    "            \"uris\": [gcs_input_uri]\n",
    "        }\n",
    "    },\n",
    "    \"output_config\": {\n",
    "        \"predictions_format\": \"jsonl\",\n",
    "        \"gcs_destination\": {\n",
    "            \"output_uri_prefix\": \"gs://\" + f\"{BUCKET_NAME}/batch_output/\"\n",
    "        }\n",
    "    },\n",
    "    \"dedicated_resources\": {\n",
    "        \"machine_spec\": {\n",
    "            \"machine_type\": \"n1-standard-2\",\n",
    "            \"accelerator_count\": 0\n",
    "        },\n",
    "        \"starting_replica_count\": 1,\n",
    "        \"max_replica_count\": 1\n",
    "    }\n",
    "}\n",
    "\n",
    "print(MessageToJson(\n",
    "    aip.CreateBatchPredictionJobRequest(\n",
    "        parent=PARENT,\n",
    "        batch_prediction_job=batch_prediction_job\n",
    "    ).__dict__[\"_pb\"])\n",
    ")\n"
   ]
  },
  {
   "cell_type": "markdown",
   "metadata": {
    "id": "sPupiwqN_jAB"
   },
   "source": [
    "*Example output*:\n",
    "```\n",
    "{\n",
    "  \"parent\": \"projects/f33-ucaip-training/locations/us-central1\",\n",
    "  \"batchPredictionJob\": {\n",
    "    \"displayName\": \"ten_20210301154552\",\n",
    "    \"model\": \"projects/116273516712/locations/us-central1/models/4400738115568795648\",\n",
    "    \"inputConfig\": {\n",
    "      \"instancesFormat\": \"jsonl\",\n",
    "      \"gcsSource\": {\n",
    "        \"uris\": [\n",
    "          \"gs://f33-ucaip-trainingaip-20210301154552/test.jsonl\"\n",
    "        ]\n",
    "      }\n",
    "    },\n",
    "    \"outputConfig\": {\n",
    "      \"predictionsFormat\": \"jsonl\",\n",
    "      \"gcsDestination\": {\n",
    "        \"outputUriPrefix\": \"gs://f33-ucaip-trainingaip-20210301154552/batch_output/\"\n",
    "      }\n",
    "    },\n",
    "    \"dedicatedResources\": {\n",
    "      \"machineSpec\": {\n",
    "        \"machineType\": \"n1-standard-2\"\n",
    "      },\n",
    "      \"startingReplicaCount\": 1,\n",
    "      \"maxReplicaCount\": 1\n",
    "    }\n",
    "  }\n",
    "}\n",
    "```\n",
    "\n"
   ]
  },
  {
   "cell_type": "markdown",
   "metadata": {
    "id": "sjVy8V2vmDy-"
   },
   "source": [
    "#### Call"
   ]
  },
  {
   "cell_type": "code",
   "execution_count": null,
   "metadata": {
    "id": "Gl-oZ4iEmDy-"
   },
   "outputs": [],
   "source": [
    "request = clients['job'].create_batch_prediction_job(\n",
    "    parent=PARENT, \n",
    "    batch_prediction_job=batch_prediction_job\n",
    ")\n"
   ]
  },
  {
   "cell_type": "markdown",
   "metadata": {
    "id": "D8ZPK4CJmDy-"
   },
   "source": [
    "#### Response"
   ]
  },
  {
   "cell_type": "code",
   "execution_count": null,
   "metadata": {
    "id": "5SFADp4amDy-",
    "outputId": "ea7b1e0e-4b8c-41d8-975d-436115f04c96"
   },
   "outputs": [],
   "source": [
    "print(MessageToJson(request.__dict__[\"_pb\"]))\n"
   ]
  },
  {
   "cell_type": "markdown",
   "metadata": {
    "id": "sPupiwqN_jAB"
   },
   "source": [
    "*Example output*:\n",
    "```\n",
    "{\n",
    "  \"name\": \"projects/116273516712/locations/us-central1/batchPredictionJobs/3588251799200464896\",\n",
    "  \"displayName\": \"ten_20210301154552\",\n",
    "  \"model\": \"projects/116273516712/locations/us-central1/models/4400738115568795648\",\n",
    "  \"inputConfig\": {\n",
    "    \"instancesFormat\": \"jsonl\",\n",
    "    \"gcsSource\": {\n",
    "      \"uris\": [\n",
    "        \"gs://f33-ucaip-trainingaip-20210301154552/test.jsonl\"\n",
    "      ]\n",
    "    }\n",
    "  },\n",
    "  \"outputConfig\": {\n",
    "    \"predictionsFormat\": \"jsonl\",\n",
    "    \"gcsDestination\": {\n",
    "      \"outputUriPrefix\": \"gs://f33-ucaip-trainingaip-20210301154552/batch_output/\"\n",
    "    }\n",
    "  },\n",
    "  \"state\": \"JOB_STATE_PENDING\",\n",
    "  \"completionStats\": {\n",
    "    \"incompleteCount\": \"-1\"\n",
    "  },\n",
    "  \"createTime\": \"2021-03-01T17:59:42.777083Z\",\n",
    "  \"updateTime\": \"2021-03-01T17:59:42.777083Z\"\n",
    "}\n",
    "```\n",
    "\n"
   ]
  },
  {
   "cell_type": "code",
   "execution_count": null,
   "metadata": {},
   "outputs": [],
   "source": [
    "# The fully qualified ID for the batch job\n",
    "batch_job_id = request.name\n",
    "# The short numeric ID for the batch job\n",
    "batch_job_short_id = batch_job_id.split('/')[-1]\n",
    "\n",
    "print(batch_job_id)\n"
   ]
  },
  {
   "cell_type": "markdown",
   "metadata": {
    "id": "AOgLC0hnmDy_"
   },
   "source": [
    "### [projects.locations.batchPredictionJobs.get](https://cloud.google.com/ai-platform-unified/docs/reference/rest/v1beta1/projects.locations.batchPredictionJobs/get)"
   ]
  },
  {
   "cell_type": "markdown",
   "metadata": {
    "id": "YRHUe9-ZmDy_"
   },
   "source": [
    "#### Call"
   ]
  },
  {
   "cell_type": "code",
   "execution_count": null,
   "metadata": {
    "id": "qi6-JkammDy_"
   },
   "outputs": [],
   "source": [
    "request = clients['job'].get_batch_prediction_job(\n",
    "    name=batch_job_id\n",
    ")\n"
   ]
  },
  {
   "cell_type": "markdown",
   "metadata": {
    "id": "KQUdbrjfmDy_"
   },
   "source": [
    "#### Response"
   ]
  },
  {
   "cell_type": "code",
   "execution_count": null,
   "metadata": {
    "id": "h3DRpflrmDy_",
    "outputId": "3bf41736-cfc3-4b27-c0c3-87b178aee989"
   },
   "outputs": [],
   "source": [
    "print(MessageToJson(request.__dict__[\"_pb\"]))\n"
   ]
  },
  {
   "cell_type": "markdown",
   "metadata": {
    "id": "sPupiwqN_jAB"
   },
   "source": [
    "*Example output*:\n",
    "```\n",
    "{\n",
    "  \"name\": \"projects/116273516712/locations/us-central1/batchPredictionJobs/3588251799200464896\",\n",
    "  \"displayName\": \"ten_20210301154552\",\n",
    "  \"model\": \"projects/116273516712/locations/us-central1/models/4400738115568795648\",\n",
    "  \"inputConfig\": {\n",
    "    \"instancesFormat\": \"jsonl\",\n",
    "    \"gcsSource\": {\n",
    "      \"uris\": [\n",
    "        \"gs://f33-ucaip-trainingaip-20210301154552/test.jsonl\"\n",
    "      ]\n",
    "    }\n",
    "  },\n",
    "  \"outputConfig\": {\n",
    "    \"predictionsFormat\": \"jsonl\",\n",
    "    \"gcsDestination\": {\n",
    "      \"outputUriPrefix\": \"gs://f33-ucaip-trainingaip-20210301154552/batch_output/\"\n",
    "    }\n",
    "  },\n",
    "  \"state\": \"JOB_STATE_PENDING\",\n",
    "  \"completionStats\": {\n",
    "    \"incompleteCount\": \"-1\"\n",
    "  },\n",
    "  \"createTime\": \"2021-03-01T17:59:42.777083Z\",\n",
    "  \"updateTime\": \"2021-03-01T17:59:42.777083Z\"\n",
    "}\n",
    "```\n",
    "\n"
   ]
  },
  {
   "cell_type": "code",
   "execution_count": null,
   "metadata": {
    "id": "batchpredictionjobs_get:migration,new,wait",
    "outputId": "b98cfbd4-ad53-4cf1-fcde-5f00f9c8c1a8",
    "scrolled": true
   },
   "outputs": [],
   "source": [
    "while True:\n",
    "    response = clients[\"job\"].get_batch_prediction_job(name=batch_job_id)\n",
    "    if response.state != aip.JobState.JOB_STATE_SUCCEEDED:\n",
    "        print(\"The job has not completed:\", response.state)\n",
    "        if response.state == aip.JobState.JOB_STATE_FAILED:\n",
    "            break\n",
    "    else:\n",
    "        folder = response.output_config.gcs_destination.output_uri_prefix[:-1]\n",
    "        ! gsutil ls $folder/prediction*/*.jsonl\n",
    "\n",
    "        ! gsutil cat $folder/prediction*/*.jsonl\n",
    "        break\n",
    "    time.sleep(60)\n"
   ]
  },
  {
   "cell_type": "markdown",
   "metadata": {
    "id": "trainingpipelines_create:migration,new,response,icn"
   },
   "source": [
    "*Example output*:\n",
    "```\n",
    "gs://f33-ucaip-trainingaip-20210301154552/batch_output/prediction-ten_20210301154552-2021-03-01T17:59:42.638222Z/predictions_00001.jsonl\n",
    "{\"instance\":{\"content\":\"gs://f33-ucaip-trainingaip-20210301154552/test.txt\",\"mimeType\":\"text/plain\"},\"prediction\":{\"ids\":[\"7806436899697983488\",\"7806436899697983488\",\"7806436899697983488\",\"4347672385877442560\",\"4347672385877442560\",\"4347672385877442560\"],\"displayNames\":[\"SpecificDisease\",\"SpecificDisease\",\"SpecificDisease\",\"Modifier\",\"Modifier\",\"Modifier\"],\"textSegmentStartOffsets\":[\"149\",\"19\",\"169\",\"236\",\"688\",\"330\"],\"textSegmentEndOffsets\":[\"165\",\"45\",\"171\",\"238\",\"690\",\"332\"],\"confidences\":[0.99957836,0.9995628,0.9995044,0.9993287,0.9993144,0.99927235]}}\n",
    "```\n",
    "\n"
   ]
  },
  {
   "cell_type": "markdown",
   "metadata": {
    "id": "wOZktSibmDzA"
   },
   "source": [
    "## Make online predictions"
   ]
  },
  {
   "cell_type": "markdown",
   "metadata": {
    "id": "COwVZtxhJjkW"
   },
   "source": [
    "### [projects.locations.endpoints.create](https://cloud.google.com/ai-platform-unified/docs/reference/rest/v1beta1/projects.locations.endpoints/create)"
   ]
  },
  {
   "cell_type": "markdown",
   "metadata": {
    "id": "UqsMvafmmDzA"
   },
   "source": [
    "#### Request"
   ]
  },
  {
   "cell_type": "code",
   "execution_count": null,
   "metadata": {
    "id": "WJXSR0SemDzA",
    "outputId": "b63be784-d973-4caf-804a-7713a13321b9"
   },
   "outputs": [],
   "source": [
    "endpoint = {\n",
    "    \"display_name\": \"ten_\" + TIMESTAMP\n",
    "}\n",
    "\n",
    "print(MessageToJson(\n",
    "    aip.CreateEndpointRequest(\n",
    "        parent=PARENT, \n",
    "        endpoint=endpoint\n",
    "    ).__dict__[\"_pb\"])\n",
    ")\n"
   ]
  },
  {
   "cell_type": "markdown",
   "metadata": {
    "id": "sPupiwqN_jAB"
   },
   "source": [
    "*Example output*:\n",
    "```\n",
    "{\n",
    "  \"parent\": \"projects/f33-ucaip-training/locations/us-central1\",\n",
    "  \"endpoint\": {\n",
    "    \"displayName\": \"ten_20210301154552\"\n",
    "  }\n",
    "}\n",
    "```\n",
    "\n"
   ]
  },
  {
   "cell_type": "markdown",
   "metadata": {
    "id": "TkObt-D9mDzB"
   },
   "source": [
    "#### Call"
   ]
  },
  {
   "cell_type": "code",
   "execution_count": null,
   "metadata": {
    "id": "4yS1e4-umDzB"
   },
   "outputs": [],
   "source": [
    "request = clients['endpoint'].create_endpoint(\n",
    "    parent=PARENT, \n",
    "    endpoint=endpoint\n",
    ")\n"
   ]
  },
  {
   "cell_type": "markdown",
   "metadata": {
    "id": "XhlKSNtLmDzB"
   },
   "source": [
    "#### Response"
   ]
  },
  {
   "cell_type": "code",
   "execution_count": null,
   "metadata": {
    "id": "rx_183PQmDzB",
    "outputId": "e238addf-9809-46c0-ab10-ede4c0444166"
   },
   "outputs": [],
   "source": [
    "result =request.result()\n",
    "\n",
    "print(MessageToJson(result.__dict__[\"_pb\"]))\n"
   ]
  },
  {
   "cell_type": "markdown",
   "metadata": {
    "id": "sPupiwqN_jAB"
   },
   "source": [
    "*Example output*:\n",
    "```\n",
    "{\n",
    "  \"name\": \"projects/116273516712/locations/us-central1/endpoints/8916247652891361280\"\n",
    "}\n",
    "```\n",
    "\n"
   ]
  },
  {
   "cell_type": "code",
   "execution_count": null,
   "metadata": {},
   "outputs": [],
   "source": [
    "# The fully qualified ID for the endpoint\n",
    "endpoint_id = result.name\n",
    "# The short numeric ID for the endpoint\n",
    "endpoint_short_id = endpoint_id.split('/')[-1]\n",
    "\n",
    "print(endpoint_id)\n"
   ]
  },
  {
   "cell_type": "markdown",
   "metadata": {
    "id": "gpnVJS3AJjkW"
   },
   "source": [
    "### [projects.locations.endpoints.deployModel](https://cloud.google.com/ai-platform-unified/docs/reference/rest/v1beta1/projects.locations.endpoints/deployModel)"
   ]
  },
  {
   "cell_type": "markdown",
   "metadata": {
    "id": "BtJfuq3FmDzC"
   },
   "source": [
    "#### Request"
   ]
  },
  {
   "cell_type": "code",
   "execution_count": null,
   "metadata": {
    "id": "BiHGmlWCmDzC",
    "outputId": "92ff0840-6e0a-4b1d-8a2c-5991ce0237a1"
   },
   "outputs": [],
   "source": [
    "deployed_model = {\n",
    "    \"model\": model_id,\n",
    "    \"display_name\": \"ten_\" + TIMESTAMP,\n",
    "    \"automatic_resources\": {\n",
    "        \"min_replica_count\": 1, \n",
    "        \"max_replica_count\": 1\n",
    "    }\n",
    "}\n",
    "\n",
    "traffic_split={\"0\": 100}\n",
    "\n",
    "print(MessageToJson(\n",
    "    aip.DeployModelRequest(\n",
    "        endpoint=endpoint_id, \n",
    "        deployed_model=deployed_model, \n",
    "        traffic_split=traffic_split            \n",
    "    ).__dict__[\"_pb\"])\n",
    ")\n"
   ]
  },
  {
   "cell_type": "markdown",
   "metadata": {
    "id": "sPupiwqN_jAB"
   },
   "source": [
    "*Example output*:\n",
    "```\n",
    "{\n",
    "  \"endpoint\": \"projects/116273516712/locations/us-central1/endpoints/8916247652891361280\",\n",
    "  \"deployedModel\": {\n",
    "    \"model\": \"projects/116273516712/locations/us-central1/models/4400738115568795648\",\n",
    "    \"displayName\": \"ten_20210301154552\",\n",
    "    \"automaticResources\": {\n",
    "      \"minReplicaCount\": 1,\n",
    "      \"maxReplicaCount\": 1\n",
    "    }\n",
    "  },\n",
    "  \"trafficSplit\": {\n",
    "    \"0\": 100\n",
    "  }\n",
    "}\n",
    "```\n",
    "\n"
   ]
  },
  {
   "cell_type": "markdown",
   "metadata": {
    "id": "hIzbdl0VmDzC"
   },
   "source": [
    "#### Call"
   ]
  },
  {
   "cell_type": "code",
   "execution_count": null,
   "metadata": {
    "id": "4N0ab1LbmDzC"
   },
   "outputs": [],
   "source": [
    "request = clients['endpoint'].deploy_model(\n",
    "    endpoint=endpoint_id, \n",
    "    deployed_model=deployed_model, \n",
    "    traffic_split=traffic_split\n",
    ")\n"
   ]
  },
  {
   "cell_type": "markdown",
   "metadata": {
    "id": "3VEwSDuDmDzC"
   },
   "source": [
    "#### Response"
   ]
  },
  {
   "cell_type": "code",
   "execution_count": null,
   "metadata": {
    "id": "usGWKp2OmDzD",
    "outputId": "34196306-a4ff-4b9b-cdc2-2fdf554bfe5c"
   },
   "outputs": [],
   "source": [
    "result = request.result()\n",
    "\n",
    "print(MessageToJson(result.__dict__[\"_pb\"]))\n"
   ]
  },
  {
   "cell_type": "markdown",
   "metadata": {
    "id": "sPupiwqN_jAB"
   },
   "source": [
    "*Example output*:\n",
    "```\n",
    "{\n",
    "  \"deployedModel\": {\n",
    "    \"id\": \"3958065938133155840\"\n",
    "  }\n",
    "}\n",
    "```\n",
    "\n"
   ]
  },
  {
   "cell_type": "code",
   "execution_count": null,
   "metadata": {
    "id": "deployed_model_id:migration,new,response",
    "outputId": "cd66ffb7-4a45-42c8-819f-bd3f1e2edee8"
   },
   "outputs": [],
   "source": [
    "# The unique ID for the deployed model\n",
    "deployed_model_id = result.deployed_model.id\n",
    "\n",
    "print(deployed_model_id)\n"
   ]
  },
  {
   "cell_type": "markdown",
   "metadata": {
    "id": "Q4d0u9hLmDzD"
   },
   "source": [
    "### [projects.locations.endpoints.predict](https://cloud.google.com/ai-platform-unified/docs/reference/rest/v1beta1/projects.locations.endpoints/predict)"
   ]
  },
  {
   "cell_type": "markdown",
   "metadata": {},
   "source": [
    "#### Prepare data item for online prediction"
   ]
  },
  {
   "cell_type": "code",
   "execution_count": null,
   "metadata": {
    "id": "kJ5XyBVrmDzA"
   },
   "outputs": [],
   "source": [
    "test_item = 'Molecular basis of hexosaminidase A deficiency and pseudodeficiency in the Berks County Pennsylvania Dutch.\\\\tFollowing the birth of two infants with Tay-Sachs disease ( TSD ) , a non-Jewish , Pennsylvania Dutch kindred was screened for TSD carriers using the biochemical assay . A high frequency of individuals who appeared to be TSD heterozygotes was detected ( Kelly et al . , 1975 ) . Clinical and biochemical evidence suggested that the increased carrier frequency was due to at least two altered alleles for the hexosaminidase A alpha-subunit . We now report two mutant alleles in this Pennsylvania Dutch kindred , and one polymorphism . One allele , reported originally in a French TSD patient ( Akli et al . , 1991 ) , is a GT-- > AT transition at the donor splice-site of intron 9 . The second , a C-- > T transition at nucleotide 739 ( Arg247Trp ) , has been shown by Triggs-Raine et al . ( 1992 ) to be a clinically benign \" pseudodeficient \" allele associated with reduced enzyme activity against artificial substrate . Finally , a polymorphism [ G-- > A ( 759 ) ] , which leaves valine at codon 253 unchanged , is described'\n"
   ]
  },
  {
   "cell_type": "markdown",
   "metadata": {
    "id": "Fwp-_YXHmDzD"
   },
   "source": [
    "#### Request"
   ]
  },
  {
   "cell_type": "code",
   "execution_count": null,
   "metadata": {
    "id": "nxF4dCLcmDzD",
    "outputId": "73ae69c4-4191-4995-df8c-e3c32208dda2"
   },
   "outputs": [],
   "source": [
    "instances_list = [{\"content\": test_item}]\n",
    "\n",
    "instances = [\n",
    "    json_format.ParseDict(s, Value()) for s in instances_list\n",
    "]\n",
    "\n",
    "prediction_request = aip.PredictRequest(\n",
    "    endpoint=endpoint_id, \n",
    ")\n",
    "prediction_request.instances.append(instances)\n",
    "\n",
    "print(MessageToJson(prediction_request.__dict__[\"_pb\"]))\n"
   ]
  },
  {
   "cell_type": "markdown",
   "metadata": {
    "id": "sPupiwqN_jAB"
   },
   "source": [
    "*Example output*:\n",
    "```\n",
    "{\n",
    "  \"endpoint\": \"projects/116273516712/locations/us-central1/endpoints/8916247652891361280\",\n",
    "  \"instances\": [\n",
    "    [\n",
    "      {\n",
    "        \"content\": \"Molecular basis of hexosaminidase A deficiency and pseudodeficiency in the Berks County Pennsylvania Dutch.\\\\tFollowing the birth of two infants with Tay-Sachs disease ( TSD ) , a non-Jewish , Pennsylvania Dutch kindred was screened for TSD carriers using the biochemical assay . A high frequency of individuals who appeared to be TSD heterozygotes was detected ( Kelly et al . , 1975 ) . Clinical and biochemical evidence suggested that the increased carrier frequency was due to at least two altered alleles for the hexosaminidase A alpha-subunit . We now report two mutant alleles in this Pennsylvania Dutch kindred , and one polymorphism . One allele , reported originally in a French TSD patient ( Akli et al . , 1991 ) , is a GT-- > AT transition at the donor splice-site of intron 9 . The second , a C-- > T transition at nucleotide 739 ( Arg247Trp ) , has been shown by Triggs-Raine et al . ( 1992 ) to be a clinically benign \\\" pseudodeficient \\\" allele associated with reduced enzyme activity against artificial substrate . Finally , a polymorphism [ G-- > A ( 759 ) ] , which leaves valine at codon 253 unchanged , is described\"\n",
    "      }\n",
    "    ]\n",
    "  ]\n",
    "}\n",
    "```\n",
    "\n"
   ]
  },
  {
   "cell_type": "markdown",
   "metadata": {
    "id": "vHkuSZxkJjkT"
   },
   "source": [
    "#### Call"
   ]
  },
  {
   "cell_type": "code",
   "execution_count": null,
   "metadata": {
    "id": "MmtZNBAHmDzE"
   },
   "outputs": [],
   "source": [
    "request = clients['prediction'].predict(\n",
    "    endpoint=endpoint_id, \n",
    "    instances=instances\n",
    ")\n"
   ]
  },
  {
   "cell_type": "markdown",
   "metadata": {
    "id": "FLqkZMD2JjkT"
   },
   "source": [
    "#### Response"
   ]
  },
  {
   "cell_type": "code",
   "execution_count": null,
   "metadata": {
    "id": "vGx0eDC0mDzE",
    "outputId": "0f5657b9-c54d-481c-fd4a-2a4d849eedb7"
   },
   "outputs": [],
   "source": [
    "print(MessageToJson(request.__dict__[\"_pb\"]))\n"
   ]
  },
  {
   "cell_type": "markdown",
   "metadata": {
    "id": "sPupiwqN_jAB"
   },
   "source": [
    "*Example output*:\n",
    "```\n",
    "{\n",
    "  \"predictions\": [\n",
    "    {\n",
    "      \"displayNames\": [\n",
    "        \"SpecificDisease\",\n",
    "        \"SpecificDisease\",\n",
    "        \"SpecificDisease\",\n",
    "        \"Modifier\",\n",
    "        \"Modifier\",\n",
    "        \"Modifier\"\n",
    "      ],\n",
    "      \"confidences\": [\n",
    "        0.9995627999305725,\n",
    "        0.9995783567428589,\n",
    "        0.9995043873786926,\n",
    "        0.9993286728858948,\n",
    "        0.999272346496582,\n",
    "        0.9993144273757935\n",
    "      ],\n",
    "      \"textSegmentStartOffsets\": [\n",
    "        19.0,\n",
    "        149.0,\n",
    "        169.0,\n",
    "        236.0,\n",
    "        330.0,\n",
    "        688.0\n",
    "      ],\n",
    "      \"ids\": [\n",
    "        \"7806436899697983488\",\n",
    "        \"7806436899697983488\",\n",
    "        \"7806436899697983488\",\n",
    "        \"4347672385877442560\",\n",
    "        \"4347672385877442560\",\n",
    "        \"4347672385877442560\"\n",
    "      ],\n",
    "      \"textSegmentEndOffsets\": [\n",
    "        46.0,\n",
    "        166.0,\n",
    "        172.0,\n",
    "        239.0,\n",
    "        333.0,\n",
    "        691.0\n",
    "      ]\n",
    "    }\n",
    "  ],\n",
    "  \"deployedModelId\": \"3958065938133155840\"\n",
    "}\n",
    "```\n",
    "\n"
   ]
  },
  {
   "cell_type": "markdown",
   "metadata": {
    "id": "endpoints_undeploymodel:migration,new"
   },
   "source": [
    "### [projects.locations.endpoints.undeployModel](https://cloud.google.com/ai-platform-unified/docs/reference/rest/v1beta1/projects.locations.endpoints/undeployModel)\n",
    "\n"
   ]
  },
  {
   "cell_type": "markdown",
   "metadata": {
    "id": "KrVZz6Uw_jAp"
   },
   "source": [
    "#### Call\n",
    "\n"
   ]
  },
  {
   "cell_type": "code",
   "execution_count": null,
   "metadata": {
    "id": "endpoints_undeploymodel:migration,new,call"
   },
   "outputs": [],
   "source": [
    "request = clients['endpoint'].undeploy_model(\n",
    "    endpoint=endpoint_id, \n",
    "    deployed_model_id=deployed_model_id, \n",
    "    traffic_split={},\n",
    ")\n"
   ]
  },
  {
   "cell_type": "markdown",
   "metadata": {
    "id": "wvFK-kir_jAq"
   },
   "source": [
    "#### Response\n",
    "\n"
   ]
  },
  {
   "cell_type": "code",
   "execution_count": null,
   "metadata": {
    "id": "GvajSw-Y_jAq",
    "outputId": "ec9b11bb-a8d4-4532-8efb-6ee390edecad"
   },
   "outputs": [],
   "source": [
    "result = request.result()\n",
    "\n",
    "print(MessageToJson(result.__dict__[\"_pb\"]))\n"
   ]
  },
  {
   "cell_type": "markdown",
   "metadata": {
    "id": "sPupiwqN_jAB"
   },
   "source": [
    "*Example output*:\n",
    "```\n",
    "{}\n",
    "```\n",
    "\n"
   ]
  },
  {
   "cell_type": "markdown",
   "metadata": {
    "id": "bQ-VVaSxJjkd"
   },
   "source": [
    "# Cleaning up\r\n",
    "\r\n",
    "To clean up all GCP resources used in this project, you can [delete the GCP\r\n",
    "project](https://cloud.google.com/resource-manager/docs/creating-managing-projects#shutting_down_projects) you used for the tutorial.\r\n",
    "\r\n",
    "Otherwise, you can delete the individual resources you created in this tutorial."
   ]
  },
  {
   "cell_type": "code",
   "execution_count": null,
   "metadata": {
    "id": "5SCM9v_zmDzF"
   },
   "outputs": [],
   "source": [
    "delete_dataset = True\n",
    "delete_model = True\n",
    "delete_endpoint = True\n",
    "delete_pipeline = True\n",
    "delete_batchjob = True\n",
    "delete_bucket = True\n",
    "\n",
    "# Delete the dataset using the AI Platform (Unified) fully qualified identifier for the dataset\n",
    "try:\n",
    "    if delete_dataset:\n",
    "        clients['dataset'].delete_dataset(name=dataset_id)\n",
    "except Exception as e:\n",
    "    print(e)\n",
    "\n",
    "# Delete the model using the AI Platform (Unified) fully qualified identifier for the model\n",
    "try:\n",
    "    if delete_model:\n",
    "        clients['model'].delete_model(name=model_id)\n",
    "except Exception as e:\n",
    "    print(e)\n",
    "    \n",
    "# Delete the endpoint using the AI Platform (Unified) fully qualified identifier for the endpoint\n",
    "try:\n",
    "    if delete_endpoint:\n",
    "        clients['endpoint'].delete_endpoint(name=endpoint_id)\n",
    "except Exception as e:\n",
    "    print(e)\n",
    "\n",
    "# Delete the training pipeline using the AI Platform (Unified) fully qualified identifier for the training pipeline\n",
    "try:\n",
    "    if delete_pipeline:\n",
    "        clients['pipeline'].delete_training_pipeline(name=training_pipeline_id)\n",
    "except Exception as e:\n",
    "    print(e) \n",
    "    \n",
    "# Delete the batch job using the AI Platform (Unified) fully qualified identifier for the batch job\n",
    "try:\n",
    "    if delete_batchjob:\n",
    "        clients['job'].delete_batch_prediction_job(name=batch_job_id)\n",
    "except Exception as e:\n",
    "    print(e)  \n",
    "    \n",
    "\n",
    "if delete_bucket and 'BUCKET_NAME' in globals():\n",
    "    ! gsutil rm -r gs://$BUCKET_NAME\n"
   ]
  },
  {
   "cell_type": "code",
   "execution_count": null,
   "metadata": {},
   "outputs": [],
   "source": []
  }
 ],
 "metadata": {
  "colab": {
   "name": "Kulwant-[UJ.7 NEW] AutoML Natural Language Text Entity Extraction.ipynb",
   "provenance": []
  },
  "environment": {
   "name": "tf2-2-3-gpu.2-3.m55",
   "type": "gcloud",
   "uri": "gcr.io/deeplearning-platform-release/tf2-2-3-gpu.2-3:m55"
  },
  "kernelspec": {
   "display_name": "Python 3",
   "language": "python",
   "name": "python3"
  },
  "language_info": {
   "codemirror_mode": {
    "name": "ipython",
    "version": 3
   },
   "file_extension": ".py",
   "mimetype": "text/x-python",
   "name": "python",
   "nbconvert_exporter": "python",
   "pygments_lexer": "ipython3",
   "version": "3.7.8"
  }
 },
 "nbformat": 4,
 "nbformat_minor": 4
}
