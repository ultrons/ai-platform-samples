{
 "cells": [
  {
   "cell_type": "code",
   "execution_count": null,
   "metadata": {
    "id": "copyright"
   },
   "outputs": [],
   "source": [
    "# Copyright 2021 Google LLC\n",
    "#\n",
    "# Licensed under the Apache License, Version 2.0 (the \"License\");\n",
    "# you may not use this file except in compliance with the License.\n",
    "# You may obtain a copy of the License at\n",
    "#\n",
    "#     https://www.apache.org/licenses/LICENSE-2.0\n",
    "#\n",
    "# Unless required by applicable law or agreed to in writing, software\n",
    "# distributed under the License is distributed on an \"AS IS\" BASIS,\n",
    "# WITHOUT WARRANTIES OR CONDITIONS OF ANY KIND, either express or implied.\n",
    "# See the License for the specific language governing permissions and\n",
    "# limitations under the License.\n"
   ]
  },
  {
   "cell_type": "markdown",
   "metadata": {
    "id": "title:migration,new"
   },
   "source": [
    "# AI Platform (Unified) SDK: Train & deploy a TensorFlow model with custom container (aka pre-built containers)\n",
    "\n"
   ]
  },
  {
   "cell_type": "markdown",
   "metadata": {
    "id": "install_aip"
   },
   "source": [
    "## Installation\n",
    "\n",
    "Install the latest (preview) version of AI Platform (Unified) SDK.\n",
    "\n"
   ]
  },
  {
   "cell_type": "code",
   "execution_count": null,
   "metadata": {
    "id": "KEMtN2uGdx7-",
    "outputId": "666a6df3-9f80-40e6-d221-f91e1c6b4a5e"
   },
   "outputs": [],
   "source": [
    "! pip3 install -U google-cloud-aiplatform --user\n"
   ]
  },
  {
   "cell_type": "markdown",
   "metadata": {
    "id": "install_storage"
   },
   "source": [
    "Install the Google *cloud-storage* library as well.\n",
    "\n"
   ]
  },
  {
   "cell_type": "code",
   "execution_count": null,
   "metadata": {
    "id": "dHmqkk5jdx7-",
    "outputId": "0170e672-4461-46ed-d82d-78fbd169c962"
   },
   "outputs": [],
   "source": [
    "! pip3 install google-cloud-storage\n"
   ]
  },
  {
   "cell_type": "markdown",
   "metadata": {
    "id": "restart"
   },
   "source": [
    "### Restart the Kernel\n",
    "\n",
    "Once you've installed the AI Platform (Unified) SDK and Google *cloud-storage*, you need to restart the notebook kernel so it can find the packages.\n",
    "\n"
   ]
  },
  {
   "cell_type": "code",
   "execution_count": null,
   "metadata": {
    "id": "067J3q5Wdx7_"
   },
   "outputs": [],
   "source": [
    "import os\n",
    "\n",
    "\n",
    "if not os.getenv(\"AUTORUN\") and False:\n",
    "    # Automatically restart kernel after installs\n",
    "    import IPython\n",
    "    app = IPython.Application.instance()\n",
    "    app.kernel.do_shutdown(True)\n"
   ]
  },
  {
   "cell_type": "markdown",
   "metadata": {
    "id": "before_you_begin"
   },
   "source": [
    "## Before you begin\n",
    "\n",
    "### GPU run-time\n",
    "\n",
    "*Make sure you're running this notebook in a GPU runtime if you have that option. In Colab, select* **Runtime > Change Runtime Type > GPU**\n",
    "\n",
    "### Set up your GCP project\n",
    "\n",
    "**The following steps are required, regardless of your notebook environment.**\n",
    "\n",
    "1. [Select or create a GCP project](https://console.cloud.google.com/cloud-resource-manager). When you first create an account, you get a $300 free credit towards your compute/storage costs.\n",
    "\n",
    "2. [Make sure that billing is enabled for your project.](https://cloud.google.com/billing/docs/how-to/modify-project)\n",
    "\n",
    "3. [Enable the AI Platform APIs and Compute Engine APIs.](https://console.cloud.google.com/flows/enableapi?apiid=ml.googleapis.com,compute_component)\n",
    "\n",
    "4. [Google Cloud SDK](https://cloud.google.com/sdk) is already installed in AI Platform Notebooks.\n",
    "\n",
    "5. Enter your project ID in the cell below. Then run the  cell to make sure the\n",
    "Cloud SDK uses the right project for all the commands in this notebook.\n",
    "\n",
    "**Note**: Jupyter runs lines prefixed with `!` as shell commands, and it interpolates Python variables prefixed with `$` into these commands.\n",
    "\n"
   ]
  },
  {
   "cell_type": "code",
   "execution_count": null,
   "metadata": {
    "id": "set_project_id"
   },
   "outputs": [],
   "source": [
    "PROJECT_ID = \"[your-project-id]\" #@param {type:\"string\"}\n"
   ]
  },
  {
   "cell_type": "code",
   "execution_count": null,
   "metadata": {
    "id": "autoset_project_id",
    "outputId": "34a8e426-24b3-4dd7-a54b-f16365206774"
   },
   "outputs": [],
   "source": [
    "if PROJECT_ID == \"\" or PROJECT_ID is None or PROJECT_ID == \"[your-project-id]\":\n",
    "    # Get your GCP project id from gcloud\n",
    "    shell_output = !gcloud config list --format 'value(core.project)' 2>/dev/null\n",
    "    PROJECT_ID = shell_output[0]\n",
    "    print(\"Project ID:\", PROJECT_ID)\n"
   ]
  },
  {
   "cell_type": "code",
   "execution_count": null,
   "metadata": {
    "id": "set_gcloud_project_id",
    "outputId": "c9f8a7bc-0505-4147-e1cc-348f0c0bef24"
   },
   "outputs": [],
   "source": [
    "! gcloud config set project $PROJECT_ID\n"
   ]
  },
  {
   "cell_type": "markdown",
   "metadata": {
    "id": "region"
   },
   "source": [
    "#### Region\n",
    "\n",
    "You can also change the `REGION` variable, which is used for operations\n",
    "throughout the rest of this notebook.  Below are regions supported for AI Platform (Unified). We recommend when possible, to choose the region closest to you.\n",
    "\n",
    "- Americas: `us-central1`\n",
    "- Europe: `europe-west4`\n",
    "- Asia Pacific: `asia-east1`\n",
    "\n",
    "You cannot use a Multi-Regional Storage bucket for training with AI Platform. Not all regions provide support for all AI Platform services. For the latest support per region, see [Region support for AI Platform (Unified) services](https://cloud.google.com/ai-platform-unified/docs/general/locations)\n",
    "\n"
   ]
  },
  {
   "cell_type": "code",
   "execution_count": null,
   "metadata": {
    "id": "mH8isSmUdx8B"
   },
   "outputs": [],
   "source": [
    "REGION = 'us-central1' #@param {type: \"string\"}\n"
   ]
  },
  {
   "cell_type": "markdown",
   "metadata": {
    "id": "timestamp"
   },
   "source": [
    "#### Timestamp\n",
    "\n",
    "If you are in a live tutorial session, you might be using a shared test account or project. To avoid name collisions between users on resources created, you create a timestamp for each instance session, and append onto the name of resources which will be created in this tutorial.\n",
    "\n"
   ]
  },
  {
   "cell_type": "code",
   "execution_count": null,
   "metadata": {
    "id": "rP3ppCOxdx8C"
   },
   "outputs": [],
   "source": [
    "from datetime import datetime\n",
    "\n",
    "\n",
    "TIMESTAMP = datetime.now().strftime(\"%Y%m%d%H%M%S\")\n"
   ]
  },
  {
   "cell_type": "markdown",
   "metadata": {
    "id": "gcp_authenticate"
   },
   "source": [
    "### Authenticate your GCP account\n",
    "\n",
    "**If you are using AI Platform Notebooks**, your environment is already\n",
    "authenticated. Skip this step.\n",
    "\n",
    "*Note: If you are on an AI Platform notebook and run the cell, the cell knows to skip executing the authentication steps.*\n",
    "\n"
   ]
  },
  {
   "cell_type": "code",
   "execution_count": null,
   "metadata": {
    "id": "_0rTTHRRdx8C"
   },
   "outputs": [],
   "source": [
    "import os\n",
    "import sys\n",
    "\n",
    "# If you are running this notebook in Colab, run this cell and follow the\n",
    "# instructions to authenticate your Google Cloud account. This provides access\n",
    "# to your Cloud Storage bucket and lets you submit training jobs and prediction\n",
    "# requests.\n",
    "\n",
    "# If on AI Platform, then don't execute this code\n",
    "if not os.path.exists('/opt/deeplearning/metadata/env_version'):\n",
    "    if 'google.colab' in sys.modules:\n",
    "        from google.colab import auth as google_auth\n",
    "        google_auth.authenticate_user()\n",
    "\n",
    "    # If you are running this tutorial in a notebook locally, replace the string\n",
    "    # below with the path to your service account key and run this cell to\n",
    "    # authenticate your Google Cloud account.\n",
    "    else:\n",
    "        %env GOOGLE_APPLICATION_CREDENTIALS your_path_to_credentials.json\n",
    "\n",
    "    # Log in to your account on Google Cloud\n",
    "    ! gcloud auth login\n"
   ]
  },
  {
   "cell_type": "markdown",
   "metadata": {
    "id": "bucket:batch_prediction"
   },
   "source": [
    "### Create a Cloud Storage bucket\n",
    "\n",
    "**The following steps are required, regardless of your notebook environment.**\n",
    "\n",
    "This tutorial is designed to use training data that is in a public Cloud Storage bucket and a local Cloud Storage bucket for your batch predictions. You may alternatively use your own training data that you have stored in a local Cloud Storage bucket.\n",
    "\n",
    "Set the name of your Cloud Storage bucket below. It must be unique across all Cloud Storage buckets.\n",
    "\n"
   ]
  },
  {
   "cell_type": "code",
   "execution_count": null,
   "metadata": {
    "id": "bucket"
   },
   "outputs": [],
   "source": [
    "BUCKET_NAME = \"[your-bucket-name]\" #@param {type:\"string\"}\n"
   ]
  },
  {
   "cell_type": "code",
   "execution_count": null,
   "metadata": {
    "id": "autoset_bucket"
   },
   "outputs": [],
   "source": [
    "if BUCKET_NAME == \"\" or BUCKET_NAME is None or BUCKET_NAME == \"[your-bucket-name]\":\n",
    "    BUCKET_NAME = PROJECT_ID + \"aip-\" + TIMESTAMP\n"
   ]
  },
  {
   "cell_type": "markdown",
   "metadata": {
    "id": "create_bucket"
   },
   "source": [
    "**Only if your bucket doesn't already exist**: Run the following cell to create your Cloud Storage bucket.\n",
    "\n"
   ]
  },
  {
   "cell_type": "code",
   "execution_count": null,
   "metadata": {
    "id": "iFVSyRUndx8E",
    "outputId": "0b8940a7-bb71-4cc2-fbce-326b33d06780"
   },
   "outputs": [],
   "source": [
    "! gsutil mb -l $REGION gs://$BUCKET_NAME\n"
   ]
  },
  {
   "cell_type": "markdown",
   "metadata": {
    "id": "validate_bucket"
   },
   "source": [
    "Finally, validate access to your Cloud Storage bucket by examining its contents:\n",
    "\n"
   ]
  },
  {
   "cell_type": "code",
   "execution_count": null,
   "metadata": {
    "id": "WSUveW5Ydx8E"
   },
   "outputs": [],
   "source": [
    "! gsutil ls -al gs://$BUCKET_NAME\n"
   ]
  },
  {
   "cell_type": "markdown",
   "metadata": {
    "id": "setup_vars"
   },
   "source": [
    "### Set up variables\n",
    "\n",
    "Next, set up some variables used throughout the tutorial.\n",
    "### Import libraries and define constants\n",
    "\n"
   ]
  },
  {
   "cell_type": "markdown",
   "metadata": {
    "id": "import_aip"
   },
   "source": [
    "#### Import AI Platform (Unified) SDK\n",
    "\n",
    "Import the AI Platform (Unified) SDK into our Python environment.\n",
    "\n"
   ]
  },
  {
   "cell_type": "code",
   "execution_count": null,
   "metadata": {
    "id": "_WA8wIGjdx8F"
   },
   "outputs": [],
   "source": [
    "import os\n",
    "import sys\n",
    "import time\n",
    "\n",
    "\n",
    "from google.cloud.aiplatform import gapic as aip\n",
    "\n",
    "\n",
    "from google.protobuf import json_format\n",
    "from google.protobuf.struct_pb2 import Value\n",
    "from google.protobuf.struct_pb2 import Struct\n",
    "from google.protobuf.json_format import MessageToJson\n",
    "from google.protobuf.json_format import ParseDict\n"
   ]
  },
  {
   "cell_type": "markdown",
   "metadata": {
    "id": "aip_constants"
   },
   "source": [
    "#### AI Platform (Unified) constants\n",
    "\n",
    "Setup up the following constants for AI Platform (Unified):\n",
    "\n",
    "- `API_ENDPOINT`: The AI Platform (Unified) API service endpoint for dataset, model, job, pipeline and endpoint services.\n",
    "- `API_PREDICT_ENDPOINT`: The AI Platform (Unified) API service endpoint for prediction.\n",
    "- `PARENT`: The AI Platform (Unified) location root path for dataset, model and endpoint resources.\n",
    "\n"
   ]
  },
  {
   "cell_type": "code",
   "execution_count": null,
   "metadata": {
    "id": "rBI-1o0Rdx8F"
   },
   "outputs": [],
   "source": [
    "# API Endpoint\n",
    "API_ENDPOINT = \"{0}-aiplatform.googleapis.com\".format(REGION)\n",
    "\n",
    "# AI Platform (Unified) location root path for your dataset, model and endpoint resources\n",
    "PARENT = \"projects/\" + PROJECT_ID + \"/locations/\" + REGION\n"
   ]
  },
  {
   "cell_type": "markdown",
   "metadata": {
    "id": "clients"
   },
   "source": [
    "## Clients\n",
    "\n",
    "The AI Platform (Unified) SDK works as a client/server model. On your side (the Python script) you will create a client that sends requests and receives responses from the server (AI Platform).\n",
    "\n",
    "You will use several clients in this tutorial, so set them all up upfront.\n",
    "\n",
    "- Dataset Service for managed datasets.\n",
    "- Model Service for managed models.\n",
    "- Pipeline Service for training.\n",
    "- Endpoint Service for deployment.\n",
    "- Job Service for batch jobs and custom training.\n",
    "- Prediction Service for serving. *Note*: Prediction has a different service endpoint.\n",
    "\n"
   ]
  },
  {
   "cell_type": "code",
   "execution_count": null,
   "metadata": {
    "id": "7OswurIxdx8G",
    "outputId": "056e9489-c5f9-4a36-9f1f-b83197c7be40"
   },
   "outputs": [],
   "source": [
    "# client options same for all services\n",
    "client_options = {\"api_endpoint\": API_ENDPOINT}\n",
    "\n",
    "\n",
    "def create_model_client():\n",
    "    client = aip.ModelServiceClient(\n",
    "        client_options=client_options\n",
    "    )\n",
    "    return client\n",
    "\n",
    "\n",
    "def create_endpoint_client():\n",
    "    client = aip.EndpointServiceClient(\n",
    "        client_options=client_options\n",
    "    )\n",
    "    return client\n",
    "\n",
    "\n",
    "def create_prediction_client():\n",
    "    client = aip.PredictionServiceClient(\n",
    "        client_options=client_options\n",
    "    )\n",
    "    return client\n",
    "\n",
    "\n",
    "def create_job_client():\n",
    "    client = aip.JobServiceClient(\n",
    "        client_options=client_options\n",
    "    )\n",
    "    return client\n",
    "\n",
    "\n",
    "clients = {}\n",
    "clients['model'] = create_model_client()\n",
    "clients['endpoint'] = create_endpoint_client()\n",
    "clients['prediction'] = create_prediction_client()\n",
    "clients['job'] = create_job_client()\n",
    "\n",
    "for client in clients.items():\n",
    "    print(client)\n"
   ]
  },
  {
   "cell_type": "markdown",
   "metadata": {
    "id": "bBZ62eSJdx8I"
   },
   "source": [
    "## Prepare a trainer script"
   ]
  },
  {
   "cell_type": "markdown",
   "metadata": {
    "id": "8eNZwmHIdx8I"
   },
   "source": [
    "### Package assembly\n",
    "\n"
   ]
  },
  {
   "cell_type": "code",
   "execution_count": null,
   "metadata": {
    "id": "vSF5zUqddx8J"
   },
   "outputs": [],
   "source": [
    "! rm -rf cifar\n",
    "! mkdir cifar\n",
    "! touch cifar/README.md\n",
    "\n",
    "setup_cfg = \"[egg_info]\\n\\\n",
    "tag_build =\\n\\\n",
    "tag_date = 0\"\n",
    "! echo \"$setup_cfg\" > cifar/setup.cfg\n",
    "\n",
    "setup_py = \"import setuptools\\n\\\n",
    "# Requires TensorFlow Datasets\\n\\\n",
    "setuptools.setup(\\n\\\n",
    "    install_requires=[\\n\\\n",
    "        'tensorflow_datasets==1.3.0',\\n\\\n",
    "    ],\\n\\\n",
    "    packages=setuptools.find_packages())\" \n",
    "! echo \"$setup_py\" > cifar/setup.py\n",
    "\n",
    "pkg_info = \"Metadata-Version: 1.0\\n\\\n",
    "Name: Custom Training CIFAR-10\\n\\\n",
    "Version: 0.0.0\\n\\\n",
    "Summary: Demonstration training script\\n\\\n",
    "Home-page: www.google.com\\n\\\n",
    "Author: Google\\n\\\n",
    "Author-email: aferlitsch@google.com\\n\\\n",
    "License: Public\\n\\\n",
    "Description: Demo\\n\\\n",
    "Platform: AI Platform (Unified)\"\n",
    "! echo \"$pkg_info\" > cifar/PKG-INFO\n",
    "\n",
    "! mkdir cifar/trainer\n",
    "! touch cifar/trainer/__init__.py\n"
   ]
  },
  {
   "cell_type": "markdown",
   "metadata": {
    "id": "-zNmWOxvdx8J"
   },
   "source": [
    "### Write the docker file contents\n",
    "\n"
   ]
  },
  {
   "cell_type": "code",
   "execution_count": null,
   "metadata": {
    "id": "KohUv929dx8J",
    "outputId": "a2e43aff-8f2b-4f26-e283-596aa25e6dde"
   },
   "outputs": [],
   "source": [
    "%%writefile cifar/Dockerfile\n",
    "\n",
    "FROM gcr.io/deeplearning-platform-release/tf2-cpu.2-1\n",
    "WORKDIR /root\n",
    "\n",
    "WORKDIR /\n",
    "\n",
    "# Copies the trainer code to the docker image.\n",
    "COPY trainer /trainer\n",
    "\n",
    "# Sets up the entry point to invoke the trainer.\n",
    "ENTRYPOINT [\"python\", \"-m\", \"trainer.task\"]\n"
   ]
  },
  {
   "cell_type": "markdown",
   "metadata": {
    "id": "TALbjjJ6dx8K"
   },
   "source": [
    "### Task.py contents"
   ]
  },
  {
   "cell_type": "code",
   "execution_count": null,
   "metadata": {
    "id": "x1ZpANzodx8L",
    "outputId": "9e12c288-3070-409f-a5d9-7753a0a63bf3"
   },
   "outputs": [],
   "source": [
    "%%writefile cifar/trainer/task.py\n",
    "import tensorflow_datasets as tfds\n",
    "import tensorflow as tf\n",
    "from tensorflow.python.client import device_lib\n",
    "import argparse\n",
    "import os\n",
    "import sys\n",
    "\n",
    "tfds.disable_progress_bar()\n",
    "\n",
    "parser = argparse.ArgumentParser()\n",
    "parser.add_argument('--model-dir', dest='model_dir',\n",
    "                    default='/tmp/saved_model', type=str, help='Model dir.')\n",
    "parser.add_argument('--lr', dest='lr',\n",
    "                    default=0.01, type=float,\n",
    "                    help='Learning rate.')\n",
    "parser.add_argument('--epochs', dest='epochs',\n",
    "                    default=10, type=int,\n",
    "                    help='Number of epochs.')\n",
    "parser.add_argument('--steps', dest='steps',\n",
    "                    default=200, type=int,\n",
    "                    help='Number of steps per epoch.')\n",
    "parser.add_argument('--distribute', dest='distribute', type=str, default='single',\n",
    "                    help='distributed training strategy')\n",
    "args = parser.parse_args()\n",
    "\n",
    "print('Python Version = {}'.format(sys.version))\n",
    "print('TensorFlow Version = {}'.format(tf.__version__))\n",
    "print('TF_CONFIG = {}'.format(os.environ.get('TF_CONFIG', 'Not found')))\n",
    "print('DEVICES', device_lib.list_local_devices())\n",
    "\n",
    "if args.distribute == 'single':\n",
    "    if tf.test.is_gpu_available():\n",
    "        strategy = tf.distribute.OneDeviceStrategy(device=\"/gpu:0\")\n",
    "    else:\n",
    "        strategy = tf.distribute.OneDeviceStrategy(device=\"/cpu:0\")\n",
    "elif args.distribute == 'mirror':\n",
    "    strategy = tf.distribute.MirroredStrategy()\n",
    "elif args.distribute == 'multi':\n",
    "    strategy = tf.distribute.experimental.MultiWorkerMirroredStrategy()\n",
    "\n",
    "print('num_replicas_in_sync = {}'.format(strategy.num_replicas_in_sync))\n",
    "\n",
    "BUFFER_SIZE = 10000\n",
    "BATCH_SIZE = 64\n",
    "\n",
    "def make_datasets_unbatched():\n",
    "  def scale(image, label):\n",
    "    image = tf.cast(image, tf.float32)\n",
    "    image /= 255.0\n",
    "    return image, label\n",
    "\n",
    "  datasets, info = tfds.load(name='cifar10',\n",
    "                            with_info=True,\n",
    "                            as_supervised=True)\n",
    "  return datasets['train'].map(scale).cache().shuffle(BUFFER_SIZE).repeat()\n",
    "\n",
    "def build_and_compile_cnn_model():\n",
    "  model = tf.keras.Sequential([\n",
    "      tf.keras.layers.Conv2D(32, 3, activation='relu', input_shape=(32, 32, 3)),\n",
    "      tf.keras.layers.MaxPooling2D(),\n",
    "      tf.keras.layers.Conv2D(32, 3, activation='relu'),\n",
    "      tf.keras.layers.MaxPooling2D(),\n",
    "      tf.keras.layers.Flatten(),\n",
    "      tf.keras.layers.Dense(10, activation='softmax')\n",
    "  ])\n",
    "  model.compile(\n",
    "      loss=tf.keras.losses.sparse_categorical_crossentropy,\n",
    "      optimizer=tf.keras.optimizers.SGD(learning_rate=args.lr),\n",
    "      metrics=['accuracy'])\n",
    "  return model\n",
    "\n",
    "NUM_WORKERS = strategy.num_replicas_in_sync\n",
    "GLOBAL_BATCH_SIZE = BATCH_SIZE * NUM_WORKERS\n",
    "train_dataset = make_datasets_unbatched().batch(GLOBAL_BATCH_SIZE)\n",
    "\n",
    "with strategy.scope():\n",
    "  model = build_and_compile_cnn_model()\n",
    "\n",
    "model.fit(x=train_dataset, epochs=args.epochs, steps_per_epoch=args.steps)\n",
    "model.save(args.model_dir)\n"
   ]
  },
  {
   "cell_type": "markdown",
   "metadata": {
    "id": "ZE6B22qpdx8L"
   },
   "source": [
    "### Build the container locally"
   ]
  },
  {
   "cell_type": "code",
   "execution_count": null,
   "metadata": {
    "id": "TYzH5IFkdx8L",
    "outputId": "01fb5379-6e05-410b-f80a-0abf54179abc"
   },
   "outputs": [],
   "source": [
    "TRAIN_IMAGE = f\"gcr.io/{PROJECT_ID}/cifar_f33:v1\"\n",
    "\n",
    "! docker build cifar -t $TRAIN_IMAGE\n"
   ]
  },
  {
   "cell_type": "markdown",
   "metadata": {
    "id": "OYJPD8uLdx8M"
   },
   "source": [
    "### Register your custom container"
   ]
  },
  {
   "cell_type": "code",
   "execution_count": null,
   "metadata": {
    "id": "fCxMAQKZdx8M",
    "outputId": "eefaaea0-2f56-407d-bdc5-4bac776239b3"
   },
   "outputs": [],
   "source": [
    "! docker push $TRAIN_IMAGE\n"
   ]
  },
  {
   "cell_type": "markdown",
   "metadata": {
    "id": "text_create_and_deploy_model:migration"
   },
   "source": [
    "## Train a model"
   ]
  },
  {
   "cell_type": "markdown",
   "metadata": {
    "id": "0oqIBOSnJjkW"
   },
   "source": [
    "### [projects.locations.customJobs.create](https://cloud.google.com/ai-platform-unified/docs/reference/rest/v1beta1/projects.locations.trainingPipelines/create)"
   ]
  },
  {
   "cell_type": "markdown",
   "metadata": {
    "id": "WWsBQks0dx8N"
   },
   "source": [
    "#### Request"
   ]
  },
  {
   "cell_type": "code",
   "execution_count": null,
   "metadata": {
    "id": "Pefe5OQOdx8O",
    "outputId": "000d8a45-11c7-4054-9686-58aa5c55c4dd"
   },
   "outputs": [],
   "source": [
    "JOB_NAME = \"custom_container_\" + TIMESTAMP\n",
    "\n",
    "WORKER_POOL_SPEC = [\n",
    "    {\n",
    "        \"replica_count\": 1,\n",
    "        \"machine_spec\": {\n",
    "            \"machine_type\": 'n1-standard-4',\n",
    "            \"accelerator_count\": 0\n",
    "        },\n",
    "        \"container_spec\": {\n",
    "            \"image_uri\": TRAIN_IMAGE,\n",
    "            \"args\": [\n",
    "                \"--model-dir=\" + \"gs://\" + BUCKET_NAME + \"/\" + JOB_NAME,\n",
    "                \"--epochs=\" + str(20),\n",
    "                \"--steps=\" + str(100)\n",
    "            ]\n",
    "        }\n",
    "    }\n",
    "]\n",
    "\n",
    "CUSTOM_JOB = {\n",
    "    \"display_name\": JOB_NAME,\n",
    "    \"job_spec\": {\n",
    "        \"worker_pool_specs\": WORKER_POOL_SPEC\n",
    "    }\n",
    "}\n",
    "\n",
    "training_job = aip.CustomJob(**CUSTOM_JOB)\n",
    "\n",
    "print(\n",
    "    MessageToJson(\n",
    "        aip.CreateCustomJobRequest(\n",
    "            parent=PARENT, \n",
    "            custom_job=training_job\n",
    "        ).__dict__[\"_pb\"]\n",
    "    )\n",
    ")\n"
   ]
  },
  {
   "cell_type": "markdown",
   "metadata": {
    "id": "datasets_import:migration,new,request"
   },
   "source": [
    "*Example output*:\n",
    "```\n",
    "{\n",
    "  \"parent\": \"projects/f33-ucaip-training/locations/us-central1\",\n",
    "  \"customJob\": {\n",
    "    \"displayName\": \"custom_container_20210226022223\",\n",
    "    \"jobSpec\": {\n",
    "      \"workerPoolSpecs\": [\n",
    "        {\n",
    "          \"machineSpec\": {\n",
    "            \"machineType\": \"n1-standard-4\"\n",
    "          },\n",
    "          \"replicaCount\": \"1\",\n",
    "          \"containerSpec\": {\n",
    "            \"imageUri\": \"gcr.io/f33-ucaip-training/cifar_f33:v1\",\n",
    "            \"args\": [\n",
    "              \"--model-dir=gs://f33-ucaip-trainingaip-20210226022223/custom_container_20210226022223\",\n",
    "              \"--epochs=20\",\n",
    "              \"--steps=100\"\n",
    "            ]\n",
    "          }\n",
    "        }\n",
    "      ]\n",
    "    }\n",
    "  }\n",
    "}\n",
    "```\n",
    "\n"
   ]
  },
  {
   "cell_type": "markdown",
   "metadata": {
    "id": "Mul--swidx8P"
   },
   "source": [
    "#### Call"
   ]
  },
  {
   "cell_type": "code",
   "execution_count": null,
   "metadata": {
    "id": "7CulTGVSdx8P"
   },
   "outputs": [],
   "source": [
    "request = clients[\"job\"].create_custom_job(\n",
    "    parent=PARENT, \n",
    "    custom_job=training_job\n",
    ")\n"
   ]
  },
  {
   "cell_type": "markdown",
   "metadata": {
    "id": "gy3LcQ3ydx8P"
   },
   "source": [
    "#### Response"
   ]
  },
  {
   "cell_type": "code",
   "execution_count": null,
   "metadata": {
    "id": "uRql9mxvdx8P",
    "outputId": "ebb94681-065e-4c6f-e820-76cb66a9d26f"
   },
   "outputs": [],
   "source": [
    "print(MessageToJson(request.__dict__[\"_pb\"]))\n"
   ]
  },
  {
   "cell_type": "markdown",
   "metadata": {
    "id": "sQ4EYFoqdx8P"
   },
   "source": [
    "*Example output*:\n",
    "```\n",
    "{\n",
    "  \"name\": \"projects/116273516712/locations/us-central1/customJobs/957560278583607296\",\n",
    "  \"displayName\": \"custom_container_20210226022223\",\n",
    "  \"jobSpec\": {\n",
    "    \"workerPoolSpecs\": [\n",
    "      {\n",
    "        \"machineSpec\": {\n",
    "          \"machineType\": \"n1-standard-4\"\n",
    "        },\n",
    "        \"replicaCount\": \"1\",\n",
    "        \"diskSpec\": {\n",
    "          \"bootDiskType\": \"pd-ssd\",\n",
    "          \"bootDiskSizeGb\": 100\n",
    "        },\n",
    "        \"containerSpec\": {\n",
    "          \"imageUri\": \"gcr.io/f33-ucaip-training/cifar_f33:v1\",\n",
    "          \"args\": [\n",
    "            \"--model-dir=gs://f33-ucaip-trainingaip-20210226022223/custom_container_20210226022223\",\n",
    "            \"--epochs=20\",\n",
    "            \"--steps=100\"\n",
    "          ]\n",
    "        }\n",
    "      }\n",
    "    ]\n",
    "  },\n",
    "  \"state\": \"JOB_STATE_PENDING\",\n",
    "  \"createTime\": \"2021-02-26T02:27:53.406955Z\",\n",
    "  \"updateTime\": \"2021-02-26T02:27:53.406955Z\"\n",
    "}\n",
    "```\n",
    "\n"
   ]
  },
  {
   "cell_type": "code",
   "execution_count": null,
   "metadata": {
    "id": "training_pipeline_id:migration,new,response",
    "outputId": "d80118c8-175f-4c74-9fa7-466d37db7185"
   },
   "outputs": [],
   "source": [
    "# The full unique ID for the custom training job\n",
    "custom_training_id = request.name\n",
    "# The short numeric ID for the custom training job\n",
    "custom_training_short_id = custom_training_id.split('/')[-1]\n",
    "\n",
    "print(custom_training_id)\n"
   ]
  },
  {
   "cell_type": "markdown",
   "metadata": {
    "id": "L2VLjDD1dx8Q"
   },
   "source": [
    "### [projects.locations.customJobs.get](https://cloud.google.com/ai-platform-unified/docs/reference/rest/v1beta1/projects.locations.trainingPipelines/get)"
   ]
  },
  {
   "cell_type": "markdown",
   "metadata": {
    "id": "N78Cr-wKdx8Q"
   },
   "source": [
    "#### Call"
   ]
  },
  {
   "cell_type": "code",
   "execution_count": null,
   "metadata": {
    "id": "OiX3rQsrdx8Q"
   },
   "outputs": [],
   "source": [
    "request = clients['job'].get_custom_job(\n",
    "    name=custom_training_id\n",
    ")\n"
   ]
  },
  {
   "cell_type": "markdown",
   "metadata": {
    "id": "CFvGgOKrdx8R"
   },
   "source": [
    "#### Response"
   ]
  },
  {
   "cell_type": "code",
   "execution_count": null,
   "metadata": {
    "id": "_CtVywL8dx8R",
    "outputId": "f465b1ef-2de7-446f-9fb0-cad01889f1cf"
   },
   "outputs": [],
   "source": [
    "print(MessageToJson(request.__dict__[\"_pb\"]))\n"
   ]
  },
  {
   "cell_type": "markdown",
   "metadata": {
    "id": "XEdTFuXpdx8R"
   },
   "source": [
    "*Example output*:\n",
    "```\n",
    "{\n",
    "  \"name\": \"projects/116273516712/locations/us-central1/customJobs/957560278583607296\",\n",
    "  \"displayName\": \"custom_container_20210226022223\",\n",
    "  \"jobSpec\": {\n",
    "    \"workerPoolSpecs\": [\n",
    "      {\n",
    "        \"machineSpec\": {\n",
    "          \"machineType\": \"n1-standard-4\"\n",
    "        },\n",
    "        \"replicaCount\": \"1\",\n",
    "        \"diskSpec\": {\n",
    "          \"bootDiskType\": \"pd-ssd\",\n",
    "          \"bootDiskSizeGb\": 100\n",
    "        },\n",
    "        \"containerSpec\": {\n",
    "          \"imageUri\": \"gcr.io/f33-ucaip-training/cifar_f33:v1\",\n",
    "          \"args\": [\n",
    "            \"--model-dir=gs://f33-ucaip-trainingaip-20210226022223/custom_container_20210226022223\",\n",
    "            \"--epochs=20\",\n",
    "            \"--steps=100\"\n",
    "          ]\n",
    "        }\n",
    "      }\n",
    "    ]\n",
    "  },\n",
    "  \"state\": \"JOB_STATE_PENDING\",\n",
    "  \"createTime\": \"2021-02-26T02:27:53.406955Z\",\n",
    "  \"updateTime\": \"2021-02-26T02:27:53.406955Z\"\n",
    "}\n",
    "```\n",
    "\n"
   ]
  },
  {
   "cell_type": "code",
   "execution_count": null,
   "metadata": {
    "id": "trainingpipelines_get:migration,new,wait",
    "outputId": "db53dc1f-28a7-4dac-f06d-323f55ec56a5"
   },
   "outputs": [],
   "source": [
    "while True:\n",
    "    response = clients[\"job\"].get_custom_job(name=custom_training_id)\n",
    "    if response.state != aip.PipelineState.PIPELINE_STATE_SUCCEEDED:\n",
    "        print(\"Training job has not completed:\", response.state)\n",
    "        if response.state == aip.PipelineState.PIPELINE_STATE_FAILED:\n",
    "            break\n",
    "    else:\n",
    "        print(\"Training Time:\", response.end_time - response.start_time)\n",
    "        break\n",
    "    time.sleep(60)\n",
    "\n",
    "# model artifact output directory on Google Cloud Storage  \n",
    "model_artifact_dir = response.job_spec.worker_pool_specs[0].container_spec.args[0].split(\"=\")[-1]\n",
    "print(\"artifact location  \" + model_artifact_dir)\n"
   ]
  },
  {
   "cell_type": "markdown",
   "metadata": {
    "id": "bAWHUeCadx8S"
   },
   "source": [
    "## Deploy the model"
   ]
  },
  {
   "cell_type": "markdown",
   "metadata": {
    "id": "sRjgCGMjdx8T"
   },
   "source": [
    "### Load the saved model"
   ]
  },
  {
   "cell_type": "code",
   "execution_count": null,
   "metadata": {
    "id": "nFThw0Nwdx8T",
    "outputId": "603b89f7-ec40-4766-df53-de431c9de73f"
   },
   "outputs": [],
   "source": [
    "import tensorflow as tf\n",
    "\n",
    "\n",
    "model = tf.keras.models.load_model(model_artifact_dir)\n"
   ]
  },
  {
   "cell_type": "markdown",
   "metadata": {
    "id": "Ch-ZOEqVdx8T"
   },
   "source": [
    "### Serving function for image data"
   ]
  },
  {
   "cell_type": "code",
   "execution_count": null,
   "metadata": {
    "id": "bJoK5szQdx8U",
    "outputId": "d3a31a92-4af2-40d9-a4bb-759dd8ebbe53"
   },
   "outputs": [],
   "source": [
    "CONCRETE_INPUT = \"numpy_inputs\"\n",
    "\n",
    "def _preprocess(bytes_input):\n",
    "    decoded = tf.io.decode_jpeg(bytes_input, channels=3)\n",
    "    decoded = tf.image.convert_image_dtype(decoded, tf.float32)\n",
    "    resized = tf.image.resize(decoded, size=(32, 32))\n",
    "    rescale = tf.cast(resized / 255.0, tf.float32)\n",
    "    return rescale\n",
    "\n",
    "@tf.function(input_signature=[tf.TensorSpec([None], tf.string)])\n",
    "def preprocess_fn(bytes_inputs):\n",
    "    decoded_images = tf.map_fn(_preprocess, bytes_inputs, dtype=tf.float32, back_prop=False)\n",
    "    return {CONCRETE_INPUT: decoded_images}  # User needs to make sure the key matches model's input\n",
    "\n",
    "m_call = tf.function(model.call).get_concrete_function([tf.TensorSpec(shape=[None, 32, 32, 3], dtype=tf.float32, name=CONCRETE_INPUT)])\n",
    "\n",
    "@tf.function(input_signature=[tf.TensorSpec([None], tf.string)])\n",
    "def serving_fn(bytes_inputs):\n",
    "    images = preprocess_fn(bytes_inputs)\n",
    "    prob = m_call(**images)\n",
    "    return prob\n",
    "\n",
    "tf.saved_model.save(\n",
    "    model, \n",
    "    model_artifact_dir, \n",
    "    signatures={'serving_default': serving_fn,}\n",
    ")\n"
   ]
  },
  {
   "cell_type": "markdown",
   "metadata": {
    "id": "eg_QFIr0dx8U"
   },
   "source": [
    "### Get the serving function signature"
   ]
  },
  {
   "cell_type": "code",
   "execution_count": null,
   "metadata": {
    "id": "H0F-bxlNdx8U",
    "outputId": "c52895b9-bde8-45a6-fbb4-93a6983130ba"
   },
   "outputs": [],
   "source": [
    "loaded = tf.saved_model.load(model_artifact_dir)\n",
    "\n",
    "input_name = list(loaded.signatures['serving_default'].structured_input_signature[1].keys())[0]\n",
    "\n",
    "print('Serving function input:', input_name)\n"
   ]
  },
  {
   "cell_type": "markdown",
   "metadata": {
    "id": "endpoints_undeploymodel:migration,new,response"
   },
   "source": [
    "*Example output*:\n",
    "```\n",
    "Serving function input: bytes_inputs\n",
    "```\n",
    "\n"
   ]
  },
  {
   "cell_type": "markdown",
   "metadata": {
    "id": "COwVZtxhJjkW"
   },
   "source": [
    "### [projects.locations.models.upload](https://cloud.google.com/ai-platform-unified/docs/reference/rest/v1beta1/projects.locations.models/upload)"
   ]
  },
  {
   "cell_type": "markdown",
   "metadata": {
    "id": "z7J-ijeydx8V"
   },
   "source": [
    "#### Request"
   ]
  },
  {
   "cell_type": "code",
   "execution_count": null,
   "metadata": {
    "id": "aawZj13Idx8W",
    "outputId": "f43c0125-9066-48ac-ac67-d923138b1796"
   },
   "outputs": [],
   "source": [
    "container_spec = {\n",
    "    \"image_uri\": \"gcr.io/cloud-aiplatform/prediction/tf2-cpu.2-1:latest\",\n",
    "    \"env\": [\n",
    "        {\n",
    "            \"name\": \"exmple_env_name\", \n",
    "            \"value\": \"example_env_value\"\n",
    "        }\n",
    "    ],\n",
    "    \"ports\": [\n",
    "        {\n",
    "            \"container_port\": 8080\n",
    "        }\n",
    "    ]  \n",
    "}\n",
    "\n",
    "model = {\n",
    "    \"display_name\": \"custom_container_TF\" + TIMESTAMP, \n",
    "    \"metadata_schema_uri\": \"\",\n",
    "    \"artifact_uri\": model_artifact_dir,\n",
    "    \"container_spec\": container_spec\n",
    "}\n",
    "\n",
    "print(\n",
    "    MessageToJson(\n",
    "        aip.UploadModelRequest(\n",
    "            parent=PARENT, \n",
    "            model=model\n",
    "        ).__dict__[\"_pb\"]\n",
    "    )\n",
    ")\n"
   ]
  },
  {
   "cell_type": "markdown",
   "metadata": {
    "id": "M8HZOo3Xdx8W"
   },
   "source": [
    "*Example output*:\n",
    "```\n",
    "{\n",
    "  \"parent\": \"projects/f33-ucaip-training/locations/us-central1\",\n",
    "  \"model\": {\n",
    "    \"displayName\": \"custom_container_TF20210226022223\",\n",
    "    \"containerSpec\": {\n",
    "      \"imageUri\": \"gcr.io/cloud-aiplatform/prediction/tf2-cpu.2-1:latest\",\n",
    "      \"env\": [\n",
    "        {\n",
    "          \"name\": \"example_env_name\",\n",
    "          \"value\": \"example_env_value\"\n",
    "        }\n",
    "      ],\n",
    "      \"ports\": [\n",
    "        {\n",
    "          \"containerPort\": 8080\n",
    "        }\n",
    "      ]\n",
    "    },\n",
    "    \"artifactUri\": \"gs://f33-ucaip-trainingaip-20210226022223/custom_container_20210226022223\"\n",
    "  }\n",
    "}\n",
    "```\n",
    "\n"
   ]
  },
  {
   "cell_type": "markdown",
   "metadata": {
    "id": "cLIJ-zE8dx8W"
   },
   "source": [
    "#### Call"
   ]
  },
  {
   "cell_type": "code",
   "execution_count": null,
   "metadata": {
    "id": "R57zQ1Ctdx8W"
   },
   "outputs": [],
   "source": [
    "request = clients['model'].upload_model(\n",
    "    parent=PARENT,\n",
    "    model=model\n",
    ")\n"
   ]
  },
  {
   "cell_type": "markdown",
   "metadata": {
    "id": "QpkjnQY4dx8X"
   },
   "source": [
    "#### Response"
   ]
  },
  {
   "cell_type": "code",
   "execution_count": null,
   "metadata": {
    "id": "RLpp9Wy1dx8X",
    "outputId": "89ee21d7-31cb-43b7-9f99-1673223703e0"
   },
   "outputs": [],
   "source": [
    "result = request.result()\n",
    "\n",
    "print(MessageToJson(result.__dict__[\"_pb\"]))\n"
   ]
  },
  {
   "cell_type": "markdown",
   "metadata": {
    "id": "GiVosZjqdx9F"
   },
   "source": [
    "*Example output*:\n",
    "```\n",
    "{\n",
    "  \"model\": \"projects/116273516712/locations/us-central1/models/394223297069318144\"\n",
    "}\n",
    "```\n",
    "\n"
   ]
  },
  {
   "cell_type": "code",
   "execution_count": null,
   "metadata": {
    "id": "fmYZPWbKdx9G"
   },
   "outputs": [],
   "source": [
    "model_id = result.model\n"
   ]
  },
  {
   "cell_type": "markdown",
   "metadata": {
    "id": "make_batch_predictions:migration"
   },
   "source": [
    "## Make batch predictions\n",
    "\n"
   ]
  },
  {
   "cell_type": "markdown",
   "metadata": {
    "id": "make_batch_prediction_file:migration,new"
   },
   "source": [
    "### Make a batch prediction file\n",
    "\n"
   ]
  },
  {
   "cell_type": "code",
   "execution_count": null,
   "metadata": {
    "id": "get_test_items:automl,icn,csv",
    "outputId": "2b9636d8-1c18-41a3-941a-edf6bd0af708"
   },
   "outputs": [],
   "source": [
    "import cv2\n",
    "import numpy as np\n",
    "\n",
    "\n",
    "from tensorflow.keras.datasets import cifar10\n",
    "\n",
    "\n",
    "(_, _), (x_test, y_test) = cifar10.load_data()\n",
    "x_test = (x_test / 255.0).astype(np.float32)\n",
    "\n",
    "print(x_test.shape, y_test.shape)\n",
    "\n",
    "test_image_1, test_label_1 = x_test[0], y_test[0]\n",
    "test_image_2, test_label_2 = x_test[1], y_test[1]\n",
    "\n",
    "cv2.imwrite('tmp1.jpg', (test_image_1 * 255).astype(np.uint8))\n",
    "cv2.imwrite('tmp2.jpg', (test_image_2 * 255).astype(np.uint8))\n",
    "\n",
    "! gsutil cp tmp1.jpg gs://$BUCKET_NAME/tmp1.jpg\n",
    "! gsutil cp tmp2.jpg gs://$BUCKET_NAME/tmp2.jpg\n",
    "\n",
    "test_item_1 = \"gs://\" + BUCKET_NAME + \"/\" + \"tmp1.jpg\"\n",
    "test_item_2 = \"gs://\" + BUCKET_NAME + \"/\" + \"tmp2.jpg\"\n"
   ]
  },
  {
   "cell_type": "markdown",
   "metadata": {
    "id": "make_batch_file:automl,image"
   },
   "source": [
    "### Make the batch input file\n",
    "\n",
    "Let's now make a batch input file, which you will store in your local Cloud Storage bucket. The batch input file can be either CSV or JSONL. You will use JSONL in this tutorial. For JSONL file, you make one dictionary entry per line for each data item (instance). The dictionary contains the key/value pairs:\n",
    "\n",
    "- `content`: The Cloud Storage path to the image.\n",
    "- `mime_type`: The content type. In our example, it is an `jpeg` file.\n",
    "\n"
   ]
  },
  {
   "cell_type": "code",
   "execution_count": null,
   "metadata": {
    "id": "HgMBCvNOdx9H",
    "outputId": "99c32fe8-0cc4-4ccc-f7ac-f72ae0885ada"
   },
   "outputs": [],
   "source": [
    "import base64\n",
    "import json\n",
    "\n",
    "\n",
    "gcs_input_uri = \"gs://\" + BUCKET_NAME + \"/\" + \"test.jsonl\"\n",
    "with tf.io.gfile.GFile(gcs_input_uri, 'w') as f:\n",
    "    bytes = tf.io.read_file(test_item_1)\n",
    "    b64str = base64.b64encode(bytes.numpy()).decode('utf-8')\n",
    "    data = {input_name: {'b64': b64str}}\n",
    "    f.write(json.dumps(data) + '\\n')\n",
    "    \n",
    "    bytes = tf.io.read_file(test_item_2)\n",
    "    b64str = base64.b64encode(bytes.numpy()).decode('utf-8')\n",
    "    data = {input_name: {'b64': b64str}}\n",
    "    f.write(json.dumps(data) + '\\n')\n",
    "    \n",
    "! gsutil cat $gcs_input_uri\n"
   ]
  },
  {
   "cell_type": "markdown",
   "metadata": {
    "id": "P6GeKGjVdx9I"
   },
   "source": [
    "*Example output*:\n",
    "```\n",
    "{\"bytes_inputs\": {\"b64\": \"/9j/4AAQSkZJRgABAQAAAQABAAD/2wBDAAIBAQEBAQIBAQECAgICAgQDAgICAgUEBAMEBgUGBgYFBgYGBwkIBgcJBwYGCAsICQoKCgoKBggLDAsKDAkKCgr/2wBDAQICAgICAgUDAwUKBwYHCgoKCgoKCgoKCgoKCgoKCgoKCgoKCgoKCgoKCgoKCgoKCgoKCgoKCgoKCgoKCgoKCgr/wAARCAAgACADASIAAhEBAxEB/8QAHwAAAQUBAQEBAQEAAAAAAAAAAAECAwQFBgcICQoL/8QAtRAAAgEDAwIEAwUFBAQAAAF9AQIDAAQRBRIhMUEGE1FhByJxFDKBkaEII0KxwRVS0fAkM2JyggkKFhcYGRolJicoKSo0NTY3ODk6Q0RFRkdISUpTVFVWV1hZWmNkZWZnaGlqc3R1dnd4eXqDhIWGh4iJipKTlJWWl5iZmqKjpKWmp6ipqrKztLW2t7i5usLDxMXGx8jJytLT1NXW19jZ2uHi4+Tl5ufo6erx8vP09fb3+Pn6/8QAHwEAAwEBAQEBAQEBAQAAAAAAAAECAwQFBgcICQoL/8QAtREAAgECBAQDBAcFBAQAAQJ3AAECAxEEBSExBhJBUQdhcRMiMoEIFEKRobHBCSMzUvAVYnLRChYkNOEl8RcYGRomJygpKjU2Nzg5OkNERUZHSElKU1RVVldYWVpjZGVmZ2hpanN0dXZ3eHl6goOEhYaHiImKkpOUlZaXmJmaoqOkpaanqKmqsrO0tba3uLm6wsPExcbHyMnK0tPU1dbX2Nna4uPk5ebn6Onq8vP09fb3+Pn6/9oADAMBAAIRAxEAPwD570PxBpmp6nfaEl48lzpUqpewPCU8lpEDqMsOeD26Z55Fa+s3HhnR/Aj6xZjV7rWrW4ke/wBMtLRGRLTaux1cuPnLlhtIAAUEE5490/ao8E6F4b8P3NxZeGksNW1z4h62Iby2t1/eC3ZoozJxwSiKQOhEZJ5JrqZtI8MftFfs56j8YI/hvo/gq1u9C0ywlbTbFoLa+1SOFWlgPGRmNiQzNkiPOflyf1WHFdark0K8UlUbkvJWel1vqmn5n5MuD6MM7qUJzbpxUXazvJSWtmuzTR8iaBoXirx54H1Hxo10mhx2V/8AZltpEE7ByAV8w8YLdRjAHAz1NcSNcXUtev8AwVrE0DajaQ+YZLY4jnXPJXrkjPPTPXGDXvXwi+F3hvwh8Ffip4i1a7GqX7a1b6fp0c84SKO3Wz3FiCdpHnSHDZ2/KAOtfP8A4v8Ah1qOoWul/Efwu4sL+wk8u2IkUi7JRhtwM5RgBkHpz0xXy+F4gzNY6Mqs3NTfvR6a6adj6bGcPZX/AGfKFKEYcqupemurufqP8c9Il/aA8BeHNS+HHh/7Ze634p0rUtMhsFWUJNdsFlR8HAAWWRXBPrmvGvi5+y/B+z1+0ZqHwW+PXx08LaL4VtJI75dOtPEksgfe8krskKIDCZWdCUkyU2MRuVga5X9lr9qAfsk/tCWPjTW9Ol1XwzpurtdXei27gBJTEyJcxBsDcu/OOAwBHBwa8S+JXxltPi3431/x34y8TT/2tqmpy3V1d6h8/mOzFiN46LkgDpgcdOK/HcPxo/qMalONqkn70ei816307I/Xa/C0XjXTrO8EtJdfR/cUfiz4m8aaBJefD/4NXcd4CJ7f/hI7bVXitZ4HkPzSQMvMxRUUTAEqFGCM4EPw/wDAsnhjwZEmrzte6ipKmWeYSbAV+bYTjAJBPTgNjNbOk+HYdL0qPxPcWsN5BK2FaO43q3fHUH8eld34kku/hP4LsvHPiPRtPvZNSkU6fYSFStvED8zsqjLsq5IBwOB1Jri/4iFn2BxSq0Yxulyq8eZLp1f4ms+BMkx2FlRquVm7u0uVvrbRH//Z\"}}\n",
    "{\"bytes_inputs\": {\"b64\": \"/9j/4AAQSkZJRgABAQAAAQABAAD/2wBDAAIBAQEBAQIBAQECAgICAgQDAgICAgUEBAMEBgUGBgYFBgYGBwkIBgcJBwYGCAsICQoKCgoKBggLDAsKDAkKCgr/2wBDAQICAgICAgUDAwUKBwYHCgoKCgoKCgoKCgoKCgoKCgoKCgoKCgoKCgoKCgoKCgoKCgoKCgoKCgoKCgoKCgoKCgr/wAARCAAgACADASIAAhEBAxEB/8QAHwAAAQUBAQEBAQEAAAAAAAAAAAECAwQFBgcICQoL/8QAtRAAAgEDAwIEAwUFBAQAAAF9AQIDAAQRBRIhMUEGE1FhByJxFDKBkaEII0KxwRVS0fAkM2JyggkKFhcYGRolJicoKSo0NTY3ODk6Q0RFRkdISUpTVFVWV1hZWmNkZWZnaGlqc3R1dnd4eXqDhIWGh4iJipKTlJWWl5iZmqKjpKWmp6ipqrKztLW2t7i5usLDxMXGx8jJytLT1NXW19jZ2uHi4+Tl5ufo6erx8vP09fb3+Pn6/8QAHwEAAwEBAQEBAQEBAQAAAAAAAAECAwQFBgcICQoL/8QAtREAAgECBAQDBAcFBAQAAQJ3AAECAxEEBSExBhJBUQdhcRMiMoEIFEKRobHBCSMzUvAVYnLRChYkNOEl8RcYGRomJygpKjU2Nzg5OkNERUZHSElKU1RVVldYWVpjZGVmZ2hpanN0dXZ3eHl6goOEhYaHiImKkpOUlZaXmJmaoqOkpaanqKmqsrO0tba3uLm6wsPExcbHyMnK0tPU1dbX2Nna4uPk5ebn6Onq8vP09fb3+Pn6/9oADAMBAAIRAxEAPwD9qIntrti9vhg3KkLwR69Kbc3FrYskd1LGjOjsqNjJCjLH8Mj8xXw3+yr+3v8ABbUZL2/8L/G/4ja2L0raac/xAvEbTmndtyLFKOd5AwcZwCSccV6X8Xv22/jD4K+L2n+BPA/7H+qeP4v7LSb/AISLQNYjW0ieTmWLfIoUBQiksxA6VxwxtN0VOWn4nTPC1Y1XBHpuqftI6BZ+MrDw/FZSw2dyzRyXl3p8g/eblCgbcjBG/k8dPevU1tCWIKj/AL5r5+8aftTfCqx+H9leeM/i1pXw51aWJvtWkWF1b6ldQnkqnmRqyg9c7fXGag/Zm/aY+HL69d6MPjvr/jVNWm32M19pcgSwREyVZygAJO7PbAFZ08TUjNqpt32/AdSiuVOK2PyC/Zs/4LOfs7/s+fAbQvgz4K/Ywu7rw94Bd4op9WsbfUZ1u5CGlupHBBLSMCd2MYAA4Fe0eGf+Dm/4deO9EuvDvhvSLjSWt7MpPaw+DfNiihYgNvRWK4/hyRjn3r8WvjN8MviF4C+LPiPTvhtZ6lDo8l86W6QswDID0IHUA5x7Ve/ZF1f9pX4C/Gq1+Ifw90PV7e6mgms71o7QP58EowyMrgqwJCnB9K3w+UQxleFF4hw52lzSb5Y3aXM7Juy3dtbHRRzrCu0qlKEl17/fc/W6f/gsjpGtX40z4Zadp1280IVYYPAdsv70nO8ZQnPPToK7z4a/tKftD/ETU7TQPEur6nbpdgMmnrFHak5PUwwquPq3Wvk34QwftUfE/GtfE3xmnhm0LAiy0SwhiupgezSxouzPfb+dfdv7DPwl0rQtcivhZx4Ub1eWQtJu6lmZslmPqfWnmXD+DyjESgsSq1usYyjF+a5tWvkh18+w+IXJQpJeZ//Z\"}}\n",
    "```\n",
    "\n"
   ]
  },
  {
   "cell_type": "markdown",
   "metadata": {
    "id": "batchpredictionjobs_create:migration,new"
   },
   "source": [
    "### [projects.locations.batchPredictionJobs.create](https://cloud.google.com/ai-platform-unified/docs/reference/rest/v1beta1/projects.locations.batchPredictionJobs/create)\n",
    "\n"
   ]
  },
  {
   "cell_type": "markdown",
   "metadata": {
    "id": "request:migration"
   },
   "source": [
    "#### Request\n",
    "\n"
   ]
  },
  {
   "cell_type": "code",
   "execution_count": null,
   "metadata": {
    "id": "batchpredictionjobs_create:migration,new,request,icn",
    "outputId": "7907caa6-9cad-45a1-83dd-a728436fca59"
   },
   "outputs": [],
   "source": [
    "batch_prediction_job = {\n",
    "    \"display_name\": \"custom_container_TF\" + TIMESTAMP,\n",
    "    \"model\": model_id,\n",
    "    \"input_config\": {\n",
    "        \"instances_format\": \"jsonl\",\n",
    "        \"gcs_source\": {\n",
    "            \"uris\": [gcs_input_uri]\n",
    "        }\n",
    "    },\n",
    "    \"model_parameters\": ParseDict(\n",
    "        {\n",
    "            'confidenceThreshold': 0.5,\n",
    "            \"maxPredictions\": 2\n",
    "        },\n",
    "        Value()\n",
    "    ),\n",
    "    \"output_config\": {\n",
    "        \"predictions_format\": \"jsonl\",\n",
    "        \"gcs_destination\": {\n",
    "            \"output_uri_prefix\": \"gs://\" + f\"{BUCKET_NAME}/batch_output/\"\n",
    "        }\n",
    "    },\n",
    "    \"dedicated_resources\": {\n",
    "        \"machine_spec\": {\n",
    "            \"machine_type\": \"n1-standard-2\",\n",
    "            \"accelerator_type\": 0\n",
    "        },\n",
    "        \"starting_replica_count\": 1,\n",
    "        \"max_replica_count\": 1\n",
    "    }\n",
    "}\n",
    "\n",
    "print(MessageToJson(\n",
    "    aip.CreateBatchPredictionJobRequest(\n",
    "        parent=PARENT,\n",
    "        batch_prediction_job=batch_prediction_job\n",
    "    ).__dict__[\"_pb\"])\n",
    ")\n"
   ]
  },
  {
   "cell_type": "markdown",
   "metadata": {
    "id": "uTo1w7CQdx9J"
   },
   "source": [
    "*Example output*:\n",
    "```\n",
    "{\n",
    "  \"parent\": \"projects/f33-ucaip-training/locations/us-central1\",\n",
    "  \"batchPredictionJob\": {\n",
    "    \"displayName\": \"custom_container_TF20210226022223\",\n",
    "    \"model\": \"projects/116273516712/locations/us-central1/models/394223297069318144\",\n",
    "    \"inputConfig\": {\n",
    "      \"instancesFormat\": \"jsonl\",\n",
    "      \"gcsSource\": {\n",
    "        \"uris\": [\n",
    "          \"gs://f33-ucaip-trainingaip-20210226022223/test.jsonl\"\n",
    "        ]\n",
    "      }\n",
    "    },\n",
    "    \"modelParameters\": {\n",
    "      \"confidenceThreshold\": 0.5,\n",
    "      \"maxPredictions\": 2.0\n",
    "    },\n",
    "    \"outputConfig\": {\n",
    "      \"predictionsFormat\": \"jsonl\",\n",
    "      \"gcsDestination\": {\n",
    "        \"outputUriPrefix\": \"gs://f33-ucaip-trainingaip-20210226022223/batch_output/\"\n",
    "      }\n",
    "    },\n",
    "    \"dedicatedResources\": {\n",
    "      \"machineSpec\": {\n",
    "        \"machineType\": \"n1-standard-2\"\n",
    "      },\n",
    "      \"startingReplicaCount\": 1,\n",
    "      \"maxReplicaCount\": 1\n",
    "    }\n",
    "  }\n",
    "}\n",
    "```\n",
    "\n"
   ]
  },
  {
   "cell_type": "markdown",
   "metadata": {
    "id": "call:migration"
   },
   "source": [
    "#### Call\n",
    "\n"
   ]
  },
  {
   "cell_type": "code",
   "execution_count": null,
   "metadata": {
    "id": "batchpredictionjobs_create:migration,new,call"
   },
   "outputs": [],
   "source": [
    "request = clients[\"job\"].create_batch_prediction_job(\n",
    "    parent=PARENT,\n",
    "    batch_prediction_job=batch_prediction_job\n",
    ")\n"
   ]
  },
  {
   "cell_type": "markdown",
   "metadata": {
    "id": "response:migration"
   },
   "source": [
    "#### Response\n",
    "\n"
   ]
  },
  {
   "cell_type": "code",
   "execution_count": null,
   "metadata": {
    "id": "print:migration,new,request",
    "outputId": "f499e9a7-cde1-458b-b1f0-ae7dcf3a753d"
   },
   "outputs": [],
   "source": [
    "print(MessageToJson(request.__dict__[\"_pb\"]))\n"
   ]
  },
  {
   "cell_type": "markdown",
   "metadata": {
    "id": "batchpredictionjobs_create:migration,new,response,icn"
   },
   "source": [
    "*Example output*:\n",
    "```\n",
    "{\n",
    "  \"name\": \"projects/116273516712/locations/us-central1/batchPredictionJobs/2465140253845880832\",\n",
    "  \"displayName\": \"custom_container_TF20210226022223\",\n",
    "  \"model\": \"projects/116273516712/locations/us-central1/models/394223297069318144\",\n",
    "  \"inputConfig\": {\n",
    "    \"instancesFormat\": \"jsonl\",\n",
    "    \"gcsSource\": {\n",
    "      \"uris\": [\n",
    "        \"gs://f33-ucaip-trainingaip-20210226022223/test.jsonl\"\n",
    "      ]\n",
    "    }\n",
    "  },\n",
    "  \"modelParameters\": {\n",
    "    \"maxPredictions\": 2.0,\n",
    "    \"confidenceThreshold\": 0.5\n",
    "  },\n",
    "  \"outputConfig\": {\n",
    "    \"predictionsFormat\": \"jsonl\",\n",
    "    \"gcsDestination\": {\n",
    "      \"outputUriPrefix\": \"gs://f33-ucaip-trainingaip-20210226022223/batch_output/\"\n",
    "    }\n",
    "  },\n",
    "  \"dedicatedResources\": {\n",
    "    \"machineSpec\": {\n",
    "      \"machineType\": \"n1-standard-2\"\n",
    "    },\n",
    "    \"startingReplicaCount\": 1,\n",
    "    \"maxReplicaCount\": 1\n",
    "  },\n",
    "  \"manualBatchTuningParameters\": {},\n",
    "  \"state\": \"JOB_STATE_PENDING\",\n",
    "  \"createTime\": \"2021-02-26T09:39:46.357554Z\",\n",
    "  \"updateTime\": \"2021-02-26T09:39:46.357554Z\"\n",
    "}\n",
    "```\n",
    "\n"
   ]
  },
  {
   "cell_type": "code",
   "execution_count": null,
   "metadata": {
    "id": "batch_job_id:migration,new,response",
    "outputId": "8b9a5dfc-120a-48b8-fbe7-591308a66ffc"
   },
   "outputs": [],
   "source": [
    "# The fully qualified ID for the batch job\n",
    "batch_job_id = request.name\n",
    "# The short numeric ID for the batch job\n",
    "batch_job_short_id = batch_job_id.split('/')[-1]\n",
    "\n",
    "print(batch_job_id)\n"
   ]
  },
  {
   "cell_type": "markdown",
   "metadata": {
    "id": "batchpredictionjobs_get:migration,new"
   },
   "source": [
    "### [projects.locations.batchPredictionJobs.get](https://cloud.google.com/ai-platform-unified/docs/reference/rest/v1beta1/projects.locations.batchPredictionJobs/get)\n",
    "\n"
   ]
  },
  {
   "cell_type": "markdown",
   "metadata": {
    "id": "hdp39iMPdx9M"
   },
   "source": [
    "#### Call\n",
    "\n"
   ]
  },
  {
   "cell_type": "code",
   "execution_count": null,
   "metadata": {
    "id": "batchpredictionjobs_get:migration,new,call"
   },
   "outputs": [],
   "source": [
    "request = clients[\"job\"].get_batch_prediction_job(\n",
    "    name=batch_job_id\n",
    ")\n"
   ]
  },
  {
   "cell_type": "markdown",
   "metadata": {
    "id": "FyPU67HYdx9N"
   },
   "source": [
    "#### Response\n",
    "\n"
   ]
  },
  {
   "cell_type": "code",
   "execution_count": null,
   "metadata": {
    "id": "SIX1qajtdx9N",
    "outputId": "7ee23151-1094-4b40-a8ef-df1f84a37ea0"
   },
   "outputs": [],
   "source": [
    "print(MessageToJson(request.__dict__[\"_pb\"]))\n"
   ]
  },
  {
   "cell_type": "markdown",
   "metadata": {
    "id": "batchpredictionjobs_get:migration,new,response,icn"
   },
   "source": [
    "*Example output*:\n",
    "```\n",
    "{\n",
    "  \"name\": \"projects/116273516712/locations/us-central1/batchPredictionJobs/2465140253845880832\",\n",
    "  \"displayName\": \"custom_container_TF20210226022223\",\n",
    "  \"model\": \"projects/116273516712/locations/us-central1/models/394223297069318144\",\n",
    "  \"inputConfig\": {\n",
    "    \"instancesFormat\": \"jsonl\",\n",
    "    \"gcsSource\": {\n",
    "      \"uris\": [\n",
    "        \"gs://f33-ucaip-trainingaip-20210226022223/test.jsonl\"\n",
    "      ]\n",
    "    }\n",
    "  },\n",
    "  \"modelParameters\": {\n",
    "    \"confidenceThreshold\": 0.5,\n",
    "    \"maxPredictions\": 2.0\n",
    "  },\n",
    "  \"outputConfig\": {\n",
    "    \"predictionsFormat\": \"jsonl\",\n",
    "    \"gcsDestination\": {\n",
    "      \"outputUriPrefix\": \"gs://f33-ucaip-trainingaip-20210226022223/batch_output/\"\n",
    "    }\n",
    "  },\n",
    "  \"dedicatedResources\": {\n",
    "    \"machineSpec\": {\n",
    "      \"machineType\": \"n1-standard-2\"\n",
    "    },\n",
    "    \"startingReplicaCount\": 1,\n",
    "    \"maxReplicaCount\": 1\n",
    "  },\n",
    "  \"manualBatchTuningParameters\": {},\n",
    "  \"state\": \"JOB_STATE_PENDING\",\n",
    "  \"createTime\": \"2021-02-26T09:39:46.357554Z\",\n",
    "  \"updateTime\": \"2021-02-26T09:39:46.357554Z\"\n",
    "}\n",
    "```\n",
    "\n"
   ]
  },
  {
   "cell_type": "code",
   "execution_count": null,
   "metadata": {
    "id": "batchpredictionjobs_get:migration,new,wait",
    "outputId": "9417af70-087e-4a79-bb99-e5ca1dc7ddb0"
   },
   "outputs": [],
   "source": [
    "def get_latest_predictions(gcs_out_dir):\n",
    "    ''' Get the latest prediction subfolder using the timestamp in the subfolder name'''\n",
    "    folders = !gsutil ls $gcs_out_dir\n",
    "    latest = \"\"\n",
    "    for folder in folders:\n",
    "        subfolder = folder.split('/')[-2]\n",
    "        if subfolder.startswith('prediction-'):\n",
    "            if subfolder > latest:\n",
    "                latest = folder[:-1]\n",
    "    return latest\n",
    "\n",
    "while True:\n",
    "    response = clients[\"job\"].get_batch_prediction_job(name=batch_job_id)\n",
    "    if response.state != aip.JobState.JOB_STATE_SUCCEEDED:\n",
    "        print(\"The job has not completed:\", response.state)\n",
    "        if response.state == aip.JobState.JOB_STATE_FAILED:\n",
    "            break\n",
    "    else:\n",
    "        folder = get_latest_predictions(response.output_config.gcs_destination.output_uri_prefix)\n",
    "        ! gsutil ls $folder/prediction*\n",
    "\n",
    "        ! gsutil cat $folder/prediction*\n",
    "        break\n",
    "    time.sleep(60)\n"
   ]
  },
  {
   "cell_type": "markdown",
   "metadata": {
    "id": "batchpredictionjobs_get:migration,new,wait,icn"
   },
   "source": [
    "*Example output*:\n",
    "```\n",
    "gs://f33-ucaip-trainingaip-20210226022223/batch_output/prediction-custom_container_TF20210226022223-2021_02_26T01_39_46_305Z/prediction.errors_stats-00000-of-00001\n",
    "gs://f33-ucaip-trainingaip-20210226022223/batch_output/prediction-custom_container_TF20210226022223-2021_02_26T01_39_46_305Z/prediction.results-00000-of-00001\n",
    "{\"instance\": {\"bytes_inputs\": {\"b64\": \"/9j/4AAQSkZJRgABAQAAAQABAAD/2wBDAAIBAQEBAQIBAQECAgICAgQDAgICAgUEBAMEBgUGBgYFBgYGBwkIBgcJBwYGCAsICQoKCgoKBggLDAsKDAkKCgr/2wBDAQICAgICAgUDAwUKBwYHCgoKCgoKCgoKCgoKCgoKCgoKCgoKCgoKCgoKCgoKCgoKCgoKCgoKCgoKCgoKCgoKCgr/wAARCAAgACADASIAAhEBAxEB/8QAHwAAAQUBAQEBAQEAAAAAAAAAAAECAwQFBgcICQoL/8QAtRAAAgEDAwIEAwUFBAQAAAF9AQIDAAQRBRIhMUEGE1FhByJxFDKBkaEII0KxwRVS0fAkM2JyggkKFhcYGRolJicoKSo0NTY3ODk6Q0RFRkdISUpTVFVWV1hZWmNkZWZnaGlqc3R1dnd4eXqDhIWGh4iJipKTlJWWl5iZmqKjpKWmp6ipqrKztLW2t7i5usLDxMXGx8jJytLT1NXW19jZ2uHi4+Tl5ufo6erx8vP09fb3+Pn6/8QAHwEAAwEBAQEBAQEBAQAAAAAAAAECAwQFBgcICQoL/8QAtREAAgECBAQDBAcFBAQAAQJ3AAECAxEEBSExBhJBUQdhcRMiMoEIFEKRobHBCSMzUvAVYnLRChYkNOEl8RcYGRomJygpKjU2Nzg5OkNERUZHSElKU1RVVldYWVpjZGVmZ2hpanN0dXZ3eHl6goOEhYaHiImKkpOUlZaXmJmaoqOkpaanqKmqsrO0tba3uLm6wsPExcbHyMnK0tPU1dbX2Nna4uPk5ebn6Onq8vP09fb3+Pn6/9oADAMBAAIRAxEAPwD570PxBpmp6nfaEl48lzpUqpewPCU8lpEDqMsOeD26Z55Fa+s3HhnR/Aj6xZjV7rWrW4ke/wBMtLRGRLTaux1cuPnLlhtIAAUEE5490/ao8E6F4b8P3NxZeGksNW1z4h62Iby2t1/eC3ZoozJxwSiKQOhEZJ5JrqZtI8MftFfs56j8YI/hvo/gq1u9C0ywlbTbFoLa+1SOFWlgPGRmNiQzNkiPOflyf1WHFdark0K8UlUbkvJWel1vqmn5n5MuD6MM7qUJzbpxUXazvJSWtmuzTR8iaBoXirx54H1Hxo10mhx2V/8AZltpEE7ByAV8w8YLdRjAHAz1NcSNcXUtev8AwVrE0DajaQ+YZLY4jnXPJXrkjPPTPXGDXvXwi+F3hvwh8Ffip4i1a7GqX7a1b6fp0c84SKO3Wz3FiCdpHnSHDZ2/KAOtfP8A4v8Ah1qOoWul/Efwu4sL+wk8u2IkUi7JRhtwM5RgBkHpz0xXy+F4gzNY6Mqs3NTfvR6a6adj6bGcPZX/AGfKFKEYcqupemurufqP8c9Il/aA8BeHNS+HHh/7Ze634p0rUtMhsFWUJNdsFlR8HAAWWRXBPrmvGvi5+y/B+z1+0ZqHwW+PXx08LaL4VtJI75dOtPEksgfe8krskKIDCZWdCUkyU2MRuVga5X9lr9qAfsk/tCWPjTW9Ol1XwzpurtdXei27gBJTEyJcxBsDcu/OOAwBHBwa8S+JXxltPi3431/x34y8TT/2tqmpy3V1d6h8/mOzFiN46LkgDpgcdOK/HcPxo/qMalONqkn70ei816307I/Xa/C0XjXTrO8EtJdfR/cUfiz4m8aaBJefD/4NXcd4CJ7f/hI7bVXitZ4HkPzSQMvMxRUUTAEqFGCM4EPw/wDAsnhjwZEmrzte6ipKmWeYSbAV+bYTjAJBPTgNjNbOk+HYdL0qPxPcWsN5BK2FaO43q3fHUH8eld34kku/hP4LsvHPiPRtPvZNSkU6fYSFStvED8zsqjLsq5IBwOB1Jri/4iFn2BxSq0Yxulyq8eZLp1f4ms+BMkx2FlRquVm7u0uVvrbRH//Z\"}}, \"prediction\": [0.0441863872, 0.0965465382, 0.131534964, 0.111121729, 0.133242682, 0.0896093622, 0.160808876, 0.116257414, 0.0309254956, 0.0857665]}\n",
    "{\"instance\": {\"bytes_inputs\": {\"b64\": \"/9j/4AAQSkZJRgABAQAAAQABAAD/2wBDAAIBAQEBAQIBAQECAgICAgQDAgICAgUEBAMEBgUGBgYFBgYGBwkIBgcJBwYGCAsICQoKCgoKBggLDAsKDAkKCgr/2wBDAQICAgICAgUDAwUKBwYHCgoKCgoKCgoKCgoKCgoKCgoKCgoKCgoKCgoKCgoKCgoKCgoKCgoKCgoKCgoKCgoKCgr/wAARCAAgACADASIAAhEBAxEB/8QAHwAAAQUBAQEBAQEAAAAAAAAAAAECAwQFBgcICQoL/8QAtRAAAgEDAwIEAwUFBAQAAAF9AQIDAAQRBRIhMUEGE1FhByJxFDKBkaEII0KxwRVS0fAkM2JyggkKFhcYGRolJicoKSo0NTY3ODk6Q0RFRkdISUpTVFVWV1hZWmNkZWZnaGlqc3R1dnd4eXqDhIWGh4iJipKTlJWWl5iZmqKjpKWmp6ipqrKztLW2t7i5usLDxMXGx8jJytLT1NXW19jZ2uHi4+Tl5ufo6erx8vP09fb3+Pn6/8QAHwEAAwEBAQEBAQEBAQAAAAAAAAECAwQFBgcICQoL/8QAtREAAgECBAQDBAcFBAQAAQJ3AAECAxEEBSExBhJBUQdhcRMiMoEIFEKRobHBCSMzUvAVYnLRChYkNOEl8RcYGRomJygpKjU2Nzg5OkNERUZHSElKU1RVVldYWVpjZGVmZ2hpanN0dXZ3eHl6goOEhYaHiImKkpOUlZaXmJmaoqOkpaanqKmqsrO0tba3uLm6wsPExcbHyMnK0tPU1dbX2Nna4uPk5ebn6Onq8vP09fb3+Pn6/9oADAMBAAIRAxEAPwD9qIntrti9vhg3KkLwR69Kbc3FrYskd1LGjOjsqNjJCjLH8Mj8xXw3+yr+3v8ABbUZL2/8L/G/4ja2L0raac/xAvEbTmndtyLFKOd5AwcZwCSccV6X8Xv22/jD4K+L2n+BPA/7H+qeP4v7LSb/AISLQNYjW0ieTmWLfIoUBQiksxA6VxwxtN0VOWn4nTPC1Y1XBHpuqftI6BZ+MrDw/FZSw2dyzRyXl3p8g/eblCgbcjBG/k8dPevU1tCWIKj/AL5r5+8aftTfCqx+H9leeM/i1pXw51aWJvtWkWF1b6ldQnkqnmRqyg9c7fXGag/Zm/aY+HL69d6MPjvr/jVNWm32M19pcgSwREyVZygAJO7PbAFZ08TUjNqpt32/AdSiuVOK2PyC/Zs/4LOfs7/s+fAbQvgz4K/Ywu7rw94Bd4op9WsbfUZ1u5CGlupHBBLSMCd2MYAA4Fe0eGf+Dm/4deO9EuvDvhvSLjSWt7MpPaw+DfNiihYgNvRWK4/hyRjn3r8WvjN8MviF4C+LPiPTvhtZ6lDo8l86W6QswDID0IHUA5x7Ve/ZF1f9pX4C/Gq1+Ifw90PV7e6mgms71o7QP58EowyMrgqwJCnB9K3w+UQxleFF4hw52lzSb5Y3aXM7Juy3dtbHRRzrCu0qlKEl17/fc/W6f/gsjpGtX40z4Zadp1280IVYYPAdsv70nO8ZQnPPToK7z4a/tKftD/ETU7TQPEur6nbpdgMmnrFHak5PUwwquPq3Wvk34QwftUfE/GtfE3xmnhm0LAiy0SwhiupgezSxouzPfb+dfdv7DPwl0rQtcivhZx4Ub1eWQtJu6lmZslmPqfWnmXD+DyjESgsSq1usYyjF+a5tWvkh18+w+IXJQpJeZ//Z\"}}, \"prediction\": [0.0441891, 0.0966139063, 0.131601468, 0.111363865, 0.133115292, 0.0897044092, 0.160883322, 0.115729697, 0.0310073923, 0.0857914686]}\n",
    "```\n",
    "\n"
   ]
  },
  {
   "cell_type": "markdown",
   "metadata": {
    "id": "make_online_predictions:migration"
   },
   "source": [
    "## Make online predictions\n",
    "\n"
   ]
  },
  {
   "cell_type": "markdown",
   "metadata": {
    "id": "endpoints_create:migration,new"
   },
   "source": [
    "### [projects.locations.endpoints.create](https://cloud.google.com/ai-platform-unified/docs/reference/rest/v1beta1/projects.locations.endpoints/create)\n",
    "\n"
   ]
  },
  {
   "cell_type": "markdown",
   "metadata": {
    "id": "3Md5r_ytdx9P"
   },
   "source": [
    "#### Request\n",
    "\n"
   ]
  },
  {
   "cell_type": "code",
   "execution_count": null,
   "metadata": {
    "id": "endpoints_create:migration,new,request",
    "outputId": "ebec7ded-fe08-4466-a26b-6cff2ae5b74e"
   },
   "outputs": [],
   "source": [
    "endpoint = {\n",
    "    \"display_name\": \"custom_container_TF\" + TIMESTAMP\n",
    "}\n",
    "\n",
    "print(MessageToJson(\n",
    "    aip.CreateEndpointRequest(\n",
    "        parent=PARENT,\n",
    "        endpoint=endpoint\n",
    "    ).__dict__[\"_pb\"])\n",
    ")\n"
   ]
  },
  {
   "cell_type": "markdown",
   "metadata": {
    "id": "__Sqn83udx9P"
   },
   "source": [
    "*Example output*:\n",
    "```\n",
    "{\n",
    "  \"parent\": \"projects/f33-ucaip-training/locations/us-central1\",\n",
    "  \"endpoint\": {\n",
    "    \"displayName\": \"custom_container_TF20210226022223\"\n",
    "  }\n",
    "}\n",
    "```\n",
    "\n"
   ]
  },
  {
   "cell_type": "markdown",
   "metadata": {
    "id": "FIjM1WQVdx9P"
   },
   "source": [
    "#### Call\n",
    "\n"
   ]
  },
  {
   "cell_type": "code",
   "execution_count": null,
   "metadata": {
    "id": "endpoints_create:migration,new,call"
   },
   "outputs": [],
   "source": [
    "request = clients[\"endpoint\"].create_endpoint(\n",
    "    parent=PARENT,\n",
    "    endpoint=endpoint\n",
    ")\n"
   ]
  },
  {
   "cell_type": "markdown",
   "metadata": {
    "id": "6wQWT-6Zdx9P"
   },
   "source": [
    "#### Response\n",
    "\n"
   ]
  },
  {
   "cell_type": "code",
   "execution_count": null,
   "metadata": {
    "id": "print:migration,new,response",
    "outputId": "3d4de89f-888c-4e39-d01d-4d291da4c206"
   },
   "outputs": [],
   "source": [
    "result = request.result()\n",
    "\n",
    "print(MessageToJson(result.__dict__[\"_pb\"]))\n"
   ]
  },
  {
   "cell_type": "markdown",
   "metadata": {
    "id": "endpoints_create:migration,new,response"
   },
   "source": [
    "*Example output*:\n",
    "```\n",
    "{\n",
    "  \"name\": \"projects/116273516712/locations/us-central1/endpoints/2977125644296519680\"\n",
    "}\n",
    "```\n",
    "\n"
   ]
  },
  {
   "cell_type": "code",
   "execution_count": null,
   "metadata": {
    "id": "endpoint_id:migration,new,response",
    "outputId": "5cdc64dd-e4ca-4961-e5fb-88ac9761b162"
   },
   "outputs": [],
   "source": [
    "# The full unique ID for the endpoint\n",
    "endpoint_id = result.name\n",
    "# The short numeric ID for the endpoint\n",
    "endpoint_short_id = endpoint_id.split('/')[-1]\n",
    "\n",
    "print(endpoint_id)\n"
   ]
  },
  {
   "cell_type": "markdown",
   "metadata": {
    "id": "endpoints_deploymodel:migration,new"
   },
   "source": [
    "### [projects.locations.endpoints.deployModel](https://cloud.google.com/ai-platform-unified/docs/reference/rest/v1beta1/projects.locations.endpoints/deployModel)\n",
    "\n"
   ]
  },
  {
   "cell_type": "markdown",
   "metadata": {
    "id": "UYdBoNpWdx9Q"
   },
   "source": [
    "#### Request\n",
    "\n"
   ]
  },
  {
   "cell_type": "code",
   "execution_count": null,
   "metadata": {
    "id": "endpoints_deploymodel:migration,new,request",
    "outputId": "ed28e495-ec26-4af2-979b-427895e4a6dd"
   },
   "outputs": [],
   "source": [
    "deployed_model = {\n",
    "    \"model\": model_id,\n",
    "    \"display_name\": \"custom_container_TF\" + TIMESTAMP,\n",
    "    \"dedicated_resources\": {\n",
    "        \"min_replica_count\": 1,\n",
    "        \"machine_spec\": {\n",
    "            \"machine_type\": 'n1-standard-4',\n",
    "            \"accelerator_count\": 0            \n",
    "        }\n",
    "    }\n",
    "}\n",
    "\n",
    "print(MessageToJson(\n",
    "    aip.DeployModelRequest(\n",
    "        endpoint=endpoint_id,\n",
    "        deployed_model=deployed_model,\n",
    "        traffic_split={\"0\": 100}\n",
    "    ).__dict__[\"_pb\"])\n",
    ")\n"
   ]
  },
  {
   "cell_type": "markdown",
   "metadata": {
    "id": "wR4HXvHHdx9R"
   },
   "source": [
    "*Example output*:\n",
    "```\n",
    "{\n",
    "  \"endpoint\": \"projects/116273516712/locations/us-central1/endpoints/2977125644296519680\",\n",
    "  \"deployedModel\": {\n",
    "    \"model\": \"projects/116273516712/locations/us-central1/models/394223297069318144\",\n",
    "    \"displayName\": \"custom_container_TF20210226022223\",\n",
    "    \"dedicatedResources\": {\n",
    "      \"machineSpec\": {\n",
    "        \"machineType\": \"n1-standard-4\"\n",
    "      },\n",
    "      \"minReplicaCount\": 1\n",
    "    }\n",
    "  },\n",
    "  \"trafficSplit\": {\n",
    "    \"0\": 100\n",
    "  }\n",
    "}\n",
    "```\n",
    "\n"
   ]
  },
  {
   "cell_type": "markdown",
   "metadata": {
    "id": "HQmSPoszdx9R"
   },
   "source": [
    "#### Call\n",
    "\n"
   ]
  },
  {
   "cell_type": "code",
   "execution_count": null,
   "metadata": {
    "id": "endpoints_deploymodel:migration,new,call"
   },
   "outputs": [],
   "source": [
    "request = clients[\"endpoint\"].deploy_model(\n",
    "    endpoint=endpoint_id,\n",
    "    deployed_model=deployed_model,\n",
    "    traffic_split={\"0\": 100}\n",
    ")\n"
   ]
  },
  {
   "cell_type": "markdown",
   "metadata": {
    "id": "z99BIGGsdx9R"
   },
   "source": [
    "#### Response\n",
    "\n"
   ]
  },
  {
   "cell_type": "code",
   "execution_count": null,
   "metadata": {
    "id": "MPuA3Eoidx9R",
    "outputId": "029d8096-a1ac-4283-9fb1-cf9a9712d14a"
   },
   "outputs": [],
   "source": [
    "result = request.result()\n",
    "\n",
    "print(MessageToJson(result.__dict__[\"_pb\"]))\n"
   ]
  },
  {
   "cell_type": "markdown",
   "metadata": {
    "id": "endpoints_deploymodel:migration,new,response"
   },
   "source": [
    "*Example output*:\n",
    "```\n",
    "{\n",
    "  \"deployedModel\": {\n",
    "    \"id\": \"1297564458264035328\"\n",
    "  }\n",
    "}\n",
    "```\n",
    "\n"
   ]
  },
  {
   "cell_type": "code",
   "execution_count": null,
   "metadata": {
    "id": "deployed_model_id:migration,new,response",
    "outputId": "47776193-0322-4d6b-e1f7-811bcb4f9dfb"
   },
   "outputs": [],
   "source": [
    "# The unique ID for the deployed model\n",
    "deployed_model_id = result.deployed_model.id\n",
    "\n",
    "print(deployed_model_id)\n"
   ]
  },
  {
   "cell_type": "markdown",
   "metadata": {
    "id": "endpoints_predict:migration,new"
   },
   "source": [
    "### [projects.locations.endpoints.predict](https://cloud.google.com/ai-platform-unified/docs/reference/rest/v1beta1/projects.locations.endpoints/predict)\n",
    "\n"
   ]
  },
  {
   "cell_type": "markdown",
   "metadata": {
    "id": "03LnDUvjdx9S"
   },
   "source": [
    "### Prepare file for online prediction"
   ]
  },
  {
   "cell_type": "code",
   "execution_count": null,
   "metadata": {
    "id": "Rje-QRuYdx9T",
    "outputId": "2a10178b-d034-4628-872b-d38b34b8cd09"
   },
   "outputs": [],
   "source": [
    "import base64\n",
    "import cv2\n",
    "\n",
    "test_image = x_test[0]\n",
    "test_label = y_test[0]\n",
    "\n",
    "print(test_image.shape)\n",
    "\n",
    "cv2.imwrite('tmp.jpg', (test_image * 255).astype(np.uint8))\n",
    "bytes = tf.io.read_file('tmp.jpg')\n",
    "b64str = base64.b64encode(bytes.numpy()).decode('utf-8')"
   ]
  },
  {
   "cell_type": "markdown",
   "metadata": {
    "id": "r1Tk5DVkdx9T"
   },
   "source": [
    "#### Request\n",
    "\n"
   ]
  },
  {
   "cell_type": "code",
   "execution_count": null,
   "metadata": {
    "id": "endpoints_predict:migration,new,request,icn",
    "outputId": "be297443-d696-4732-cb33-31023071d430"
   },
   "outputs": [],
   "source": [
    "instances_list = [{'bytes_inputs': {'b64': b64str}}]\n",
    "\n",
    "prediction_request = aip.PredictRequest(endpoint=endpoint_id)\n",
    "prediction_request.instances.append(instances_list)\n",
    "\n",
    "print(\n",
    "    MessageToJson(\n",
    "        prediction_request.__dict__[\"_pb\"]\n",
    "    )\n",
    ")\n"
   ]
  },
  {
   "cell_type": "markdown",
   "metadata": {
    "id": "FGY9u-IZdx9U"
   },
   "source": [
    "*Example output*:\n",
    "```\n",
    "{\n",
    "  \"endpoint\": \"projects/116273516712/locations/us-central1/endpoints/2977125644296519680\",\n",
    "  \"instances\": [\n",
    "    [\n",
    "      {\n",
    "        \"bytes_inputs\": {\n",
    "          \"b64\": \"/9j/4AAQSkZJRgABAQAAAQABAAD/2wBDAAIBAQEBAQIBAQECAgICAgQDAgICAgUEBAMEBgUGBgYFBgYGBwkIBgcJBwYGCAsICQoKCgoKBggLDAsKDAkKCgr/2wBDAQICAgICAgUDAwUKBwYHCgoKCgoKCgoKCgoKCgoKCgoKCgoKCgoKCgoKCgoKCgoKCgoKCgoKCgoKCgoKCgoKCgr/wAARCAAgACADASIAAhEBAxEB/8QAHwAAAQUBAQEBAQEAAAAAAAAAAAECAwQFBgcICQoL/8QAtRAAAgEDAwIEAwUFBAQAAAF9AQIDAAQRBRIhMUEGE1FhByJxFDKBkaEII0KxwRVS0fAkM2JyggkKFhcYGRolJicoKSo0NTY3ODk6Q0RFRkdISUpTVFVWV1hZWmNkZWZnaGlqc3R1dnd4eXqDhIWGh4iJipKTlJWWl5iZmqKjpKWmp6ipqrKztLW2t7i5usLDxMXGx8jJytLT1NXW19jZ2uHi4+Tl5ufo6erx8vP09fb3+Pn6/8QAHwEAAwEBAQEBAQEBAQAAAAAAAAECAwQFBgcICQoL/8QAtREAAgECBAQDBAcFBAQAAQJ3AAECAxEEBSExBhJBUQdhcRMiMoEIFEKRobHBCSMzUvAVYnLRChYkNOEl8RcYGRomJygpKjU2Nzg5OkNERUZHSElKU1RVVldYWVpjZGVmZ2hpanN0dXZ3eHl6goOEhYaHiImKkpOUlZaXmJmaoqOkpaanqKmqsrO0tba3uLm6wsPExcbHyMnK0tPU1dbX2Nna4uPk5ebn6Onq8vP09fb3+Pn6/9oADAMBAAIRAxEAPwD570PxBpmp6nfaEl48lzpUqpewPCU8lpEDqMsOeD26Z55Fa+s3HhnR/Aj6xZjV7rWrW4ke/wBMtLRGRLTaux1cuPnLlhtIAAUEE5490/ao8E6F4b8P3NxZeGksNW1z4h62Iby2t1/eC3ZoozJxwSiKQOhEZJ5JrqZtI8MftFfs56j8YI/hvo/gq1u9C0ywlbTbFoLa+1SOFWlgPGRmNiQzNkiPOflyf1WHFdark0K8UlUbkvJWel1vqmn5n5MuD6MM7qUJzbpxUXazvJSWtmuzTR8iaBoXirx54H1Hxo10mhx2V/8AZltpEE7ByAV8w8YLdRjAHAz1NcSNcXUtev8AwVrE0DajaQ+YZLY4jnXPJXrkjPPTPXGDXvXwi+F3hvwh8Ffip4i1a7GqX7a1b6fp0c84SKO3Wz3FiCdpHnSHDZ2/KAOtfP8A4v8Ah1qOoWul/Efwu4sL+wk8u2IkUi7JRhtwM5RgBkHpz0xXy+F4gzNY6Mqs3NTfvR6a6adj6bGcPZX/AGfKFKEYcqupemurufqP8c9Il/aA8BeHNS+HHh/7Ze634p0rUtMhsFWUJNdsFlR8HAAWWRXBPrmvGvi5+y/B+z1+0ZqHwW+PXx08LaL4VtJI75dOtPEksgfe8krskKIDCZWdCUkyU2MRuVga5X9lr9qAfsk/tCWPjTW9Ol1XwzpurtdXei27gBJTEyJcxBsDcu/OOAwBHBwa8S+JXxltPi3431/x34y8TT/2tqmpy3V1d6h8/mOzFiN46LkgDpgcdOK/HcPxo/qMalONqkn70ei816307I/Xa/C0XjXTrO8EtJdfR/cUfiz4m8aaBJefD/4NXcd4CJ7f/hI7bVXitZ4HkPzSQMvMxRUUTAEqFGCM4EPw/wDAsnhjwZEmrzte6ipKmWeYSbAV+bYTjAJBPTgNjNbOk+HYdL0qPxPcWsN5BK2FaO43q3fHUH8eld34kku/hP4LsvHPiPRtPvZNSkU6fYSFStvED8zsqjLsq5IBwOB1Jri/4iFn2BxSq0Yxulyq8eZLp1f4ms+BMkx2FlRquVm7u0uVvrbRH//Z\"\n",
    "        }\n",
    "      }\n",
    "    ]\n",
    "  ]\n",
    "}\n",
    "```\n",
    "\n"
   ]
  },
  {
   "cell_type": "markdown",
   "metadata": {
    "id": "Xq2Faefidx9U"
   },
   "source": [
    "#### Call\n",
    "\n"
   ]
  },
  {
   "cell_type": "code",
   "execution_count": null,
   "metadata": {
    "id": "endpoints_predict:migration,new,call"
   },
   "outputs": [],
   "source": [
    "request = clients[\"prediction\"].predict(\n",
    "    endpoint=endpoint_id,\n",
    "    instances=instances_list\n",
    ")\n"
   ]
  },
  {
   "cell_type": "markdown",
   "metadata": {
    "id": "QU9j-Yijdx9V"
   },
   "source": [
    "#### Response\n",
    "\n"
   ]
  },
  {
   "cell_type": "code",
   "execution_count": null,
   "metadata": {
    "id": "dQew71RQdx9V",
    "outputId": "24392cee-d0c1-4c6c-cd96-5b5c003778c1"
   },
   "outputs": [],
   "source": [
    "print(MessageToJson(request.__dict__[\"_pb\"]))\n"
   ]
  },
  {
   "cell_type": "markdown",
   "metadata": {
    "id": "endpoints_predict:migration,new,response,icn"
   },
   "source": [
    "*Example output*:\n",
    "```\n",
    "{\n",
    "  \"predictions\": [\n",
    "    [\n",
    "      0.0441863947,\n",
    "      0.0965465382,\n",
    "      0.131534964,\n",
    "      0.111121736,\n",
    "      0.133242667,\n",
    "      0.0896093696,\n",
    "      0.160808861,\n",
    "      0.116257407,\n",
    "      0.0309255011,\n",
    "      0.0857665\n",
    "    ]\n",
    "  ],\n",
    "  \"deployedModelId\": \"1297564458264035328\"\n",
    "}\n",
    "```\n",
    "\n"
   ]
  },
  {
   "cell_type": "markdown",
   "metadata": {
    "id": "endpoints_undeploymodel:migration,new"
   },
   "source": [
    "### [projects.locations.endpoints.undeployModel](https://cloud.google.com/ai-platform-unified/docs/reference/rest/v1beta1/projects.locations.endpoints/undeployModel)\n",
    "\n"
   ]
  },
  {
   "cell_type": "markdown",
   "metadata": {
    "id": "IYlo41cBdx9W"
   },
   "source": [
    "#### Call\n",
    "\n"
   ]
  },
  {
   "cell_type": "code",
   "execution_count": null,
   "metadata": {
    "id": "endpoints_undeploymodel:migration,new,call"
   },
   "outputs": [],
   "source": [
    "request = clients['endpoint'].undeploy_model(\n",
    "    endpoint=endpoint_id, \n",
    "    deployed_model_id=deployed_model_id, \n",
    "    traffic_split={}\n",
    ")\n"
   ]
  },
  {
   "cell_type": "markdown",
   "metadata": {
    "id": "8_e5NspVdx9X"
   },
   "source": [
    "#### Response\n",
    "\n"
   ]
  },
  {
   "cell_type": "code",
   "execution_count": null,
   "metadata": {
    "id": "MdeQNL7idx9X",
    "outputId": "cb9c6a09-37b6-4436-c8cd-c8f37e787ea5"
   },
   "outputs": [],
   "source": [
    "result = request.result()\n",
    "\n",
    "print(MessageToJson(result.__dict__[\"_pb\"]))\n"
   ]
  },
  {
   "cell_type": "markdown",
   "metadata": {
    "id": "iha0pqA2TBDu"
   },
   "source": [
    "*Example output*:\n",
    "```\n",
    "{}\n",
    "```\n",
    "\n"
   ]
  },
  {
   "cell_type": "markdown",
   "metadata": {
    "id": "cleanup:migration,new"
   },
   "source": [
    "# Cleaning up\n",
    "\n",
    "To clean up all GCP resources used in this project, you can [delete the GCP\n",
    "project](https://cloud.google.com/resource-manager/docs/creating-managing-projects#shutting_down_projects) you used for the tutorial.\n",
    "\n",
    "Otherwise, you can delete the individual resources you created in this tutorial.\n",
    "\n"
   ]
  },
  {
   "cell_type": "code",
   "execution_count": null,
   "metadata": {
    "id": "G5pYm8a4dx9Y",
    "outputId": "1d7bde63-1ebc-4401-f55b-bff308e0762b"
   },
   "outputs": [],
   "source": [
    "delete_model = True\n",
    "delete_endpoint = True\n",
    "delete_custom_job = True\n",
    "delete_batchjob = True\n",
    "delete_bucket = True\n",
    "\n",
    "# Delete the model using the AI Platform (Unified) fully qualified identifier for the model\n",
    "try:\n",
    "    if delete_model:\n",
    "        clients['model'].delete_model(name=model_id)\n",
    "except Exception as e:\n",
    "    print(e)\n",
    "\n",
    "# Delete the endpoint using the AI Platform (Unified) fully qualified identifier for the endpoint\n",
    "try:\n",
    "    if delete_endpoint:\n",
    "        clients['endpoint'].delete_endpoint(name=endpoint_id)\n",
    "except Exception as e:\n",
    "    print(e)\n",
    "\n",
    "# Delete the custom training using the AI Platform (Unified) fully qualified identifier for the custom training\n",
    "try:\n",
    "    if delete_custom_job:\n",
    "        clients['job'].delete_custom_job(name=custom_training_id)\n",
    "except Exception as e:\n",
    "    print(e)\n",
    "\n",
    "# Delete the batch job using the AI Platform (Unified) fully qualified identifier for the batch job\n",
    "try:\n",
    "    if delete_batchjob:\n",
    "        clients['job'].delete_batch_prediction_job(name=batch_job_id)\n",
    "except Exception as e:\n",
    "    print(e)\n",
    "\n",
    "if delete_bucket and 'BUCKET_NAME' in globals():\n",
    "    ! gsutil rm -r gs://$BUCKET_NAME\n"
   ]
  },
  {
   "cell_type": "code",
   "execution_count": null,
   "metadata": {
    "id": "5wUxjk5WTBDu"
   },
   "outputs": [],
   "source": []
  }
 ],
 "metadata": {
  "colab": {
   "collapsed_sections": [
    "gcp_authenticate",
    "bucket:batch_prediction",
    "setup_vars",
    "import_aip",
    "aip_constants",
    "endpoints_predict:migration,new"
   ],
   "name": "[UJ.3 NEW] Custom Training Custom Container (TF Keras).ipynb",
   "provenance": []
  },
  "environment": {
   "name": "tf2-2-3-gpu.2-3.m55",
   "type": "gcloud",
   "uri": "gcr.io/deeplearning-platform-release/tf2-2-3-gpu.2-3:m55"
  },
  "kernelspec": {
   "display_name": "Python 3",
   "language": "python",
   "name": "python3"
  },
  "language_info": {
   "codemirror_mode": {
    "name": "ipython",
    "version": 3
   },
   "file_extension": ".py",
   "mimetype": "text/x-python",
   "name": "python",
   "nbconvert_exporter": "python",
   "pygments_lexer": "ipython3",
   "version": "3.7.8"
  }
 },
 "nbformat": 4,
 "nbformat_minor": 4
}
